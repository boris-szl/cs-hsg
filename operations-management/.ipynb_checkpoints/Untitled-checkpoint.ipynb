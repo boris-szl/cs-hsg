{
 "cells": [
  {
   "cell_type": "markdown",
   "id": "884d2c75-b544-4026-8724-fafb087d20c8",
   "metadata": {},
   "source": [
    "## OM meets Numpy"
   ]
  },
  {
   "cell_type": "code",
   "execution_count": 31,
   "id": "1fabf67e-ea2b-4d74-918d-7ab71e50c3da",
   "metadata": {},
   "outputs": [],
   "source": [
    "import numpy as np"
   ]
  },
  {
   "cell_type": "markdown",
   "id": "0d1faf94-479d-4a38-b285-3693303df730",
   "metadata": {},
   "source": [
    "## Measuring Forecast Error"
   ]
  },
  {
   "cell_type": "code",
   "execution_count": 32,
   "id": "3e87b152-e28b-41f3-a069-f95ba924c1fe",
   "metadata": {},
   "outputs": [],
   "source": [
    "true_values = np.array([10,12,16,13,17,19,15,20,22,19,21,19])\n",
    "forecasted_values = np.array([9,12,15,15,13,12,12,25,21,20,30,15])"
   ]
  },
  {
   "cell_type": "code",
   "execution_count": 33,
   "id": "0e90a9fd-03e7-48b9-8acd-f01443a11728",
   "metadata": {},
   "outputs": [
    {
     "data": {
      "text/plain": [
       "True"
      ]
     },
     "execution_count": 33,
     "metadata": {},
     "output_type": "execute_result"
    }
   ],
   "source": [
    "# check if both are equal in terms of size\n",
    "true_values.size == forecasted_values.size"
   ]
  },
  {
   "cell_type": "markdown",
   "id": "456b8871-ce79-42e4-9363-29fce54f9e79",
   "metadata": {},
   "source": [
    "### Absolute Error"
   ]
  },
  {
   "cell_type": "code",
   "execution_count": 37,
   "id": "61dfb202-4e75-41a3-be52-0f700b56b77c",
   "metadata": {},
   "outputs": [
    {
     "data": {
      "text/plain": [
       "array([1, 0, 1, 2, 4, 7, 3, 5, 1, 1, 9, 4])"
      ]
     },
     "execution_count": 37,
     "metadata": {},
     "output_type": "execute_result"
    }
   ],
   "source": [
    "absolute_error = (abs(true_values - forecasted_values))\n",
    "absolute_error"
   ]
  },
  {
   "cell_type": "markdown",
   "id": "de2718d4-cc35-4b97-9b76-7c841c764e39",
   "metadata": {},
   "source": [
    "### Mean Absolute Error"
   ]
  },
  {
   "cell_type": "code",
   "execution_count": 38,
   "id": "2907e19b-6155-4826-854e-d3118237510b",
   "metadata": {},
   "outputs": [
    {
     "data": {
      "text/plain": [
       "3.1666666666666665"
      ]
     },
     "execution_count": 38,
     "metadata": {},
     "output_type": "execute_result"
    }
   ],
   "source": [
    "absolute_error.mean()"
   ]
  },
  {
   "cell_type": "code",
   "execution_count": 40,
   "id": "7906b322-9246-49d9-adbb-bf1bceae2d5a",
   "metadata": {},
   "outputs": [
    {
     "data": {
      "text/plain": [
       "3.1666666666666665"
      ]
     },
     "execution_count": 40,
     "metadata": {},
     "output_type": "execute_result"
    }
   ],
   "source": [
    "# or\n",
    "absolute_error.sum() / absolute_error.size"
   ]
  },
  {
   "cell_type": "code",
   "execution_count": 46,
   "id": "afa6419d-4170-4f0a-8857-83781e5b48c8",
   "metadata": {},
   "outputs": [
    {
     "data": {
      "text/plain": [
       "3.166666666666667"
      ]
     },
     "execution_count": 46,
     "metadata": {},
     "output_type": "execute_result"
    }
   ],
   "source": [
    "np.array([ x / absolute_error.size for x in absolute_error]).sum()"
   ]
  },
  {
   "cell_type": "markdown",
   "id": "c3e6537d-be2e-4652-af9a-887775a6f123",
   "metadata": {},
   "source": [
    "## Mean Squared Error"
   ]
  },
  {
   "cell_type": "code",
   "execution_count": null,
   "id": "b9699515-8df6-4408-bf42-e4190e391cc7",
   "metadata": {},
   "outputs": [],
   "source": []
  }
 ],
 "metadata": {
  "kernelspec": {
   "display_name": "Python 3 (ipykernel)",
   "language": "python",
   "name": "python3"
  },
  "language_info": {
   "codemirror_mode": {
    "name": "ipython",
    "version": 3
   },
   "file_extension": ".py",
   "mimetype": "text/x-python",
   "name": "python",
   "nbconvert_exporter": "python",
   "pygments_lexer": "ipython3",
   "version": "3.8.8"
  }
 },
 "nbformat": 4,
 "nbformat_minor": 5
}
