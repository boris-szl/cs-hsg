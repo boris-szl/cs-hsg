{
 "cells": [
  {
   "cell_type": "code",
   "execution_count": 25,
   "id": "cc7406f5-2385-422a-b2ef-f3bbbcd17137",
   "metadata": {},
   "outputs": [],
   "source": [
    "import scrapy\n",
    "import pandas as pd\n",
    "import numpy as np\n",
    "import json\n",
    "import csv"
   ]
  },
  {
   "cell_type": "code",
   "execution_count": 40,
   "id": "ceede7da-57bc-4434-af74-9e5afc7c10c9",
   "metadata": {},
   "outputs": [],
   "source": [
    "URL = \"https://www.basketball-reference.com/teams/DAL/2022_games.html\""
   ]
  },
  {
   "cell_type": "code",
   "execution_count": 41,
   "id": "84566c3b-c2ed-4ec7-8b7d-bdf0f2503015",
   "metadata": {},
   "outputs": [],
   "source": [
    "def parse(URL):\n",
    "    try:\n",
    "        return pd.read_html(URL)\n",
    "    except:\n",
    "        print(\"didn't work\")\n",
    "        try:\n",
    "            return pd.read_html(URL)\n",
    "        except:\n",
    "            print(\"xml didnt work as well\")"
   ]
  },
  {
   "cell_type": "code",
   "execution_count": 43,
   "id": "1fda7949-bef5-4340-a90c-2c4496af68c5",
   "metadata": {},
   "outputs": [
    {
     "data": {
      "text/plain": [
       "[     G               Date  Start (ET)  Unnamed: 3 Unnamed: 4 Unnamed: 5  \\\n",
       " 0    1  Thu, Oct 21, 2021       7:30p         NaN  Box Score          @   \n",
       " 1    2  Sat, Oct 23, 2021       7:30p         NaN  Box Score          @   \n",
       " 2    3  Tue, Oct 26, 2021       8:30p         NaN  Box Score        NaN   \n",
       " 3    4  Thu, Oct 28, 2021       8:30p         NaN  Box Score        NaN   \n",
       " 4    5  Fri, Oct 29, 2021      10:00p         NaN  Box Score          @   \n",
       " ..  ..                ...         ...         ...        ...        ...   \n",
       " 81  79   Sun, Apr 3, 2022       1:00p         NaN        NaN          @   \n",
       " 82  80   Wed, Apr 6, 2022       7:00p         NaN        NaN          @   \n",
       " 83   G               Date  Start (ET)         NaN        NaN        NaN   \n",
       " 84  81   Fri, Apr 8, 2022       8:30p         NaN        NaN        NaN   \n",
       " 85  82  Sun, Apr 10, 2022         NaN         NaN        NaN        NaN   \n",
       " \n",
       "                   Opponent Unnamed: 7 Unnamed: 8   Tm  Opp    W    L  Streak  \\\n",
       " 0            Atlanta Hawks          L        NaN   87  113    0    1     L 1   \n",
       " 1          Toronto Raptors          W        NaN  103   95    1    1     W 1   \n",
       " 2          Houston Rockets          W        NaN  116  106    2    1     W 2   \n",
       " 3        San Antonio Spurs          W        NaN  104   99    3    1     W 3   \n",
       " 4           Denver Nuggets          L        NaN   75  106    3    2     L 1   \n",
       " ..                     ...        ...        ...  ...  ...  ...  ...     ...   \n",
       " 81         Milwaukee Bucks        NaN        NaN  NaN  NaN  NaN  NaN     NaN   \n",
       " 82         Detroit Pistons        NaN        NaN  NaN  NaN  NaN  NaN     NaN   \n",
       " 83                Opponent        NaN        NaN   Tm  Opp    W    L  Streak   \n",
       " 84  Portland Trail Blazers        NaN        NaN  NaN  NaN  NaN  NaN     NaN   \n",
       " 85       San Antonio Spurs        NaN        NaN  NaN  NaN  NaN  NaN     NaN   \n",
       " \n",
       "     Notes  \n",
       " 0     NaN  \n",
       " 1     NaN  \n",
       " 2     NaN  \n",
       " 3     NaN  \n",
       " 4     NaN  \n",
       " ..    ...  \n",
       " 81    NaN  \n",
       " 82    NaN  \n",
       " 83  Notes  \n",
       " 84    NaN  \n",
       " 85    NaN  \n",
       " \n",
       " [86 rows x 15 columns]]"
      ]
     },
     "execution_count": 43,
     "metadata": {},
     "output_type": "execute_result"
    }
   ],
   "source": [
    "parse(URL)"
   ]
  },
  {
   "cell_type": "code",
   "execution_count": 46,
   "id": "05315286-3faf-4508-a88d-5d14f4a0fba6",
   "metadata": {},
   "outputs": [
    {
     "data": {
      "text/plain": [
       "[     G               Date Start (ET)  Unnamed: 3 Unnamed: 4 Unnamed: 5  \\\n",
       " 0    1  Thu, Oct 21, 2021      7:30p         NaN  Box Score          @   \n",
       " 1    2  Sat, Oct 23, 2021      7:30p         NaN  Box Score          @   \n",
       " 2    3  Tue, Oct 26, 2021      8:30p         NaN  Box Score        NaN   \n",
       " 3    4  Thu, Oct 28, 2021      8:30p         NaN  Box Score        NaN   \n",
       " 4    5  Fri, Oct 29, 2021     10:00p         NaN  Box Score          @   \n",
       " ..  ..                ...        ...         ...        ...        ...   \n",
       " 77  78   Fri, Apr 1, 2022      7:00p         NaN        NaN          @   \n",
       " 78  79   Sun, Apr 3, 2022      1:00p         NaN        NaN          @   \n",
       " 79  80   Wed, Apr 6, 2022      7:00p         NaN        NaN          @   \n",
       " 80  81   Fri, Apr 8, 2022      8:30p         NaN        NaN        NaN   \n",
       " 81  82  Sun, Apr 10, 2022        NaN         NaN        NaN        NaN   \n",
       " \n",
       "                   Opponent Unnamed: 7 Unnamed: 8     Tm    Opp    W    L  \\\n",
       " 0            Atlanta Hawks          L        NaN   87.0  113.0  0.0  1.0   \n",
       " 1          Toronto Raptors          W        NaN  103.0   95.0  1.0  1.0   \n",
       " 2          Houston Rockets          W        NaN  116.0  106.0  2.0  1.0   \n",
       " 3        San Antonio Spurs          W        NaN  104.0   99.0  3.0  1.0   \n",
       " 4           Denver Nuggets          L        NaN   75.0  106.0  3.0  2.0   \n",
       " ..                     ...        ...        ...    ...    ...  ...  ...   \n",
       " 77      Washington Wizards        NaN        NaN    NaN    NaN  NaN  NaN   \n",
       " 78         Milwaukee Bucks        NaN        NaN    NaN    NaN  NaN  NaN   \n",
       " 79         Detroit Pistons        NaN        NaN    NaN    NaN  NaN  NaN   \n",
       " 80  Portland Trail Blazers        NaN        NaN    NaN    NaN  NaN  NaN   \n",
       " 81       San Antonio Spurs        NaN        NaN    NaN    NaN  NaN  NaN   \n",
       " \n",
       "    Streak  Notes  \n",
       " 0     L 1    NaN  \n",
       " 1     W 1    NaN  \n",
       " 2     W 2    NaN  \n",
       " 3     W 3    NaN  \n",
       " 4     L 1    NaN  \n",
       " ..    ...    ...  \n",
       " 77    NaN    NaN  \n",
       " 78    NaN    NaN  \n",
       " 79    NaN    NaN  \n",
       " 80    NaN    NaN  \n",
       " 81    NaN    NaN  \n",
       " \n",
       " [82 rows x 15 columns]]"
      ]
     },
     "execution_count": 46,
     "metadata": {},
     "output_type": "execute_result"
    }
   ],
   "source": [
    "parse(\"http://bkref.com/pi/shareit/5MSQF\")"
   ]
  },
  {
   "cell_type": "code",
   "execution_count": null,
   "id": "849c4087-b2eb-4ead-abcf-4fb3866d4250",
   "metadata": {},
   "outputs": [],
   "source": []
  },
  {
   "cell_type": "code",
   "execution_count": 29,
   "id": "a2be4ea0-65c0-4f16-b0f4-e3d92ef5c7d5",
   "metadata": {},
   "outputs": [],
   "source": [
    "class ScrapeTableSpider(scrapy.Spider):\n",
    "    name = 'scrape-table'\n",
    "    allowed_domains = ['https://getbootstrap.com/docs/4.0/content/tables']\n",
    "    start_urls = ['http://https://getbootstrap.com/docs/4.0/content/tables/']\n",
    " \n",
    " \n",
    "    def start_requests(self):\n",
    "        urls = [\n",
    "            'https://getbootstrap.com/docs/4.0/content/tables',\n",
    "        ]\n",
    "        for url in urls:\n",
    "            yield scrapy.Request(url=url, callback=self.parse)\n",
    " \n",
    "    def parse(self, response):\n",
    "        for row in response.xpath('//*[@class=\"table table-striped\"]//tbody/tr'):\n",
    "            yield {\n",
    "                'first' : row.xpath('td[1]//text()').extract_first(),\n",
    "                'last': row.xpath('td[2]//text()').extract_first(),\n",
    "                'handle' : row.xpath('td[3]//text()').extract_first(),\n",
    "            }"
   ]
  },
  {
   "cell_type": "code",
   "execution_count": 36,
   "id": "9b338343-d03d-4d76-896f-9522bfa22f41",
   "metadata": {},
   "outputs": [
    {
     "data": {
      "text/plain": [
       "<generator object ScrapeTableSpider.parse at 0x7feaa243d6d0>"
      ]
     },
     "execution_count": 36,
     "metadata": {},
     "output_type": "execute_result"
    }
   ],
   "source": [
    "data = ScrapeTableSpider()\n",
    "response = data.start_requests()\n",
    "parsed_data = data.parse(response)\n",
    "parsed_data"
   ]
  },
  {
   "cell_type": "code",
   "execution_count": null,
   "id": "7f550e24-53ab-40a2-a2b1-b280ab6cdcd1",
   "metadata": {},
   "outputs": [],
   "source": []
  }
 ],
 "metadata": {
  "kernelspec": {
   "display_name": "Python 3 (ipykernel)",
   "language": "python",
   "name": "python3"
  },
  "language_info": {
   "codemirror_mode": {
    "name": "ipython",
    "version": 3
   },
   "file_extension": ".py",
   "mimetype": "text/x-python",
   "name": "python",
   "nbconvert_exporter": "python",
   "pygments_lexer": "ipython3",
   "version": "3.8.8"
  }
 },
 "nbformat": 4,
 "nbformat_minor": 5
}
