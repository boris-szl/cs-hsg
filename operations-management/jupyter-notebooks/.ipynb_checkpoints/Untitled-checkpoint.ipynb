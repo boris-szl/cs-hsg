{
 "cells": [
  {
   "cell_type": "code",
   "execution_count": 1,
   "id": "cc7406f5-2385-422a-b2ef-f3bbbcd17137",
   "metadata": {},
   "outputs": [],
   "source": [
    "import pandas as pd\n",
    "import numpy as np\n",
    "import json\n",
    "import csv"
   ]
  },
  {
   "cell_type": "code",
   "execution_count": 11,
   "id": "ceede7da-57bc-4434-af74-9e5afc7c10c9",
   "metadata": {},
   "outputs": [],
   "source": [
    "URL = \"https://clutchpoints.com/sports/nba/dallas-mavericks/schedule\""
   ]
  },
  {
   "cell_type": "code",
   "execution_count": 22,
   "id": "84566c3b-c2ed-4ec7-8b7d-bdf0f2503015",
   "metadata": {},
   "outputs": [],
   "source": [
    "def parse(URL):\n",
    "    try:\n",
    "        return pd.read_html(URL)\n",
    "    except:\n",
    "        print(\"didn't work\")\n",
    "        try:\n",
    "            return pd.read_html(URL)\n",
    "        except:\n",
    "            print(\"xml didnt work as well\")"
   ]
  },
  {
   "cell_type": "code",
   "execution_count": 23,
   "id": "1fda7949-bef5-4340-a90c-2c4496af68c5",
   "metadata": {},
   "outputs": [
    {
     "name": "stdout",
     "output_type": "stream",
     "text": [
      "didn't work\n",
      "xml didnt work as well\n"
     ]
    }
   ],
   "source": [
    "parse(URL)"
   ]
  },
  {
   "cell_type": "code",
   "execution_count": null,
   "id": "a2be4ea0-65c0-4f16-b0f4-e3d92ef5c7d5",
   "metadata": {},
   "outputs": [],
   "source": []
  }
 ],
 "metadata": {
  "kernelspec": {
   "display_name": "Python 3 (ipykernel)",
   "language": "python",
   "name": "python3"
  },
  "language_info": {
   "codemirror_mode": {
    "name": "ipython",
    "version": 3
   },
   "file_extension": ".py",
   "mimetype": "text/x-python",
   "name": "python",
   "nbconvert_exporter": "python",
   "pygments_lexer": "ipython3",
   "version": "3.8.8"
  }
 },
 "nbformat": 4,
 "nbformat_minor": 5
}
