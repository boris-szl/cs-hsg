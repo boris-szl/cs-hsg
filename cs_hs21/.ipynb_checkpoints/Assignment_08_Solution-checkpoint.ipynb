{
 "cells": [
  {
   "cell_type": "markdown",
   "metadata": {
    "id": "VSitiJTVbN59"
   },
   "source": [
    "# Assignment 8: Pandas\n",
    "\n",
    "Please read the tasks description carefully and implement **only** what the tasks ask you to implement. Closely following the task descriptions will be beneficial, so keep your divergence in check - the test cases below each input cell are the gold standard. Finally, for this assignment, you do not need any error handling, you can assume that all input to your function will be valid.\n",
    "\n",
    "As for the other assignments, using `print` is encouraged to test your implementation but is never required. Make sure not to confuse `return` and `print` statements: If your function has to **return** something, use the `return` statement. \n",
    "\n",
    "Try to implement the tasks yourself or in a small team. If you blindly copy a solution from the Internet or other students, you will not take home any learnings. Rather, make an effort to understand the solution! Furthermore, do not modify the _test cells_ - if you do, you effectively cheat the system which is not helpful for your learning process.\n",
    "\n",
    "Some aspects of this assignment require you to <strong>self-study</strong> and do some research beyond the lecture contents - use your favorite search engine to look up documentation, usage examples, and definitions of the mentioned functions. There might be tasks where you have to read and investigate the [Python Standard Library](https://docs.python.org/3/library/) to find the documentation for a function that is used or that you want to use.\n",
    "\n",
    "This assignment will use the third-party module [pandas](https://pandas.pydata.org/).\n",
    "\n",
    "In Google Colab and Anaconda, it is already installed. If you see an `ImportError` in the next cell, run `%pip install pandas` to install this module."
   ]
  },
  {
   "cell_type": "markdown",
   "metadata": {},
   "source": [
    "---\n",
    "# Task 0: Loading the `csv` file.\n",
    "\n",
    "We will operate on a `pd.DataFrame` from the [Pandas](https://pandas.pydata.org/) third-party module.\n",
    "\n",
    "We will load the file with the following function `load_file()`. Do not modify this function."
   ]
  },
  {
   "cell_type": "code",
   "execution_count": null,
   "metadata": {},
   "outputs": [],
   "source": [
    "import pandas as pd"
   ]
  },
  {
   "cell_type": "markdown",
   "metadata": {},
   "source": [
    "Execute the following cell to check if you uploaded the file correctly."
   ]
  },
  {
   "cell_type": "code",
   "execution_count": null,
   "metadata": {},
   "outputs": [],
   "source": [
    "from pathlib import Path\n",
    "\n",
    "DB_FILE = Path('movies.csv')\n",
    "if not DB_FILE.exists():\n",
    "    print(\"\\033[1;41m\", \" \" * 48, '\\n', \"      Please upload the the movies.csv file.     \\n\", \" \" * 48, \"\\033[0m\")\n",
    "else:\n",
    "    print(\"\\033[1;42m\", \" \" * 48, '\\n', \"The movies.csv file was found and can be loaded. \\n\", \" \" * 48, \"\\033[0m\")"
   ]
  },
  {
   "cell_type": "code",
   "execution_count": null,
   "metadata": {},
   "outputs": [],
   "source": [
    "def load_file():\n",
    "    _df = pd.read_csv(\"movies.csv\")\n",
    "    _categories = ['color', 'language', 'country', 'content_rating']\n",
    "    for _cat in _categories:\n",
    "        _df[_cat] = _df[_cat].astype('category')\n",
    "    _ints = ['duration', 'director_facebook_likes', \n",
    "             'actor_1_facebook_likes', 'actor_2_facebook_likes', 'actor_3_facebook_likes',\n",
    "             'facenumber_in_poster',\n",
    "             'num_critic_for_reviews', 'num_user_for_reviews', \n",
    "             'budget', 'title_year', 'movie_facebook_likes']\n",
    "    for _int in _ints:\n",
    "        _df[_int] = _df[_int].astype(pd.Int64Dtype())\n",
    "    \n",
    "    return _df"
   ]
  },
  {
   "cell_type": "markdown",
   "metadata": {},
   "source": [
    "Execute the next cell to load the file. You'll see an error if it doesn't load correctly.\n",
    "\n",
    "Afterwards, you will have the full dataframe in the variable `DF`.\n",
    "\n",
    "If you modified, for some reasons, this dataframe, simply call this function `load_file` again to reload the file from disk.\n",
    "\n",
    "Please try not not modify this variable `DF`. If you want to remove columns, add columns, drop rows or add rows, or modify it in any other way, make a copy first with `DF.copy()`."
   ]
  },
  {
   "cell_type": "code",
   "execution_count": null,
   "metadata": {},
   "outputs": [],
   "source": [
    "DF = load_file()"
   ]
  },
  {
   "cell_type": "markdown",
   "metadata": {},
   "source": [
    "We can look at the first 5 elements:"
   ]
  },
  {
   "cell_type": "code",
   "execution_count": null,
   "metadata": {},
   "outputs": [],
   "source": [
    "DF.head(5)"
   ]
  },
  {
   "cell_type": "markdown",
   "metadata": {},
   "source": [
    "And the columns:"
   ]
  },
  {
   "cell_type": "code",
   "execution_count": null,
   "metadata": {},
   "outputs": [],
   "source": [
    "DF.columns"
   ]
  },
  {
   "cell_type": "markdown",
   "metadata": {},
   "source": [
    "Or 5 random elements:"
   ]
  },
  {
   "cell_type": "code",
   "execution_count": null,
   "metadata": {},
   "outputs": [],
   "source": [
    "DF.sample(5)"
   ]
  },
  {
   "cell_type": "markdown",
   "metadata": {},
   "source": [
    "---\n",
    "# Task 1: Get Movie Title\n",
    "\n",
    "Implement the function `get_movie_title(position)` that returns the *name* of the movie at the integer position `position`.\n",
    "\n",
    "You have to find the correct column first, meaning the one that corresponds to the name of the movie.\n",
    "\n",
    "Use only instance methods from `pd.DataFrame`.\n",
    "\n",
    "_Hint_: It is only one line."
   ]
  },
  {
   "cell_type": "code",
   "execution_count": null,
   "metadata": {},
   "outputs": [],
   "source": [
    "# ⬇️ Add your code below this line ⬇️\n",
    "### BEGIN SOLUTION\n",
    "\n",
    "def get_movie_title(position):\n",
    "    return DF.iloc[position]['movie_title']\n",
    "\n",
    "### END SOLUTION\n",
    "# ⬆️ Add your code above this line ⬆️"
   ]
  },
  {
   "cell_type": "code",
   "execution_count": null,
   "metadata": {},
   "outputs": [],
   "source": [
    "# Test Case\n",
    "from unittest import TestCase\n",
    "__ = TestCase()\n",
    "\n",
    "# Sanity\n",
    "__.assertTrue('get_movie_title' in locals(), msg='You have to call the function `get_movie_title`.')\n",
    "\n",
    "# reset DF in case it was modified\n",
    "DF = load_file()\n",
    "\n",
    "# Actual Test\n",
    "__.assertEqual('Spider-Man', get_movie_title(161), msg=\"At integer position 161 is the movie 'Spider-Man'\")\n",
    "__.assertEqual('Spider-Man 2', get_movie_title(31), msg=\"At integer position 31 is the movie 'Spider-Man 2'\")\n",
    "__.assertEqual('Spider-Man 3', get_movie_title(6), msg=\"At integer position 6 is the movie 'Spider-Man 3'\")\n",
    "__.assertEqual('Batman: The Movie', get_movie_title(4457), msg=\"At integer position 4457 is the movie 'Batman: The Movie'\")\n",
    "__.assertEqual('Batman Returns', get_movie_title(441), msg=\"At integer position 441 is the movie 'Batman Returns'\")\n",
    "__.assertEqual('Batman Forever', get_movie_title(309), msg=\"At integer position 309 is the movie 'Batman Forever'\")\n",
    "__.assertEqual('Batman & Robin', get_movie_title(217), msg=\"At integer position 217 is the movie 'Batman & Robin'\")\n",
    "__.assertEqual('Cloudy with a Chance of Meatballs', get_movie_title(357), msg=\"At integer position 357 is the movie 'Cloudy with a Chance of Meatballs'\")\n",
    "\n",
    "print(\"\\n\\033[37;42;2m  Success! Your code works as intended.  \\033[0m\\n\")"
   ]
  },
  {
   "cell_type": "markdown",
   "metadata": {},
   "source": [
    "---\n",
    "# Task 2: Extract Keywords\n",
    "\n",
    "Implement the function `get_keywords(position)` that returns a `list` of keywords for the movie at the given integer position `position`.\n",
    "\n",
    "If the entry is empty (use `pd.isna()` to check), return an empty list.\n",
    "\n",
    "_Hint_: Look at the dataframe first to understand the data structure.\n",
    "\n",
    "_Hint_: Remember the `.split()` function of strings? Use it accordingly."
   ]
  },
  {
   "cell_type": "code",
   "execution_count": null,
   "metadata": {},
   "outputs": [],
   "source": [
    "# ⬇️ Add your code below this line ⬇️\n",
    "### BEGIN SOLUTION\n",
    "\n",
    "def get_keywords(position):\n",
    "    keywords = DF.iloc[position]['plot_keywords']\n",
    "    \n",
    "    if pd.isna(keywords):\n",
    "        return []\n",
    "    else:\n",
    "        return keywords.split(\"|\")\n",
    "\n",
    "### END SOLUTION\n",
    "# ⬆️ Add your code above this line ⬆️\n",
    "\n",
    "# To test:\n",
    "print(get_keywords(42))  # ← ['autopsy', 'lantern', 'planet', 'ring', 'test pilot']"
   ]
  },
  {
   "cell_type": "code",
   "execution_count": null,
   "metadata": {},
   "outputs": [],
   "source": [
    "# Test Case\n",
    "from unittest import TestCase\n",
    "__ = TestCase()\n",
    "\n",
    "# Sanity\n",
    "__.assertTrue('get_keywords' in locals(), msg='You have to call the function `get_keywords`.')\n",
    "\n",
    "# reset DF in case it was modified\n",
    "DF = load_file()\n",
    "\n",
    "__.assertListEqual(\n",
    "    ['autopsy', 'lantern', 'planet', 'ring', 'test pilot'],\n",
    "    get_keywords(42),\n",
    "    msg=\"You have a wrong result.\")\n",
    "__.assertListEqual(\n",
    "    ['kidnapping', 'reference to franz beckenbauer', 'scene during end credits', 'second part', 'singing in a car'],\n",
    "    get_keywords(1234),\n",
    "    msg=\"You have a wrong result.\")\n",
    "__.assertListEqual(\n",
    "    ['cat killer', 'death of animal', 'high heels', 'kneed in the crotch', 'kneed in the groin'],\n",
    "    get_keywords(4321),\n",
    "    msg=\"You have a wrong result.\")\n",
    "\n",
    "# Test where empty\n",
    "__.assertListEqual(\n",
    "    [],\n",
    "    get_keywords(4711),\n",
    "    msg=\"You have a wrong result.\")\n",
    "\n",
    "print(\"\\n\\033[37;42;2m  Success! Your code works as intended.  \\033[0m\\n\")"
   ]
  },
  {
   "cell_type": "markdown",
   "metadata": {},
   "source": [
    "---\n",
    "# Task 3: Average Length\n",
    "\n",
    "Implement the function `average_movie_lengths()` that returns a `pd.Series` where the *index* is the name of the movie director and the *value* the average of all movies for the individual movie director.\n",
    "The returned series must be sorted in *ascending* order by the index (meaning the director names).\n",
    "\n",
    "- If the director name is empty, skip this entry.\n",
    "- If the movie length is empty, skip this entry and also ignore it in the computation for the average.\n",
    "- If a director has no valid movie lengths, also ignore it."
   ]
  },
  {
   "cell_type": "code",
   "execution_count": null,
   "metadata": {},
   "outputs": [],
   "source": [
    "# ⬇️ Add your code below this line ⬇️\n",
    "### BEGIN SOLUTION\n",
    "\n",
    "def average_movie_lengths():\n",
    "    # We modify the dataframe, so we need a copy first:\n",
    "    df = DF.copy()\n",
    "    \n",
    "    # We only want director_name and duration\n",
    "    df = df[['director_name', 'duration']]\n",
    "    \n",
    "    # We don't care about nan values (dropping rows, NOT columns)\n",
    "    df = df.dropna(axis='index')\n",
    "    \n",
    "    # Index should be director names\n",
    "    df = df.set_index('director_name')\n",
    "    \n",
    "    # Now, we compute the average by grouping along the index\n",
    "    df = df.groupby('director_name').mean()\n",
    "    \n",
    "    # And we sort by the index\n",
    "    df = df.sort_index()\n",
    "    \n",
    "    # But we need a series:\n",
    "    s = df['duration']\n",
    "    \n",
    "    # Done.\n",
    "    return s\n",
    "\n",
    "### END SOLUTION\n",
    "# ⬆️ Add your code above this line ⬆️\n",
    "\n",
    "\n",
    "# Example:\n",
    "average_movie_lengths()['Harold Becker'] # ← 107.0"
   ]
  },
  {
   "cell_type": "code",
   "execution_count": null,
   "metadata": {},
   "outputs": [],
   "source": [
    "# Test Case\n",
    "from unittest import TestCase\n",
    "__ = TestCase()\n",
    "\n",
    "# Sanity\n",
    "__.assertTrue('average_movie_lengths' in locals(), msg='You have to call the function `average_movie_lengths`.')\n",
    "\n",
    "\n",
    "# reset DF in case it was modified\n",
    "DF = load_file()\n",
    "\n",
    "# Call functino\n",
    "\n",
    "_student = average_movie_lengths()\n",
    "\n",
    "__.assertIsInstance(_student, pd.Series, msg=\"Your return value is not a Series.\")\n",
    "\n",
    "__.assertEqual(2388, len(_student), msg=\"The returned Series must have 2388 entries.\")\n",
    "__.assertEqual(100.0, _student['Aaron Schneider'], msg=\"Aaron Schneider's average is 100.0\")\n",
    "__.assertEqual(103.0, _student['Greg Coolidge'], msg=\"Greg Coolidge's average is 103.0\")\n",
    "__.assertEqual(82.0, _student['Mickey Liddell'], msg=\"Mickey Liddell's average is 82.0\")\n",
    "__.assertEqual(107.0, _student['Harold Becker'], msg=\"Mickey Liddell's average is 107.0\")\n",
    "\n",
    "# Is it sorted?\n",
    "__.assertListEqual(list(_student.index), sorted(_student.index), msg='Your Series is not sorted correctly.')\n",
    "\n",
    "# Check 5 elements from the beginning\n",
    "__.assertListEqual(\n",
    "    [('Adam Brooks', 112.0), ('Adam Carolla', 98.0), ('Adam Goldberg', 111.0), ('Adam Green', 93.0), ('Adam Jay Epstein', 76.0)],\n",
    "    list(_student.items())[5:10],\n",
    "    msg=\"The first 10 elements are not the same.\"\n",
    ")\n",
    "# Check 5 elements in the middle\n",
    "__.assertListEqual(\n",
    "    [('F. Gary Gray', 122.875), ('Fabián Bielinsky', 114.0), ('Fatih Akin', 99.0), ('Fede Alvarez', 96.0), ('Fedor Bondarchuk', 115.0)],\n",
    "    list(_student.items())[670:675],\n",
    "    msg=\"The elements 670-680 differ.\"\n",
    ")\n",
    "# Check another 5 elements from the middle\n",
    "__.assertListEqual(\n",
    "    [('William Cottrell', 83.0), ('William Dear', 106.0), ('William Eubank', 97.0), ('William Friedkin', 104.42857142857143), ('William Gazecki', 105.5)],\n",
    "    list(_student.items())[2350:2355],\n",
    "    msg=\"The elements 2350-2360.\"\n",
    ")\n",
    "\n",
    "print(\"\\n\\033[37;42;2m  Success! Your code works as intended.  \\033[0m\\n\")"
   ]
  },
  {
   "cell_type": "markdown",
   "metadata": {},
   "source": [
    "---\n",
    "# Task 4: Movie Profit Ratio\n",
    "\n",
    "Implement the function `gross_per_budget` that computes the ratio of gross/budget for each movie and returns a `DataFrame` with that information.\n",
    "\n",
    "The resulting dataframe must fulfill all of the following criteria:\n",
    "\n",
    "- The columns must only be \"director_name\", \"movie_title\", \"gross\", \"budget\", and finally \"gross/budget\" (and the index column)\n",
    "- The value in the column \"gross/budget\" must be the result of the row-wise division of the column \"gross\" and \"budget\".\n",
    "- There must not be **any** NaN (empty) values in the resulting dataframe.\n",
    "- The dataframe must be sorted in **descending** order by the newly created \"gross/budget\" column. Do not reset the index.\n",
    "\n",
    "Do **NOT** modify the original dataframe. The first statement in your function should be: `df = DF.copy()`"
   ]
  },
  {
   "cell_type": "code",
   "execution_count": null,
   "metadata": {},
   "outputs": [],
   "source": [
    "# ⬇️ Add your code below this line ⬇️\n",
    "### BEGIN SOLUTION\n",
    "\n",
    "def gross_per_budget():\n",
    "    # Copy the original dataframe\n",
    "    df = DF.copy()\n",
    "    \n",
    "    # We only care about the required columns\n",
    "    df = df[['director_name', 'movie_title', 'gross', 'budget']]\n",
    "    \n",
    "    # Remove any nan-row, we don't want any nan\n",
    "    df = df.dropna(axis='index')\n",
    "    \n",
    "    # Create a new column \"gross/budget\" with the result of the division\n",
    "    df[\"gross/budget\"] = df['gross'] / df['budget']\n",
    "    \n",
    "    # Sort by this newly created column in descending order\n",
    "    df = df.sort_values(by=\"gross/budget\", ascending=False)\n",
    "        \n",
    "    # Done.\n",
    "    return df\n",
    "\n",
    "### END SOLUTION\n",
    "# ⬆️ Add your code above this line ⬆️\n",
    "\n",
    "# Example: (Should display: \"161  Spider-Man  2.904362\"\n",
    "result = gross_per_budget()\n",
    "print(result[result.movie_title == 'Spider-Man'][['movie_title', 'gross/budget']])"
   ]
  },
  {
   "cell_type": "code",
   "execution_count": null,
   "metadata": {},
   "outputs": [],
   "source": [
    "# Test Case\n",
    "from unittest import TestCase\n",
    "__ = TestCase()\n",
    "\n",
    "# Sanity\n",
    "__.assertTrue('gross_per_budget' in locals(), msg='You have to call the function `gross_per_budget`.')\n",
    "\n",
    "# reset DF in case it was modified\n",
    "DF = load_file()\n",
    "\n",
    "# call function\n",
    "_student = gross_per_budget()\n",
    "\n",
    "__.assertIsInstance(_student, pd.DataFrame, msg=\"Your return value is not a DataFrame.\")\n",
    "\n",
    "__.assertEqual((3891, 5), _student.shape, msg=\"You have not the requests number of rows or columns.\")\n",
    "__.assertEqual(\n",
    "    sorted(['director_name', 'movie_title', 'gross', 'budget', 'gross/budget']),\n",
    "    sorted(_student.columns),\n",
    "    msg=\"You have different columns.\"\n",
    ")\n",
    "\n",
    "# for the test, we're rounding the values to elimiate rounding errors\n",
    "_student[\"gross/budget\"] = _student[\"gross/budget\"].apply(round)\n",
    "\n",
    "__.assertTrue(\n",
    "    (pd.Series(data={\n",
    "        'director_name': 'Oren Peli',\n",
    "        'movie_title': 'Paranormal Activity',\n",
    "        'gross': 107917283.0,\n",
    "        'budget': 15000,\n",
    "        'gross/budget': round(7194.4855333333335)\n",
    "    }, name=4793) == _student.iloc[0]).all(),\n",
    "    msg=\"You have a different value at the first position.\\n\\nLook at the test case to see the wanted values.\"\n",
    ")\n",
    "__.assertTrue(\n",
    "    (pd.Series(data={\n",
    "        'director_name': 'Ekachai Uekrongtham',\n",
    "        'movie_title': 'Skin Trade',\n",
    "        'gross': 162.0,\n",
    "        'budget': 9000000,\n",
    "        'gross/budget': round(0.000018)\n",
    "    }, name=3330) == _student.iloc[-1]).all(),\n",
    "    msg=\"You have a different value at the last position.\\n\\nLook at the test case to see the wanted values.\"\n",
    ")\n",
    "__.assertTrue(\n",
    "    (pd.Series(data={\n",
    "        'director_name': 'David Bowers',\n",
    "        'movie_title': 'Diary of a Wimpy Kid: Rodrick Rules',\n",
    "        'gross': 52691009.0,\n",
    "        'budget': 21000000,\n",
    "        'gross/budget': round(2.5090956666666666)\n",
    "    }, name=2405) == _student.loc[2405]).all(),\n",
    "    msg=\"You have a different value at the index 2405.\\n\\nLook at the test case to see the wanted values.\"\n",
    ")\n",
    "\n",
    "print(\"\\n\\033[37;42;2m  Success! Your code works as intended.  \\033[0m\\n\")"
   ]
  }
 ],
 "metadata": {
  "colab": {
   "collapsed_sections": [],
   "name": "Assignment_6_solution.ipynb",
   "provenance": []
  },
  "kernelspec": {
   "display_name": "Python 3 (ipykernel)",
   "language": "python",
   "name": "python3"
  },
  "language_info": {
   "codemirror_mode": {
    "name": "ipython",
    "version": 3
   },
   "file_extension": ".py",
   "mimetype": "text/x-python",
   "name": "python",
   "nbconvert_exporter": "python",
   "pygments_lexer": "ipython3",
   "version": "3.7.12"
  }
 },
 "nbformat": 4,
 "nbformat_minor": 4
}
