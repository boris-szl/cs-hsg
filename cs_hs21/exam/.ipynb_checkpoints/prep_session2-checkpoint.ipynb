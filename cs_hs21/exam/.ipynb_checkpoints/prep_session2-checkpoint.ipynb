{
 "cells": [
  {
   "cell_type": "code",
   "execution_count": 24,
   "id": "170c0849-2579-40ba-bb8f-fadf88703a26",
   "metadata": {},
   "outputs": [
    {
     "data": {
      "text/plain": [
       "[2, 4, 6, 8, 10]"
      ]
     },
     "execution_count": 24,
     "metadata": {},
     "output_type": "execute_result"
    }
   ],
   "source": [
    "list2 = [1,2,3,4,5]\n",
    "def f(x):\n",
    "    return x * 2\n",
    "\n",
    "list(map(f,list2))"
   ]
  },
  {
   "cell_type": "code",
   "execution_count": 25,
   "id": "2d268a0f-34cc-413d-ab9d-56fcaabec2bc",
   "metadata": {},
   "outputs": [
    {
     "data": {
      "text/plain": [
       "[4, 8, 12, 16, 20]"
      ]
     },
     "execution_count": 25,
     "metadata": {},
     "output_type": "execute_result"
    }
   ],
   "source": [
    "list(map(f,map(f, list2)))"
   ]
  },
  {
   "cell_type": "code",
   "execution_count": 26,
   "id": "09a7488a-9e37-48b3-88cc-ac1a6a140337",
   "metadata": {},
   "outputs": [
    {
     "data": {
      "text/plain": [
       "[4, 6, 8, 10, 12]"
      ]
     },
     "execution_count": 26,
     "metadata": {},
     "output_type": "execute_result"
    }
   ],
   "source": [
    "list(map(lambda x : x * 2, map(lambda x : x + 1, list2)))"
   ]
  },
  {
   "cell_type": "code",
   "execution_count": null,
   "id": "157bc4af-10de-42a6-a56f-412720910a45",
   "metadata": {},
   "outputs": [],
   "source": []
  }
 ],
 "metadata": {
  "kernelspec": {
   "display_name": "Python 3 (ipykernel)",
   "language": "python",
   "name": "python3"
  },
  "language_info": {
   "codemirror_mode": {
    "name": "ipython",
    "version": 3
   },
   "file_extension": ".py",
   "mimetype": "text/x-python",
   "name": "python",
   "nbconvert_exporter": "python",
   "pygments_lexer": "ipython3",
   "version": "3.8.8"
  }
 },
 "nbformat": 4,
 "nbformat_minor": 5
}
