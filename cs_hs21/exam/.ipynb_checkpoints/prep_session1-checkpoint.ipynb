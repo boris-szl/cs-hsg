{
 "cells": [
  {
   "cell_type": "code",
   "execution_count": 20,
   "id": "ee4ade0e-b493-44e0-864c-41f4957929db",
   "metadata": {},
   "outputs": [
    {
     "name": "stdout",
     "output_type": "stream",
     "text": [
      "1\n",
      "2\n",
      "3\n",
      "4\n",
      "5\n",
      "6\n",
      "7\n",
      "8\n",
      "9\n"
     ]
    }
   ],
   "source": [
    "# range(lb,ub), wobei die obere Grenze exklusive ist.\n",
    "# Also range() == [a,b) : a <= x < b (rechtsoffenes Intervall\n",
    "for i in range(1,10):\n",
    "    print(i)"
   ]
  },
  {
   "cell_type": "code",
   "execution_count": 28,
   "id": "a4a0fda4-e55e-4c42-b5ea-ac0f894b31eb",
   "metadata": {},
   "outputs": [
    {
     "data": {
      "text/plain": [
       "float"
      ]
     },
     "execution_count": 28,
     "metadata": {},
     "output_type": "execute_result"
    }
   ],
   "source": [
    "x = 2\n",
    "y = 3.2\n",
    "z = 2 * 3.2\n",
    "type(z)"
   ]
  },
  {
   "cell_type": "code",
   "execution_count": 32,
   "id": "a3395cc8-33f8-4af7-982c-593420d45c78",
   "metadata": {},
   "outputs": [
    {
     "name": "stdout",
     "output_type": "stream",
     "text": [
      "7\n",
      "9\n",
      "11\n",
      "13\n"
     ]
    }
   ],
   "source": [
    "# range(a,b,step_expression)\n",
    "for i in range(7,15,2):\n",
    "    print(i)"
   ]
  },
  {
   "cell_type": "code",
   "execution_count": 40,
   "id": "72be9687-b5af-4561-9403-625daebf2f0d",
   "metadata": {},
   "outputs": [
    {
     "name": "stdout",
     "output_type": "stream",
     "text": [
      "<class 'str'>\n",
      "<class 'str'>\n",
      "<class 'str'>\n"
     ]
    }
   ],
   "source": [
    "# var iterates over a string where each char is a string dt\n",
    "var = 131\n",
    "ds = 0\n",
    "for i in str(var):\n",
    "    print(type(i))"
   ]
  },
  {
   "cell_type": "code",
   "execution_count": 44,
   "id": "47d32b24-9296-4d29-852a-c1ce48bddf2f",
   "metadata": {},
   "outputs": [
    {
     "data": {
      "text/plain": [
       "5"
      ]
     },
     "execution_count": 44,
     "metadata": {},
     "output_type": "execute_result"
    }
   ],
   "source": [
    "# in order to sum up each digit in var we need to \n",
    "# convert 131 into a string, becasuse integer datatypes are not iterable\n",
    "# then we create var which holds the \n",
    "var = 131\n",
    "ds = 0\n",
    "for i in str(var):\n",
    "    ds += int(i)\n",
    "ds"
   ]
  },
  {
   "cell_type": "code",
   "execution_count": 50,
   "id": "75e7480c-669d-49aa-b83f-1747cef42e33",
   "metadata": {},
   "outputs": [
    {
     "data": {
      "text/plain": [
       "['1', '2', '3', '4']"
      ]
     },
     "execution_count": 50,
     "metadata": {},
     "output_type": "execute_result"
    }
   ],
   "source": [
    "result = list(map(int, \"14823\"))\n",
    "result\n",
    "list(map(str, \"1234\"))"
   ]
  },
  {
   "cell_type": "code",
   "execution_count": 68,
   "id": "d64d2a5d-7313-49cb-9c77-4bc2c8db71a6",
   "metadata": {},
   "outputs": [
    {
     "data": {
      "text/plain": [
       "[0, 4, 8, 12, 16]"
      ]
     },
     "execution_count": 68,
     "metadata": {},
     "output_type": "execute_result"
    }
   ],
   "source": [
    "i = 0\n",
    "def f(x):\n",
    "    return x * 2\n",
    "\n",
    "result = list(map(f,map(f,range(5))))\n",
    "result"
   ]
  },
  {
   "cell_type": "code",
   "execution_count": 70,
   "id": "f21c57af-a08f-4400-85bd-20e2419aea40",
   "metadata": {},
   "outputs": [
    {
     "data": {
      "text/plain": [
       "[False, True, False, True, False, True, False]"
      ]
     },
     "execution_count": 70,
     "metadata": {},
     "output_type": "execute_result"
    }
   ],
   "source": [
    "result = list(map(lambda x : x % 2 != 0, [0,1,2,3,4,5,6]))\n",
    "result"
   ]
  },
  {
   "cell_type": "code",
   "execution_count": 72,
   "id": "32a57202-b479-485d-bc70-e82a1573ca50",
   "metadata": {},
   "outputs": [
    {
     "data": {
      "text/plain": [
       "\"['4', '3', '2', '1']\""
      ]
     },
     "execution_count": 72,
     "metadata": {},
     "output_type": "execute_result"
    }
   ],
   "source": [
    "def sort_num(number):\n",
    "    return str(sorted(str(number), reverse=True))\n",
    "sort_num(1234)"
   ]
  },
  {
   "cell_type": "code",
   "execution_count": null,
   "id": "305ec112-2bb7-4d2d-b642-efaf39972d3e",
   "metadata": {},
   "outputs": [],
   "source": []
  }
 ],
 "metadata": {
  "kernelspec": {
   "display_name": "Python 3 (ipykernel)",
   "language": "python",
   "name": "python3"
  },
  "language_info": {
   "codemirror_mode": {
    "name": "ipython",
    "version": 3
   },
   "file_extension": ".py",
   "mimetype": "text/x-python",
   "name": "python",
   "nbconvert_exporter": "python",
   "pygments_lexer": "ipython3",
   "version": "3.8.8"
  }
 },
 "nbformat": 4,
 "nbformat_minor": 5
}
