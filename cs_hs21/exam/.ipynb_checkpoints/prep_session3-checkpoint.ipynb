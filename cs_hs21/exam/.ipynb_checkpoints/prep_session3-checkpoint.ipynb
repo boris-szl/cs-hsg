{
 "cells": [
  {
   "cell_type": "markdown",
   "id": "29a2059b-e86c-49f1-8c16-b1f9da1db13f",
   "metadata": {},
   "source": [
    "# Classes"
   ]
  },
  {
   "cell_type": "code",
   "execution_count": 2,
   "id": "45b6ef3e-8add-4a7d-9b33-a78ed00a8e0c",
   "metadata": {},
   "outputs": [],
   "source": [
    "class Person:\n",
    "    def __init__(self, age):\n",
    "        selg._age = age"
   ]
  },
  {
   "cell_type": "code",
   "execution_count": 3,
   "id": "b6f35a91-5900-4e24-befc-7f0cfbab9f75",
   "metadata": {},
   "outputs": [],
   "source": [
    "from decimal import Decimal"
   ]
  },
  {
   "cell_type": "code",
   "execution_count": 93,
   "id": "0bc0968b-2139-446c-b0ea-895a85c8590c",
   "metadata": {},
   "outputs": [],
   "source": [
    "class Employee:\n",
    "    def __init__(self, first_name, last_name, ssn, salary):\n",
    "        self._first_name = first_name\n",
    "        self._last_name = last_name\n",
    "        self._ssn = ssn\n",
    "        self.salary = salary\n",
    "        \n",
    "    def get_name(self):\n",
    "        return self._last_name\n",
    "    \n",
    "    def set_name(self, name):\n",
    "        self._last_name = name\n",
    "    \n",
    "    def __str__(self):\n",
    "        return self._first_name + \" \" + self._last_name\n",
    "    \n",
    "    def __repr__(self):\n",
    "        return self._last_name + \" \" + self._first_name\n",
    "        "
   ]
  },
  {
   "cell_type": "code",
   "execution_count": 97,
   "id": "f3a6771c-2429-478f-a5a1-104062dbc7f5",
   "metadata": {},
   "outputs": [
    {
     "data": {
      "text/plain": [
       "'<__main__.Employee object at 0x7fdd057eadf0>'"
      ]
     },
     "execution_count": 97,
     "metadata": {},
     "output_type": "execute_result"
    }
   ],
   "source": [
    "e1 = Employee(\"Sarah\", \"Vanderguard\", 111001, 250000)\n",
    "e1._last_name = \"Van Hyugens\"\n",
    "e1.get_name()\n",
    "e1.set_name(\"Hutchinson\")\n",
    "e1.get_name()\n",
    "\n",
    "repr(e1)"
   ]
  },
  {
   "cell_type": "code",
   "execution_count": 88,
   "id": "ba4c93ab-8d02-4f9a-815a-d80fa9ef2555",
   "metadata": {},
   "outputs": [
    {
     "data": {
      "text/plain": [
       "Hutchinson Sarah"
      ]
     },
     "execution_count": 88,
     "metadata": {},
     "output_type": "execute_result"
    }
   ],
   "source": [
    "f()"
   ]
  },
  {
   "cell_type": "code",
   "execution_count": 6,
   "id": "cc3d092e-85a1-43eb-bd3d-1dee9309f49c",
   "metadata": {},
   "outputs": [],
   "source": [
    "class CommissionEmployee:\n",
    "    \"\"\"An employee who gets paid commission based on gross sales.\"\"\"\n",
    "\n",
    "    def __init__(self, first_name, last_name, ssn, \n",
    "                 gross_sales, commission_rate):\n",
    "        \"\"\"Initialize CommissionEmployee's attributes.\"\"\"\n",
    "        self._first_name = first_name\n",
    "        self._last_name = last_name\n",
    "        self._ssn = ssn\n",
    "        self.gross_sales = gross_sales  # validate via property\n",
    "        self.commission_rate = commission_rate  # validate via property\n",
    "\n",
    "    @property\n",
    "    def first_name(self):\n",
    "        return self._first_name\n",
    "\n",
    "    @property\n",
    "    def last_name(self):\n",
    "        return self._last_name\n",
    "\n",
    "    @property\n",
    "    def ssn(self):\n",
    "        return self._ssn\n",
    "\n",
    "    @property\n",
    "    def gross_sales(self):\n",
    "        return self._gross_sales\n",
    "\n",
    "    @gross_sales.setter\n",
    "    def gross_sales(self, sales):\n",
    "        \"\"\"Set gross sales or raise ValueError if invalid.\"\"\"\n",
    "        if sales < Decimal('0.00'):\n",
    "            raise ValueError('Gross sales must be >= to 0')\n",
    "        \n",
    "        self._gross_sales = sales\n",
    "        \n",
    "    @property\n",
    "    def commission_rate(self):\n",
    "        return self._commission_rate\n",
    "\n",
    "    @commission_rate.setter\n",
    "    def commission_rate(self, rate):\n",
    "        \"\"\"Set commission rate or raise ValueError if invalid.\"\"\"\n",
    "        if not (Decimal('0.0') < rate < Decimal('1.0')):\n",
    "            raise ValueError(\n",
    "               'Interest rate must be greater than 0 and less than 1')\n",
    "        \n",
    "        self._commission_rate = rate\n",
    "\n",
    "    def earnings(self):\n",
    "        \"\"\"Calculate earnings.\"\"\"   \n",
    "        return self.gross_sales * self.commission_rate\n",
    "\n",
    "    def __repr__(self):\n",
    "        \"\"\"Return string representation for repr().\"\"\"\n",
    "        return ('CommissionEmployee: ' + \n",
    "            f'{self.first_name} {self.last_name}\\n' +\n",
    "            f'social security number: {self.ssn}\\n' +\n",
    "            f'gross sales: {self.gross_sales:.2f}\\n' +\n",
    "            f'commission rate: {self.commission_rate:.2f}')"
   ]
  },
  {
   "cell_type": "code",
   "execution_count": 7,
   "id": "fb1f0e2f-61fb-46ed-9d1d-9f440e95c525",
   "metadata": {},
   "outputs": [
    {
     "name": "stdout",
     "output_type": "stream",
     "text": [
      "CommissionEmployee: David Stuborn\n",
      "social security number: 12345\n",
      "gross sales: 100.00\n",
      "commission rate: 0.02\n"
     ]
    }
   ],
   "source": [
    "ce1 = CommissionEmployee(\"David\", \"Stuborn\", 12345, 2000000, .02)\n",
    "ce1.gross_sales = 100\n",
    "ce1.earnings()\n",
    "print(ce1)"
   ]
  },
  {
   "cell_type": "code",
   "execution_count": 55,
   "id": "58d2fac5-21c7-4eb5-af58-67adebff6961",
   "metadata": {},
   "outputs": [],
   "source": [
    "class Person:\n",
    "    def __init__(self, age):\n",
    "        self._age = age\n",
    "    \n",
    "    @property\n",
    "    def age(self):\n",
    "        return self._age\n",
    "    @property\n",
    "    def year(self):\n",
    "        return 2021 - self.age\n",
    "    \n",
    "persons = {\n",
    "    Person(16),\n",
    "    Person(27),\n",
    "    Person(26),\n",
    "    Person(14),\n",
    "    Person(14),\n",
    "    Person(12)\n",
    "}\n"
   ]
  },
  {
   "cell_type": "code",
   "execution_count": 72,
   "id": "824da5d6-16c9-4974-b0df-de044db8ba26",
   "metadata": {},
   "outputs": [
    {
     "data": {
      "text/plain": [
       "2009"
      ]
     },
     "execution_count": 72,
     "metadata": {},
     "output_type": "execute_result"
    }
   ],
   "source": [
    "# max returns the highest value or an item with the highest value in an iterable\n",
    "# the person in the list with the highest year is the youngest one\n",
    "result = max(persons, key=lambda p: p.year).year\n",
    "result"
   ]
  },
  {
   "cell_type": "code",
   "execution_count": 80,
   "id": "c30bd819-a10c-4139-84dc-a3b17bcfed5d",
   "metadata": {},
   "outputs": [
    {
     "data": {
      "text/plain": [
       "1994"
      ]
     },
     "execution_count": 80,
     "metadata": {},
     "output_type": "execute_result"
    }
   ],
   "source": [
    "# we want the lowest value in terms of year and therefore the oldest one\n",
    "youngest = min(persons, key=lambda p: p.year).year\n",
    "youngest"
   ]
  },
  {
   "cell_type": "code",
   "execution_count": null,
   "id": "5bbfc2d4-1d2e-447a-8ec5-2fb860e3af97",
   "metadata": {},
   "outputs": [],
   "source": []
  }
 ],
 "metadata": {
  "kernelspec": {
   "display_name": "Python 3 (ipykernel)",
   "language": "python",
   "name": "python3"
  },
  "language_info": {
   "codemirror_mode": {
    "name": "ipython",
    "version": 3
   },
   "file_extension": ".py",
   "mimetype": "text/x-python",
   "name": "python",
   "nbconvert_exporter": "python",
   "pygments_lexer": "ipython3",
   "version": "3.8.8"
  }
 },
 "nbformat": 4,
 "nbformat_minor": 5
}
