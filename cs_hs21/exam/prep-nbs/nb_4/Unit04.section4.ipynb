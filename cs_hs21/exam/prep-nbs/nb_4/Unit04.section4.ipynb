{
 "cells": [
  {
   "cell_type": "markdown",
   "id": "maritime-agent",
   "metadata": {
    "slideshow": {
     "slide_type": "slide"
    }
   },
   "source": [
    "#### Lecture 4\n",
    "\n",
    "# Section 4: Summary\n"
   ]
  },
  {
   "cell_type": "markdown",
   "id": "therapeutic-stability",
   "metadata": {
    "slideshow": {
     "slide_type": "slide"
    }
   },
   "source": [
    "## 4.1 Summary of Data Structures"
   ]
  },
  {
   "cell_type": "markdown",
   "id": "recorded-polls",
   "metadata": {},
   "source": [
    "### Data Structures in Python\n",
    "* Lists\n",
    "* Tuples\n",
    "* Dictionaries \n",
    "* Sets"
   ]
  },
  {
   "cell_type": "markdown",
   "id": "vulnerable-protection",
   "metadata": {
    "slideshow": {
     "slide_type": "slide"
    }
   },
   "source": [
    "### How to Select the Right Data Structure\n",
    "\n",
    "__Ordered__ data structures (does the order has a meaning?):\n",
    "* List - Dynamic size: elements can be added a removed during the execution\n",
    "* Tuple - Fixed size\n",
    "\n",
    "__Not ordered__ (the order does not matter):\n",
    "* Dictionary - Need to convert a key into a value\n",
    "* Set - Simple values"
   ]
  },
  {
   "cell_type": "markdown",
   "id": "traditional-chapter",
   "metadata": {
    "slideshow": {
     "slide_type": "slide"
    }
   },
   "source": [
    "## What to Remember for Each Data Structure?\n",
    "Let's consider the example of a list\n",
    "* How do I create the data structure?"
   ]
  },
  {
   "cell_type": "code",
   "execution_count": null,
   "id": "qualified-sussex",
   "metadata": {},
   "outputs": [],
   "source": [
    "# An empty list\n",
    "my_empty_list = []"
   ]
  },
  {
   "cell_type": "code",
   "execution_count": null,
   "id": "engaging-executive",
   "metadata": {},
   "outputs": [],
   "source": [
    "# A list filled with some elements\n",
    "my_non_empty_list = [1, \"spam\", \"ham\", \"eggs\"] # see https://en.wikipedia.org/wiki/Metasyntactic_variable"
   ]
  },
  {
   "cell_type": "markdown",
   "id": "wooden-slide",
   "metadata": {
    "slideshow": {
     "slide_type": "slide"
    }
   },
   "source": [
    "* How do I add/remove an element to/from the data structure? This operation often depends on the nature of the data structure (e.g., access through an index or access via a key)"
   ]
  },
  {
   "cell_type": "code",
   "execution_count": 3,
   "id": "colored-convention",
   "metadata": {},
   "outputs": [
    {
     "name": "stdout",
     "output_type": "stream",
     "text": [
      "[10, 3.3]\n"
     ]
    }
   ],
   "source": [
    "x = [10]\n",
    "x.append(3.3)\n",
    "print(x)"
   ]
  },
  {
   "cell_type": "markdown",
   "id": "productive-passage",
   "metadata": {
    "slideshow": {
     "slide_type": "slide"
    }
   },
   "source": [
    "* How do I use the data structure in a for loop?"
   ]
  },
  {
   "cell_type": "code",
   "execution_count": 2,
   "id": "hydraulic-valley",
   "metadata": {},
   "outputs": [
    {
     "name": "stdout",
     "output_type": "stream",
     "text": [
      "1\n",
      "2\n",
      "3\n",
      "4\n"
     ]
    }
   ],
   "source": [
    "x = [1, 2, 3, 4]\n",
    "for item in x:\n",
    "    print(item)"
   ]
  },
  {
   "cell_type": "markdown",
   "id": "artistic-runner",
   "metadata": {
    "slideshow": {
     "slide_type": "slide"
    }
   },
   "source": [
    "* How do I combine two data structures?"
   ]
  },
  {
   "cell_type": "code",
   "execution_count": 1,
   "id": "inappropriate-insertion",
   "metadata": {},
   "outputs": [
    {
     "data": {
      "text/plain": [
       "[1, 2, 3, 4]"
      ]
     },
     "execution_count": 1,
     "metadata": {},
     "output_type": "execute_result"
    }
   ],
   "source": [
    "[1,2] + [3,4]"
   ]
  },
  {
   "cell_type": "markdown",
   "id": "armed-interstate",
   "metadata": {
    "slideshow": {
     "slide_type": "slide"
    }
   },
   "source": [
    "* How do I check if an element is in the data structure?"
   ]
  },
  {
   "cell_type": "code",
   "execution_count": 4,
   "id": "gentle-spank",
   "metadata": {},
   "outputs": [
    {
     "name": "stdout",
     "output_type": "stream",
     "text": [
      "True\n",
      "False\n"
     ]
    }
   ],
   "source": [
    "a = 1 in [1, 2, 3]\n",
    "print(a)\n",
    "b = 5 in [1, 2, 3]\n",
    "print(b)"
   ]
  },
  {
   "cell_type": "markdown",
   "id": "protected-complement",
   "metadata": {
    "slideshow": {
     "slide_type": "slide"
    }
   },
   "source": [
    "## Other Operations are Specific for the Data Strucure"
   ]
  },
  {
   "cell_type": "markdown",
   "id": "engaged-rubber",
   "metadata": {},
   "source": [
    "Some examples for each data structure"
   ]
  },
  {
   "cell_type": "markdown",
   "id": "korean-contact",
   "metadata": {
    "slideshow": {
     "slide_type": "slide"
    }
   },
   "source": [
    "### Lists\n",
    "Lists are __ordered__. This means that one can use some operations that only make sense for ordered data structures."
   ]
  },
  {
   "cell_type": "markdown",
   "id": "usual-reserve",
   "metadata": {},
   "source": [
    "* How to read the element at __position n__ in the list?"
   ]
  },
  {
   "cell_type": "code",
   "execution_count": null,
   "id": "cosmetic-anniversary",
   "metadata": {},
   "outputs": [],
   "source": [
    "n = 3\n",
    "list1 = [\"a\", \"b\", \"c\", \"d\", \"e\"]\n",
    "list1[n]"
   ]
  },
  {
   "cell_type": "markdown",
   "id": "detected-bridal",
   "metadata": {
    "slideshow": {
     "slide_type": "slide"
    }
   },
   "source": [
    "* How to write the element at postion n in the list?"
   ]
  },
  {
   "cell_type": "code",
   "execution_count": 5,
   "id": "suspected-connection",
   "metadata": {},
   "outputs": [
    {
     "name": "stdout",
     "output_type": "stream",
     "text": [
      "['a', 'b', 'c', 'd', 'egg']\n"
     ]
    }
   ],
   "source": [
    "n = 4\n",
    "list1 = [\"a\", \"b\", \"c\", \"d\", \"e\"]\n",
    "list1[n] = \"egg\"\n",
    "print(list1)"
   ]
  },
  {
   "cell_type": "markdown",
   "id": "threaded-wheat",
   "metadata": {
    "slideshow": {
     "slide_type": "slide"
    }
   },
   "source": [
    "* Any other _special_ operator?"
   ]
  },
  {
   "cell_type": "code",
   "execution_count": 6,
   "id": "deadly-gentleman",
   "metadata": {},
   "outputs": [
    {
     "name": "stdout",
     "output_type": "stream",
     "text": [
      "['b', 'c']\n"
     ]
    }
   ],
   "source": [
    "# Slices\n",
    "list1 = [\"a\", \"b\", \"c\", \"d\", \"e\"]\n",
    "a = list1[1:3]\n",
    "print(a)"
   ]
  },
  {
   "cell_type": "code",
   "execution_count": 7,
   "id": "cardiovascular-netherlands",
   "metadata": {},
   "outputs": [
    {
     "name": "stdout",
     "output_type": "stream",
     "text": [
      "['a', 'c', 'e']\n"
     ]
    }
   ],
   "source": [
    "# Slices with steps\n",
    "list1 = [\"a\", \"b\", \"c\", \"d\", \"e\", \"f\", \"g\", \"h\", \"i\"]\n",
    "a = list1[0:5:2]\n",
    "print(a)"
   ]
  },
  {
   "cell_type": "code",
   "execution_count": 11,
   "id": "plain-suicide",
   "metadata": {},
   "outputs": [
    {
     "name": "stdout",
     "output_type": "stream",
     "text": [
      "e\n"
     ]
    }
   ],
   "source": [
    "# Access with negative indexes\n",
    "list1 = [\"a\", \"b\", \"c\", \"d\", \"e\"]\n",
    "a = list1[-1]\n",
    "print(a)"
   ]
  },
  {
   "cell_type": "markdown",
   "id": "matched-needle",
   "metadata": {
    "slideshow": {
     "slide_type": "slide"
    }
   },
   "source": [
    "* **references** to lists"
   ]
  },
  {
   "cell_type": "code",
   "execution_count": 12,
   "id": "protected-presentation",
   "metadata": {},
   "outputs": [
    {
     "name": "stdout",
     "output_type": "stream",
     "text": [
      "['a', 'b', 'c', 'd', 'e', 'zzz']\n"
     ]
    }
   ],
   "source": [
    "list1 = [\"a\", \"b\", \"c\", \"d\", \"e\"]\n",
    "list2 = list1\n",
    "list2.append(\"zzz\")\n",
    "print(list2)"
   ]
  },
  {
   "cell_type": "code",
   "execution_count": 13,
   "id": "centered-hands",
   "metadata": {
    "slideshow": {
     "slide_type": "fragment"
    }
   },
   "outputs": [
    {
     "name": "stdout",
     "output_type": "stream",
     "text": [
      "['a', 'b', 'c', 'd', 'e', 'zzz']\n"
     ]
    }
   ],
   "source": [
    "print(list1)"
   ]
  },
  {
   "cell_type": "code",
   "execution_count": 14,
   "id": "determined-salmon",
   "metadata": {
    "slideshow": {
     "slide_type": "fragment"
    }
   },
   "outputs": [
    {
     "name": "stdout",
     "output_type": "stream",
     "text": [
      "ID of list1 is 140591885908032 and that of list2 is 140591885908032\n"
     ]
    }
   ],
   "source": [
    "print(f'ID of list1 is {id(list1)} and that of list2 is {id(list2)}')"
   ]
  },
  {
   "cell_type": "markdown",
   "id": "falling-divide",
   "metadata": {
    "slideshow": {
     "slide_type": "slide"
    }
   },
   "source": [
    "* **copies** of lists"
   ]
  },
  {
   "cell_type": "code",
   "execution_count": null,
   "id": "educational-undergraduate",
   "metadata": {},
   "outputs": [],
   "source": [
    "list1 = [\"a\", \"b\", \"c\", \"d\", \"e\"]\n",
    "list2 = list1.copy()       # or: list2 = list1[:]\n",
    "list2.append(\"zzz\")\n",
    "print(list2)\n",
    "print(list1)"
   ]
  },
  {
   "cell_type": "markdown",
   "id": "published-recorder",
   "metadata": {
    "slideshow": {
     "slide_type": "slide"
    }
   },
   "source": [
    "### Dictionaries\n",
    "Dictionaries are __not ordered__. Operations that use ordered data do not make sense (e.g., what is the third element?).\n",
    "\n",
    "But dictionaries provide direct access to elements through a key. So there are operations related to keys and values."
   ]
  },
  {
   "cell_type": "code",
   "execution_count": null,
   "id": "gorgeous-rubber",
   "metadata": {},
   "outputs": [],
   "source": [
    "x = {'Yoshua Bengio': 'Yoshua.Bengio@umontreal.ca', 'Bill Gates': 'billg@microsoft.com'}"
   ]
  },
  {
   "cell_type": "markdown",
   "id": "raising-click",
   "metadata": {
    "slideshow": {
     "slide_type": "slide"
    }
   },
   "source": [
    "* Retrieve a value by using the key "
   ]
  },
  {
   "cell_type": "code",
   "execution_count": null,
   "id": "intended-swaziland",
   "metadata": {},
   "outputs": [],
   "source": [
    "x['Yoshua Bengio'] "
   ]
  },
  {
   "cell_type": "markdown",
   "id": "wound-probe",
   "metadata": {
    "slideshow": {
     "slide_type": "slide"
    }
   },
   "source": [
    "* Iterate over the keys"
   ]
  },
  {
   "cell_type": "code",
   "execution_count": null,
   "id": "planned-designer",
   "metadata": {
    "scrolled": true
   },
   "outputs": [],
   "source": [
    "for name in x.keys():\n",
    "    print(x[name])"
   ]
  },
  {
   "cell_type": "markdown",
   "id": "maritime-separate",
   "metadata": {
    "slideshow": {
     "slide_type": "slide"
    }
   },
   "source": [
    "* Iterate over the values"
   ]
  },
  {
   "cell_type": "code",
   "execution_count": null,
   "id": "adjusted-sandwich",
   "metadata": {},
   "outputs": [],
   "source": [
    "for email in x.values():\n",
    "    print(email)"
   ]
  },
  {
   "cell_type": "markdown",
   "id": "twenty-creation",
   "metadata": {
    "slideshow": {
     "slide_type": "slide"
    }
   },
   "source": [
    "## 4.2 Excercises"
   ]
  },
  {
   "cell_type": "markdown",
   "id": "single-training",
   "metadata": {
    "slideshow": {
     "slide_type": "slide"
    }
   },
   "source": [
    "## Duplicate Elimination\n",
    "Create a function that receives a list and returns a (possibly shorter) list containing only the unique values in sorted order. Test your function with a list of numbers and a list of strings."
   ]
  },
  {
   "cell_type": "code",
   "execution_count": null,
   "id": "protective-passage",
   "metadata": {},
   "outputs": [],
   "source": [
    "def unique(values):\n",
    "    non_duplicates = []\n",
    "    \n",
    "    for value in values:\n",
    "        if value not in non_duplicates:\n",
    "            non_duplicates.append(value)\n",
    "    \n",
    "    non_duplicates.sort()\n",
    "    return non_duplicates"
   ]
  },
  {
   "cell_type": "code",
   "execution_count": null,
   "id": "fifty-liberia",
   "metadata": {
    "slideshow": {
     "slide_type": "fragment"
    }
   },
   "outputs": [],
   "source": [
    "numbers = [11, 11, 2, 2, 7, 7, 5, 5, 3, 3]\n",
    "unique(numbers)"
   ]
  },
  {
   "cell_type": "code",
   "execution_count": null,
   "id": "palestinian-angle",
   "metadata": {
    "scrolled": true,
    "slideshow": {
     "slide_type": "fragment"
    }
   },
   "outputs": [],
   "source": [
    "colors = ['red', 'red', 'orange', 'orange', 'yellow', 'yellow', 'green', 'green']\n",
    "unique(colors)"
   ]
  },
  {
   "cell_type": "markdown",
   "id": "affecting-question",
   "metadata": {
    "slideshow": {
     "slide_type": "slide"
    }
   },
   "source": [
    "Any idea for a _shorter_ version?"
   ]
  },
  {
   "cell_type": "code",
   "execution_count": null,
   "id": "printable-diversity",
   "metadata": {
    "slideshow": {
     "slide_type": "-"
    }
   },
   "outputs": [],
   "source": [
    "def unique2(values):\n",
    "    return sorted(set(values))"
   ]
  },
  {
   "cell_type": "code",
   "execution_count": null,
   "id": "commercial-organ",
   "metadata": {
    "slideshow": {
     "slide_type": "fragment"
    }
   },
   "outputs": [],
   "source": [
    "numbers = [11, 11, 2, 2, 7, 7, 5, 5, 3, 3]\n",
    "unique2(numbers)"
   ]
  },
  {
   "cell_type": "code",
   "execution_count": null,
   "id": "specific-basketball",
   "metadata": {
    "scrolled": true,
    "slideshow": {
     "slide_type": "fragment"
    }
   },
   "outputs": [],
   "source": [
    "colors = ['red', 'red', 'orange', 'orange', 'yellow', 'yellow', 'green', 'green']\n",
    "unique2(colors)"
   ]
  },
  {
   "cell_type": "markdown",
   "id": "auburn-equivalent",
   "metadata": {
    "slideshow": {
     "slide_type": "slide"
    }
   },
   "source": [
    "## Palindrome Tester\n",
    "A string that’s spelled identically backward and forward, like 'radar', is a palindrome. Write a function `is_palindrome` that takes a string and returns True if it’s a palindrome and False otherwise. Use a stack (simulated with a list as we did in Section 5.11) to help determine whether a string is a palindrome. Your function should ignore case sensitivity (that is, 'a' and 'A' are the same), spaces and punctuation."
   ]
  },
  {
   "cell_type": "code",
   "execution_count": null,
   "id": "gross-pitch",
   "metadata": {},
   "outputs": [],
   "source": [
    "def is_palindrome(string):\n",
    "    stack = []\n",
    "    for character in string:\n",
    "        stack.append(character)\n",
    "    \n",
    "    for character in string:\n",
    "        popped_value = stack.pop()\n",
    "        if character.lower() != popped_value.lower():\n",
    "            return False\n",
    "    \n",
    "    return True"
   ]
  },
  {
   "cell_type": "code",
   "execution_count": null,
   "id": "controlled-sender",
   "metadata": {
    "slideshow": {
     "slide_type": "fragment"
    }
   },
   "outputs": [],
   "source": [
    "is_palindrome('abcd')"
   ]
  },
  {
   "cell_type": "code",
   "execution_count": null,
   "id": "lesbian-committee",
   "metadata": {},
   "outputs": [],
   "source": [
    "is_palindrome('radar')"
   ]
  },
  {
   "cell_type": "code",
   "execution_count": null,
   "id": "rational-attack",
   "metadata": {
    "scrolled": true
   },
   "outputs": [],
   "source": [
    "is_palindrome('able was i ere I Saw Elba')"
   ]
  },
  {
   "cell_type": "markdown",
   "id": "organized-anxiety",
   "metadata": {
    "slideshow": {
     "slide_type": "slide"
    }
   },
   "source": [
    "## What does this code do?\n",
    "The dictionary temperatures contains three Fahrenheit temperature samples for each of four days. What does the for statement do?"
   ]
  },
  {
   "cell_type": "code",
   "execution_count": null,
   "id": "disciplinary-moscow",
   "metadata": {},
   "outputs": [],
   "source": [
    "temperatures = {\n",
    "'Monday': [66, 70, 74],\n",
    "'Tuesday': [50, 56, 64],\n",
    "'Wednesday': [75, 80, 83],\n",
    "'Thursday': [67, 74, 81]\n",
    "}\n",
    "for k, v in temperatures.items():\n",
    "    print(f'{k}: {sum(v)/len(v):.2f}')"
   ]
  },
  {
   "cell_type": "markdown",
   "id": "egyptian-administration",
   "metadata": {
    "slideshow": {
     "slide_type": "slide"
    }
   },
   "source": [
    "## Character Counts \n",
    "Recall that strings are sequences of characters. Write a script that inputs a sentence from the user, then uses a dictionary to summarize the number of occurrences of each letter. Ignore case, ignore blanks and assume the user does not enter any punctuation. Display a two-column table of the letters and their counts with the letters in sorted order."
   ]
  },
  {
   "cell_type": "code",
   "execution_count": null,
   "id": "outside-twenty",
   "metadata": {},
   "outputs": [],
   "source": [
    "\"\"\"Character counts.\"\"\"\n",
    "\n",
    "text = ('this is sample text with several words ' \n",
    "        'this is more sample text with some different words')\n",
    "\n",
    "characters = []\n",
    "for word in text.lower().split():\n",
    "    characters.extend(list(word))\n",
    "\n",
    "character_counts = {}\n",
    "\n",
    "# count occurrences of each unique word\n",
    "for character in characters:\n",
    "    if character in character_counts: \n",
    "        character_counts[character] += 1  # update existing key-value pair\n",
    "    else:\n",
    "        character_counts[character] = 1  # insert new key-value pair\n",
    "\n",
    "print(f'{\"CHARACTER\":<12}COUNT')\n",
    "\n",
    "for character, count in sorted(character_counts.items()):\n",
    "    print(f'{character:<12}{count}')"
   ]
  },
  {
   "cell_type": "markdown",
   "id": "compliant-argument",
   "metadata": {
    "slideshow": {
     "slide_type": "notes"
    }
   },
   "source": [
    " ------\n",
    "&copy;1992&ndash;2020 by Pearson Education, Inc. All Rights Reserved. This content is based on Chapter 1 of the book [**Intro to Python for Computer Science and Data Science: Learning to Program with AI, Big Data and the Cloud**](https://amzn.to/2VvdnxE).         "
   ]
  }
 ],
 "metadata": {
  "celltoolbar": "Slideshow",
  "kernelspec": {
   "display_name": "Python 3 (ipykernel)",
   "language": "python",
   "name": "python3"
  },
  "language_info": {
   "codemirror_mode": {
    "name": "ipython",
    "version": 3
   },
   "file_extension": ".py",
   "mimetype": "text/x-python",
   "name": "python",
   "nbconvert_exporter": "python",
   "pygments_lexer": "ipython3",
   "version": "3.8.8"
  }
 },
 "nbformat": 4,
 "nbformat_minor": 5
}
