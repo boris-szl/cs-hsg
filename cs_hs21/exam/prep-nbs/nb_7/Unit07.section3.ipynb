{
 "cells": [
  {
   "cell_type": "markdown",
   "metadata": {
    "slideshow": {
     "slide_type": "slide"
    }
   },
   "source": [
    "# Lecture 7\n",
    "\n",
    "# Section 3: Structured Query Language (SQL) in Python\n",
    "\n",
    "Hint: All the examples and explanations from this second part of today's lecture can be found in chapter 17 of the book."
   ]
  },
  {
   "cell_type": "markdown",
   "metadata": {
    "slideshow": {
     "slide_type": "slide"
    }
   },
   "source": [
    "## A `books` Database\n",
    "\n",
    "* a simple database storing data about book titles and its authors"
   ]
  },
  {
   "cell_type": "markdown",
   "metadata": {
    "slideshow": {
     "slide_type": "skip"
    }
   },
   "source": [
    "### Creating the `books` Database\n",
    "* we already have the SQLite database named `books.db`\n",
    "* if not (or you want to use the example in another SQL DB) you can create it from the `books.sql` file \n",
    "* In your Anaconda Command Prompt, Terminal or shell, change to the folder of this lecture. The following **sqlite3 command** creates a **SQLite database** named `books.db` and executes the `books.sql` SQL script, which defines how to create the database’s tables and populates them with data:\n",
    "\n",
    "> `sqlite3 books.db < books.sql`\n",
    "\n",
    "* The notation `<` indicates that `books.sql` is input into the sqlite3 command. When the command completes, the database is ready for use."
   ]
  },
  {
   "cell_type": "markdown",
   "metadata": {
    "slideshow": {
     "slide_type": "slide"
    }
   },
   "source": [
    "### Connecting to the Database in Python"
   ]
  },
  {
   "cell_type": "code",
   "execution_count": 1,
   "metadata": {},
   "outputs": [],
   "source": [
    "import sqlite3"
   ]
  },
  {
   "cell_type": "code",
   "execution_count": 2,
   "metadata": {},
   "outputs": [],
   "source": [
    "connection = sqlite3.connect('books.db')"
   ]
  },
  {
   "cell_type": "markdown",
   "metadata": {
    "slideshow": {
     "slide_type": "slide"
    }
   },
   "source": [
    "### `authors` Table\n",
    "\n",
    "The database has three tables—`authors`, `author_ISBN` and `titles`. The authors table\n",
    "stores all the authors and has three columns:\n",
    "* `id`—The author’s unique ID number. This integer column is defined as **autoincremented**—for each row inserted in the table, SQLite increases the `id` value by 1 to ensure that each row has a unique value. This column is the table’s **primary key**.\n",
    "* `first`—The author’s first name (a string).\n",
    "* `last`—The author’s last name (a string)."
   ]
  },
  {
   "cell_type": "markdown",
   "metadata": {
    "slideshow": {
     "slide_type": "slide"
    }
   },
   "source": [
    "### Viewing the `authors` Table’s Contents"
   ]
  },
  {
   "cell_type": "code",
   "execution_count": 3,
   "metadata": {},
   "outputs": [],
   "source": [
    "# pandas is a data analysis and manipulation tool\n",
    "# we will cover pandas at a later stage\n",
    "import pandas as pd "
   ]
  },
  {
   "cell_type": "code",
   "execution_count": 5,
   "metadata": {},
   "outputs": [],
   "source": [
    "pd.options.display.max_columns = 10 # how many columns of results to display"
   ]
  },
  {
   "cell_type": "code",
   "execution_count": 10,
   "metadata": {},
   "outputs": [
    {
     "data": {
      "text/html": [
       "<div>\n",
       "<style scoped>\n",
       "    .dataframe tbody tr th:only-of-type {\n",
       "        vertical-align: middle;\n",
       "    }\n",
       "\n",
       "    .dataframe tbody tr th {\n",
       "        vertical-align: top;\n",
       "    }\n",
       "\n",
       "    .dataframe thead th {\n",
       "        text-align: right;\n",
       "    }\n",
       "</style>\n",
       "<table border=\"1\" class=\"dataframe\">\n",
       "  <thead>\n",
       "    <tr style=\"text-align: right;\">\n",
       "      <th></th>\n",
       "      <th>first</th>\n",
       "      <th>last</th>\n",
       "    </tr>\n",
       "    <tr>\n",
       "      <th>id</th>\n",
       "      <th></th>\n",
       "      <th></th>\n",
       "    </tr>\n",
       "  </thead>\n",
       "  <tbody>\n",
       "    <tr>\n",
       "      <th>1</th>\n",
       "      <td>Paul</td>\n",
       "      <td>Deitel</td>\n",
       "    </tr>\n",
       "    <tr>\n",
       "      <th>2</th>\n",
       "      <td>Harvey</td>\n",
       "      <td>Deitel</td>\n",
       "    </tr>\n",
       "    <tr>\n",
       "      <th>3</th>\n",
       "      <td>Abbey</td>\n",
       "      <td>Deitel</td>\n",
       "    </tr>\n",
       "    <tr>\n",
       "      <th>4</th>\n",
       "      <td>Dan</td>\n",
       "      <td>Quirk</td>\n",
       "    </tr>\n",
       "    <tr>\n",
       "      <th>5</th>\n",
       "      <td>Alexander</td>\n",
       "      <td>Wald</td>\n",
       "    </tr>\n",
       "  </tbody>\n",
       "</table>\n",
       "</div>"
      ],
      "text/plain": [
       "        first    last\n",
       "id                   \n",
       "1        Paul  Deitel\n",
       "2      Harvey  Deitel\n",
       "3       Abbey  Deitel\n",
       "4         Dan   Quirk\n",
       "5   Alexander    Wald"
      ]
     },
     "execution_count": 10,
     "metadata": {},
     "output_type": "execute_result"
    }
   ],
   "source": [
    "pd.read_sql('SELECT * FROM authors', connection, index_col=['id'])"
   ]
  },
  {
   "cell_type": "markdown",
   "metadata": {
    "slideshow": {
     "slide_type": "slide"
    }
   },
   "source": [
    "Pandas function `read_sql` executes a SQL query and returns a `DataFrame` containing the query’s results. The function’s arguments are:\n",
    "* a string representing the **SQL query** to execute,\n",
    "* the SQLite database’s **Connection object**, and in this case\n",
    "* an `index_col` **keyword argument** indicating which column should be used as the DataFrame’s row indices (the author’s id values in this case).\n",
    "* when index_col is not passed, index values starting from 0 appear to the left of the DataFrame’s rows."
   ]
  },
  {
   "cell_type": "markdown",
   "metadata": {
    "slideshow": {
     "slide_type": "slide"
    }
   },
   "source": [
    "### `titles` Table\n",
    "The titles table stores all the books and has four columns:\n",
    "* `isbn`—The book’s ISBN (a string) is this table’s primary key. ISBN is an abbreviation for “International Standard Book Number,” which is a numbering scheme that publishers use to give every book a unique identification number.\n",
    "* `title`—The book’s title (a string).\n",
    "* `edition`—The book’s edition number (an integer).\n",
    "* `copyright`—The book’s copyright year (a string)."
   ]
  },
  {
   "cell_type": "code",
   "execution_count": 11,
   "metadata": {},
   "outputs": [
    {
     "data": {
      "text/html": [
       "<div>\n",
       "<style scoped>\n",
       "    .dataframe tbody tr th:only-of-type {\n",
       "        vertical-align: middle;\n",
       "    }\n",
       "\n",
       "    .dataframe tbody tr th {\n",
       "        vertical-align: top;\n",
       "    }\n",
       "\n",
       "    .dataframe thead th {\n",
       "        text-align: right;\n",
       "    }\n",
       "</style>\n",
       "<table border=\"1\" class=\"dataframe\">\n",
       "  <thead>\n",
       "    <tr style=\"text-align: right;\">\n",
       "      <th></th>\n",
       "      <th>isbn</th>\n",
       "      <th>title</th>\n",
       "      <th>edition</th>\n",
       "      <th>copyright</th>\n",
       "    </tr>\n",
       "  </thead>\n",
       "  <tbody>\n",
       "    <tr>\n",
       "      <th>0</th>\n",
       "      <td>0135404673</td>\n",
       "      <td>Intro to Python for CS and DS</td>\n",
       "      <td>1</td>\n",
       "      <td>2020</td>\n",
       "    </tr>\n",
       "    <tr>\n",
       "      <th>1</th>\n",
       "      <td>0132151006</td>\n",
       "      <td>Internet &amp; WWW How to Program</td>\n",
       "      <td>5</td>\n",
       "      <td>2012</td>\n",
       "    </tr>\n",
       "    <tr>\n",
       "      <th>2</th>\n",
       "      <td>0134743350</td>\n",
       "      <td>Java How to Program</td>\n",
       "      <td>11</td>\n",
       "      <td>2018</td>\n",
       "    </tr>\n",
       "    <tr>\n",
       "      <th>3</th>\n",
       "      <td>0133976890</td>\n",
       "      <td>C How to Program</td>\n",
       "      <td>8</td>\n",
       "      <td>2016</td>\n",
       "    </tr>\n",
       "    <tr>\n",
       "      <th>4</th>\n",
       "      <td>0133406954</td>\n",
       "      <td>Visual Basic 2012 How to Program</td>\n",
       "      <td>6</td>\n",
       "      <td>2014</td>\n",
       "    </tr>\n",
       "    <tr>\n",
       "      <th>5</th>\n",
       "      <td>0134601548</td>\n",
       "      <td>Visual C# How to Program</td>\n",
       "      <td>6</td>\n",
       "      <td>2017</td>\n",
       "    </tr>\n",
       "    <tr>\n",
       "      <th>6</th>\n",
       "      <td>0136151574</td>\n",
       "      <td>Visual C++ How to Program</td>\n",
       "      <td>2</td>\n",
       "      <td>2008</td>\n",
       "    </tr>\n",
       "    <tr>\n",
       "      <th>7</th>\n",
       "      <td>0134448235</td>\n",
       "      <td>C++ How to Program</td>\n",
       "      <td>10</td>\n",
       "      <td>2017</td>\n",
       "    </tr>\n",
       "    <tr>\n",
       "      <th>8</th>\n",
       "      <td>0134444302</td>\n",
       "      <td>Android How to Program</td>\n",
       "      <td>3</td>\n",
       "      <td>2017</td>\n",
       "    </tr>\n",
       "    <tr>\n",
       "      <th>9</th>\n",
       "      <td>0134289366</td>\n",
       "      <td>Android 6 for Programmers</td>\n",
       "      <td>3</td>\n",
       "      <td>2016</td>\n",
       "    </tr>\n",
       "  </tbody>\n",
       "</table>\n",
       "</div>"
      ],
      "text/plain": [
       "         isbn                             title  edition copyright\n",
       "0  0135404673     Intro to Python for CS and DS        1      2020\n",
       "1  0132151006     Internet & WWW How to Program        5      2012\n",
       "2  0134743350               Java How to Program       11      2018\n",
       "3  0133976890                  C How to Program        8      2016\n",
       "4  0133406954  Visual Basic 2012 How to Program        6      2014\n",
       "5  0134601548          Visual C# How to Program        6      2017\n",
       "6  0136151574         Visual C++ How to Program        2      2008\n",
       "7  0134448235                C++ How to Program       10      2017\n",
       "8  0134444302            Android How to Program        3      2017\n",
       "9  0134289366         Android 6 for Programmers        3      2016"
      ]
     },
     "execution_count": 11,
     "metadata": {},
     "output_type": "execute_result"
    }
   ],
   "source": [
    "pd.read_sql('SELECT * FROM titles', connection)"
   ]
  },
  {
   "cell_type": "markdown",
   "metadata": {
    "slideshow": {
     "slide_type": "slide"
    }
   },
   "source": [
    "### `author_ISBN` Table\n",
    "The author_ISBN table uses the following columns to associate authors from the authors table with their books in the titles table:\n",
    "* `id`—An author’s id (an integer)-it is a **foreign key** here.\n",
    "* `isbn`—The book’s ISBN (a string)-also a **foreign key**.\n",
    "* together they form a **composite primary key**"
   ]
  },
  {
   "cell_type": "code",
   "execution_count": 14,
   "metadata": {},
   "outputs": [],
   "source": [
    "df = pd.read_sql('SELECT * FROM author_ISBN', connection)"
   ]
  },
  {
   "cell_type": "code",
   "execution_count": 15,
   "metadata": {},
   "outputs": [
    {
     "data": {
      "text/html": [
       "<div>\n",
       "<style scoped>\n",
       "    .dataframe tbody tr th:only-of-type {\n",
       "        vertical-align: middle;\n",
       "    }\n",
       "\n",
       "    .dataframe tbody tr th {\n",
       "        vertical-align: top;\n",
       "    }\n",
       "\n",
       "    .dataframe thead th {\n",
       "        text-align: right;\n",
       "    }\n",
       "</style>\n",
       "<table border=\"1\" class=\"dataframe\">\n",
       "  <thead>\n",
       "    <tr style=\"text-align: right;\">\n",
       "      <th></th>\n",
       "      <th>id</th>\n",
       "      <th>isbn</th>\n",
       "    </tr>\n",
       "  </thead>\n",
       "  <tbody>\n",
       "    <tr>\n",
       "      <th>0</th>\n",
       "      <td>1</td>\n",
       "      <td>0134289366</td>\n",
       "    </tr>\n",
       "    <tr>\n",
       "      <th>1</th>\n",
       "      <td>2</td>\n",
       "      <td>0134289366</td>\n",
       "    </tr>\n",
       "    <tr>\n",
       "      <th>2</th>\n",
       "      <td>5</td>\n",
       "      <td>0134289366</td>\n",
       "    </tr>\n",
       "    <tr>\n",
       "      <th>3</th>\n",
       "      <td>1</td>\n",
       "      <td>0135404673</td>\n",
       "    </tr>\n",
       "    <tr>\n",
       "      <th>4</th>\n",
       "      <td>2</td>\n",
       "      <td>0135404673</td>\n",
       "    </tr>\n",
       "  </tbody>\n",
       "</table>\n",
       "</div>"
      ],
      "text/plain": [
       "   id        isbn\n",
       "0   1  0134289366\n",
       "1   2  0134289366\n",
       "2   5  0134289366\n",
       "3   1  0135404673\n",
       "4   2  0135404673"
      ]
     },
     "execution_count": 15,
     "metadata": {},
     "output_type": "execute_result"
    }
   ],
   "source": [
    "df.head() # provides the first n (default n = 5) rows of the data frame"
   ]
  },
  {
   "cell_type": "markdown",
   "metadata": {
    "slideshow": {
     "slide_type": "slide"
    }
   },
   "source": [
    "### Entity-Relationship (ER) Diagram"
   ]
  },
  {
   "cell_type": "markdown",
   "metadata": {},
   "source": [
    "![books ERD](data:image/png;base64,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)"
   ]
  },
  {
   "cell_type": "markdown",
   "metadata": {},
   "source": [
    "* every row must have a primary-key value\n",
    "* that value must be unique in the table\n",
    "* this is known as the **Rule of Entity Integrity**\n",
    "* for the `author_ISBN` table, the primary key is the combination of both columns—this is a **composite primary key**"
   ]
  },
  {
   "cell_type": "markdown",
   "metadata": {
    "slideshow": {
     "slide_type": "slide"
    }
   },
   "source": [
    "### SQL Keywords\n",
    "| SQL keyword|Description\n",
    "| :- | :- |\n",
    "| `SELECT`\t| Retrieves data from one or more tables.\n",
    "| `FROM`\t| Tables involved in the query. Required in every SELECT.\n",
    "| `WHERE`\t| Criteria for selection that determine the rows to be retrieved, deleted or updated. Optional in a SQL statement.\n",
    "| `GROUP BY`\t| Criteria for grouping rows. Optional in a SELECT query.\n",
    "| `ORDER BY`\t| Criteria for ordering rows. Optional in a SELECT query.\n",
    "| `INNER JOIN`\t| Merge rows from multiple tables.\n",
    "| `INSERT`\t| Insert rows into a specified table.\n",
    "| `UPDATE`\t| Update rows in a specified table.\n",
    "| `DELETE`\t| Delete rows from a specified table."
   ]
  },
  {
   "cell_type": "markdown",
   "metadata": {
    "slideshow": {
     "slide_type": "slide"
    }
   },
   "source": [
    "##  `SELECT` Queries"
   ]
  },
  {
   "cell_type": "code",
   "execution_count": 16,
   "metadata": {},
   "outputs": [
    {
     "data": {
      "text/html": [
       "<div>\n",
       "<style scoped>\n",
       "    .dataframe tbody tr th:only-of-type {\n",
       "        vertical-align: middle;\n",
       "    }\n",
       "\n",
       "    .dataframe tbody tr th {\n",
       "        vertical-align: top;\n",
       "    }\n",
       "\n",
       "    .dataframe thead th {\n",
       "        text-align: right;\n",
       "    }\n",
       "</style>\n",
       "<table border=\"1\" class=\"dataframe\">\n",
       "  <thead>\n",
       "    <tr style=\"text-align: right;\">\n",
       "      <th></th>\n",
       "      <th>first</th>\n",
       "      <th>last</th>\n",
       "    </tr>\n",
       "  </thead>\n",
       "  <tbody>\n",
       "    <tr>\n",
       "      <th>0</th>\n",
       "      <td>Paul</td>\n",
       "      <td>Deitel</td>\n",
       "    </tr>\n",
       "    <tr>\n",
       "      <th>1</th>\n",
       "      <td>Harvey</td>\n",
       "      <td>Deitel</td>\n",
       "    </tr>\n",
       "    <tr>\n",
       "      <th>2</th>\n",
       "      <td>Abbey</td>\n",
       "      <td>Deitel</td>\n",
       "    </tr>\n",
       "    <tr>\n",
       "      <th>3</th>\n",
       "      <td>Dan</td>\n",
       "      <td>Quirk</td>\n",
       "    </tr>\n",
       "    <tr>\n",
       "      <th>4</th>\n",
       "      <td>Alexander</td>\n",
       "      <td>Wald</td>\n",
       "    </tr>\n",
       "  </tbody>\n",
       "</table>\n",
       "</div>"
      ],
      "text/plain": [
       "       first    last\n",
       "0       Paul  Deitel\n",
       "1     Harvey  Deitel\n",
       "2      Abbey  Deitel\n",
       "3        Dan   Quirk\n",
       "4  Alexander    Wald"
      ]
     },
     "execution_count": 16,
     "metadata": {},
     "output_type": "execute_result"
    }
   ],
   "source": [
    "pd.read_sql('SELECT first, last FROM authors', connection)"
   ]
  },
  {
   "cell_type": "markdown",
   "metadata": {},
   "source": [
    "##  `WHERE` Clause"
   ]
  },
  {
   "cell_type": "code",
   "execution_count": null,
   "metadata": {
    "slideshow": {
     "slide_type": "slide"
    }
   },
   "outputs": [],
   "source": [
    "pd.read_sql(\"\"\"SELECT title, edition, copyright \n",
    "                FROM titles \n",
    "                WHERE copyright > '2016'\"\"\", connection)"
   ]
  },
  {
   "cell_type": "markdown",
   "metadata": {
    "slideshow": {
     "slide_type": "slide"
    }
   },
   "source": [
    "### Pattern Matching: Zero or More Characters "
   ]
  },
  {
   "cell_type": "code",
   "execution_count": null,
   "metadata": {},
   "outputs": [],
   "source": [
    "pd.read_sql(\"\"\"SELECT id, first, last \n",
    "                FROM authors \n",
    "                WHERE last LIKE 'D%'\"\"\", \n",
    "             connection, index_col=['id'])"
   ]
  },
  {
   "cell_type": "markdown",
   "metadata": {
    "slideshow": {
     "slide_type": "slide"
    }
   },
   "source": [
    "              \n",
    "\n",
    "### Pattern Matching: Any Character"
   ]
  },
  {
   "cell_type": "code",
   "execution_count": null,
   "metadata": {},
   "outputs": [],
   "source": [
    "pd.read_sql(\"\"\"SELECT id, first, last \n",
    "                FROM authors \n",
    "                WHERE first LIKE '_b%'\"\"\", \n",
    "             connection, index_col=['id'])"
   ]
  },
  {
   "cell_type": "markdown",
   "metadata": {
    "slideshow": {
     "slide_type": "slide"
    }
   },
   "source": [
    "              \n",
    "\n",
    "##  `ORDER BY` Clause"
   ]
  },
  {
   "cell_type": "code",
   "execution_count": null,
   "metadata": {},
   "outputs": [],
   "source": [
    "pd.read_sql('SELECT title FROM titles ORDER BY title ASC',\n",
    "             connection)"
   ]
  },
  {
   "cell_type": "markdown",
   "metadata": {
    "slideshow": {
     "slide_type": "slide"
    }
   },
   "source": [
    "### Sorting By Multiple Columns"
   ]
  },
  {
   "cell_type": "code",
   "execution_count": null,
   "metadata": {},
   "outputs": [],
   "source": [
    "pd.read_sql(\"\"\"SELECT id, first, last \n",
    "                FROM authors \n",
    "                ORDER BY last, first\"\"\", \n",
    "             connection, index_col=['id'])"
   ]
  },
  {
   "cell_type": "code",
   "execution_count": null,
   "metadata": {
    "slideshow": {
     "slide_type": "slide"
    }
   },
   "outputs": [],
   "source": [
    "pd.read_sql(\"\"\"SELECT id, first, last \n",
    "                FROM authors \n",
    "                ORDER BY last DESC, first ASC\"\"\", \n",
    "             connection, index_col=['id'])"
   ]
  },
  {
   "cell_type": "markdown",
   "metadata": {
    "slideshow": {
     "slide_type": "slide"
    }
   },
   "source": [
    "              \n",
    "\n",
    "### Combining the `WHERE` and `ORDER BY` Clauses"
   ]
  },
  {
   "cell_type": "code",
   "execution_count": null,
   "metadata": {},
   "outputs": [],
   "source": [
    "pd.read_sql(\"\"\"SELECT isbn, title, edition, copyright\n",
    "                FROM titles\n",
    "                WHERE title LIKE '%How to Program'\n",
    "                ORDER BY title\"\"\", connection)"
   ]
  },
  {
   "cell_type": "markdown",
   "metadata": {
    "slideshow": {
     "slide_type": "slide"
    }
   },
   "source": [
    "##  Merging Data from Multiple Tables: `INNER JOIN`"
   ]
  },
  {
   "cell_type": "code",
   "execution_count": 17,
   "metadata": {},
   "outputs": [
    {
     "data": {
      "text/html": [
       "<div>\n",
       "<style scoped>\n",
       "    .dataframe tbody tr th:only-of-type {\n",
       "        vertical-align: middle;\n",
       "    }\n",
       "\n",
       "    .dataframe tbody tr th {\n",
       "        vertical-align: top;\n",
       "    }\n",
       "\n",
       "    .dataframe thead th {\n",
       "        text-align: right;\n",
       "    }\n",
       "</style>\n",
       "<table border=\"1\" class=\"dataframe\">\n",
       "  <thead>\n",
       "    <tr style=\"text-align: right;\">\n",
       "      <th></th>\n",
       "      <th>first</th>\n",
       "      <th>last</th>\n",
       "      <th>isbn</th>\n",
       "    </tr>\n",
       "  </thead>\n",
       "  <tbody>\n",
       "    <tr>\n",
       "      <th>0</th>\n",
       "      <td>Abbey</td>\n",
       "      <td>Deitel</td>\n",
       "      <td>0132151006</td>\n",
       "    </tr>\n",
       "    <tr>\n",
       "      <th>1</th>\n",
       "      <td>Abbey</td>\n",
       "      <td>Deitel</td>\n",
       "      <td>0133406954</td>\n",
       "    </tr>\n",
       "    <tr>\n",
       "      <th>2</th>\n",
       "      <td>Harvey</td>\n",
       "      <td>Deitel</td>\n",
       "      <td>0134289366</td>\n",
       "    </tr>\n",
       "    <tr>\n",
       "      <th>3</th>\n",
       "      <td>Harvey</td>\n",
       "      <td>Deitel</td>\n",
       "      <td>0135404673</td>\n",
       "    </tr>\n",
       "    <tr>\n",
       "      <th>4</th>\n",
       "      <td>Harvey</td>\n",
       "      <td>Deitel</td>\n",
       "      <td>0132151006</td>\n",
       "    </tr>\n",
       "  </tbody>\n",
       "</table>\n",
       "</div>"
      ],
      "text/plain": [
       "    first    last        isbn\n",
       "0   Abbey  Deitel  0132151006\n",
       "1   Abbey  Deitel  0133406954\n",
       "2  Harvey  Deitel  0134289366\n",
       "3  Harvey  Deitel  0135404673\n",
       "4  Harvey  Deitel  0132151006"
      ]
     },
     "execution_count": 17,
     "metadata": {},
     "output_type": "execute_result"
    }
   ],
   "source": [
    "pd.read_sql(\"\"\"SELECT first, last, isbn\n",
    "                FROM authors\n",
    "                INNER JOIN author_ISBN\n",
    "                    ON authors.id = author_ISBN.id\n",
    "                ORDER BY last, first\"\"\", connection).head()"
   ]
  },
  {
   "cell_type": "markdown",
   "metadata": {
    "slideshow": {
     "slide_type": "slide"
    }
   },
   "source": [
    "##  `INSERT INTO` Statement"
   ]
  },
  {
   "cell_type": "code",
   "execution_count": 19,
   "metadata": {},
   "outputs": [],
   "source": [
    "cursor = connection.cursor()"
   ]
  },
  {
   "cell_type": "markdown",
   "metadata": {},
   "source": [
    "* a `Cursor` object is similar to an `iterable` dealing with results from db queries\n",
    "* The pandas method `read_sql` actually uses a `Cursor behind the scenes to execute queries` and access the rows of the results"
   ]
  },
  {
   "cell_type": "code",
   "execution_count": 20,
   "metadata": {},
   "outputs": [
    {
     "name": "stdout",
     "output_type": "stream",
     "text": [
      "(1, 'Paul', 'Deitel')\n",
      "(2, 'Harvey', 'Deitel')\n",
      "(3, 'Abbey', 'Deitel')\n",
      "(4, 'Dan', 'Quirk')\n",
      "(5, 'Alexander', 'Wald')\n"
     ]
    }
   ],
   "source": [
    "cursor = cursor.execute('SELECT * FROM authors')\n",
    "for c in cursor:\n",
    "    print(c)"
   ]
  },
  {
   "cell_type": "code",
   "execution_count": 21,
   "metadata": {
    "slideshow": {
     "slide_type": "slide"
    }
   },
   "outputs": [],
   "source": [
    "cursor = cursor.execute(\"\"\"INSERT INTO authors (first, last)\n",
    "                            VALUES ('Sue', 'Red')\"\"\")"
   ]
  },
  {
   "cell_type": "code",
   "execution_count": 22,
   "metadata": {},
   "outputs": [
    {
     "data": {
      "text/html": [
       "<div>\n",
       "<style scoped>\n",
       "    .dataframe tbody tr th:only-of-type {\n",
       "        vertical-align: middle;\n",
       "    }\n",
       "\n",
       "    .dataframe tbody tr th {\n",
       "        vertical-align: top;\n",
       "    }\n",
       "\n",
       "    .dataframe thead th {\n",
       "        text-align: right;\n",
       "    }\n",
       "</style>\n",
       "<table border=\"1\" class=\"dataframe\">\n",
       "  <thead>\n",
       "    <tr style=\"text-align: right;\">\n",
       "      <th></th>\n",
       "      <th>first</th>\n",
       "      <th>last</th>\n",
       "    </tr>\n",
       "    <tr>\n",
       "      <th>id</th>\n",
       "      <th></th>\n",
       "      <th></th>\n",
       "    </tr>\n",
       "  </thead>\n",
       "  <tbody>\n",
       "    <tr>\n",
       "      <th>1</th>\n",
       "      <td>Paul</td>\n",
       "      <td>Deitel</td>\n",
       "    </tr>\n",
       "    <tr>\n",
       "      <th>2</th>\n",
       "      <td>Harvey</td>\n",
       "      <td>Deitel</td>\n",
       "    </tr>\n",
       "    <tr>\n",
       "      <th>3</th>\n",
       "      <td>Abbey</td>\n",
       "      <td>Deitel</td>\n",
       "    </tr>\n",
       "    <tr>\n",
       "      <th>4</th>\n",
       "      <td>Dan</td>\n",
       "      <td>Quirk</td>\n",
       "    </tr>\n",
       "    <tr>\n",
       "      <th>5</th>\n",
       "      <td>Alexander</td>\n",
       "      <td>Wald</td>\n",
       "    </tr>\n",
       "    <tr>\n",
       "      <th>6</th>\n",
       "      <td>Sue</td>\n",
       "      <td>Red</td>\n",
       "    </tr>\n",
       "  </tbody>\n",
       "</table>\n",
       "</div>"
      ],
      "text/plain": [
       "        first    last\n",
       "id                   \n",
       "1        Paul  Deitel\n",
       "2      Harvey  Deitel\n",
       "3       Abbey  Deitel\n",
       "4         Dan   Quirk\n",
       "5   Alexander    Wald\n",
       "6         Sue     Red"
      ]
     },
     "execution_count": 22,
     "metadata": {},
     "output_type": "execute_result"
    }
   ],
   "source": [
    "pd.read_sql('SELECT id, first, last FROM authors', \n",
    "             connection, index_col=['id'])\n",
    "             "
   ]
  },
  {
   "cell_type": "markdown",
   "metadata": {
    "slideshow": {
     "slide_type": "slide"
    }
   },
   "source": [
    "### Note Regarding Strings That Contain Single Quotes\n",
    "* SQL delimits strings with single quotes (`'`). \n",
    "* A string containing a single quote, such as `O’Malley`, must have two single quotes in the position where the single quote appears (e.g., `'O''Malley'`). \n",
    "* The first acts as an escape character for the second. Not escaping singlequote characters in a string that’s part of a SQL statement is a SQL syntax error."
   ]
  },
  {
   "cell_type": "markdown",
   "metadata": {
    "slideshow": {
     "slide_type": "slide"
    }
   },
   "source": [
    "#  `UPDATE` Statement"
   ]
  },
  {
   "cell_type": "code",
   "execution_count": null,
   "metadata": {},
   "outputs": [],
   "source": [
    "cursor = cursor.execute(\"\"\"UPDATE authors SET last='Black'\n",
    "                            WHERE last='Red' AND first='Sue'\"\"\") "
   ]
  },
  {
   "cell_type": "code",
   "execution_count": null,
   "metadata": {},
   "outputs": [],
   "source": [
    "cursor.rowcount"
   ]
  },
  {
   "cell_type": "code",
   "execution_count": null,
   "metadata": {},
   "outputs": [],
   "source": [
    "pd.read_sql('SELECT id, first, last FROM authors', \n",
    "             connection, index_col=['id'])\n",
    "             "
   ]
  },
  {
   "cell_type": "markdown",
   "metadata": {
    "slideshow": {
     "slide_type": "slide"
    }
   },
   "source": [
    "#  `DELETE FROM` Statement"
   ]
  },
  {
   "cell_type": "code",
   "execution_count": null,
   "metadata": {},
   "outputs": [],
   "source": [
    "cursor = cursor.execute('DELETE FROM authors WHERE id=6') "
   ]
  },
  {
   "cell_type": "code",
   "execution_count": null,
   "metadata": {},
   "outputs": [],
   "source": [
    "cursor.rowcount"
   ]
  },
  {
   "cell_type": "code",
   "execution_count": null,
   "metadata": {},
   "outputs": [],
   "source": [
    "pd.read_sql('SELECT id, first, last FROM authors', \n",
    "             connection, index_col=['id'])"
   ]
  },
  {
   "cell_type": "markdown",
   "metadata": {
    "slideshow": {
     "slide_type": "slide"
    }
   },
   "source": [
    "### Closing the Database"
   ]
  },
  {
   "cell_type": "markdown",
   "metadata": {},
   "source": [
    "```\n",
    "connection.close()\n",
    "```"
   ]
  },
  {
   "cell_type": "markdown",
   "metadata": {
    "slideshow": {
     "slide_type": "slide"
    }
   },
   "source": [
    "# Self Check\n",
    "1. Select from the `titles` table all the titles and their edition numbers in descending order by edition number. Show only the first three results."
   ]
  },
  {
   "cell_type": "code",
   "execution_count": null,
   "metadata": {},
   "outputs": [],
   "source": [
    "pd.read_sql(\"\"\"SELECT title, edition FROM titles\n",
    "               ORDER BY edition DESC\"\"\", connection).head(3)"
   ]
  },
  {
   "cell_type": "markdown",
   "metadata": {
    "slideshow": {
     "slide_type": "slide"
    }
   },
   "source": [
    "2. Select from the `authors` table all authors whose first names start with `'A'`."
   ]
  },
  {
   "cell_type": "code",
   "execution_count": null,
   "metadata": {},
   "outputs": [],
   "source": [
    "pd.read_sql(\"\"\"SELECT * FROM authors\n",
    "               WHERE first LIKE 'A%'\"\"\", connection)"
   ]
  },
  {
   "cell_type": "markdown",
   "metadata": {
    "slideshow": {
     "slide_type": "slide"
    }
   },
   "source": [
    "3. SQL’s `NOT` keyword reverses the value of a `WHERE` clause’s condition. Select from the `titles` table all titles that do not end with `'How to Program'`."
   ]
  },
  {
   "cell_type": "code",
   "execution_count": null,
   "metadata": {},
   "outputs": [],
   "source": [
    "pd.read_sql(\"\"\"SELECT isbn, title, edition, copyright\n",
    "                FROM titles\n",
    "                WHERE title NOT LIKE '%How to Program'\n",
    "                ORDER BY title\"\"\", connection)"
   ]
  },
  {
   "cell_type": "code",
   "execution_count": null,
   "metadata": {},
   "outputs": [],
   "source": [
    "connection.close()"
   ]
  },
  {
   "cell_type": "code",
   "execution_count": null,
   "metadata": {
    "slideshow": {
     "slide_type": "notes"
    }
   },
   "outputs": [],
   "source": [
    "##########################################################################\n",
    "# (C) Copyright 2019 by Deitel & Associates, Inc. and                    #\n",
    "# Pearson Education, Inc. All Rights Reserved.                           #\n",
    "#                                                                        #\n",
    "# DISCLAIMER: The authors and publisher of this book have used their     #\n",
    "# best efforts in preparing the book. These efforts include the          #\n",
    "# development, research, and testing of the theories and programs        #\n",
    "# to determine their effectiveness. The authors and publisher make       #\n",
    "# no warranty of any kind, expressed or implied, with regard to these    #\n",
    "# programs or to the documentation contained in these books. The authors #\n",
    "# and publisher shall not be liable in any event for incidental or       #\n",
    "# consequential damages in connection with, or arising out of, the       #\n",
    "# furnishing, performance, or use of these programs.                     #\n",
    "##########################################################################"
   ]
  }
 ],
 "metadata": {
  "celltoolbar": "Slideshow",
  "kernelspec": {
   "display_name": "Python 3 (ipykernel)",
   "language": "python",
   "name": "python3"
  },
  "language_info": {
   "codemirror_mode": {
    "name": "ipython",
    "version": 3
   },
   "file_extension": ".py",
   "mimetype": "text/x-python",
   "name": "python",
   "nbconvert_exporter": "python",
   "pygments_lexer": "ipython3",
   "version": "3.8.8"
  }
 },
 "nbformat": 4,
 "nbformat_minor": 4
}
