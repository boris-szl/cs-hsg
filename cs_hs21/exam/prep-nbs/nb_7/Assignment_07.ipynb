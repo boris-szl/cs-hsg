{
 "cells": [
  {
   "cell_type": "markdown",
   "metadata": {
    "id": "VSitiJTVbN59"
   },
   "source": [
    "# Assignment 7: Databases and SQL\n",
    "\n",
    "Please read the tasks description carefully and implement **only** what the tasks ask you to implement. Closely following the task descriptions will be beneficial, so keep your divergence in check - the test cases below each input cell are the gold standard. Finally, for this assignment, you do not need any error handling, you can assume that all input to your function will be valid.\n",
    "\n",
    "As for the other assignments, using `print` is encouraged to test your implementation but is never required. Make sure not to confuse `return` and `print` statements: If your function has to **return** something, use the `return` statement. \n",
    "\n",
    "Try to implement the tasks yourself or in a small team. If you blindly copy a solution from the Internet or other students, you will not take home any learnings. Rather, make an effort to understand the solution! Furthermore, do not modify the _test cells_ - if you do, you effectively cheat the system which is not helpful for your learning process.\n",
    "\n",
    "Some aspects of this assignment require you to <strong>self-study</strong> and do some research beyond the lecture contents - use your favorite search engine to look up documentation, usage examples, and definitions of the mentioned functions. There might be tasks where you have to read and investigate the [Python Standard Library](https://docs.python.org/3/library/) to find the documentation for a function that is used or that you want to use.\n",
    "\n",
    "This assignment will use the third-party module [pandas](https://pandas.pydata.org/). It will also use [sqlite3](https://docs.python.org/3/library/sqlite3.html) for accessing the database file.\n",
    "\n",
    "In Google Colab and Anaconda, it is already installed. If you see an `ImportError` in the next cell, run `%pip install pandas` to install this module.\n",
    "\n",
    "<p style=\"padding: 1em; background-color: #ffa62f;\"><strong> We'll load the file <tt>database.sqlite</tt> throughout the assignment. Make sure that it is in the <i style='color: #30AA30'>same</i> path as the notebook. When running in Google Colab, you have to upload thes file everytime you open the assignment.</strong></p>\n",
    "\n",
    "<p style=\"padding: 1em; background-color: #ffa62f;\">If you run into an error with inserting, deleting, or otherwise modifying the datase, the easiest solution is to <strong>Restart the Kernel/Runtime</strong> and <strong>Reupload/Overwrite</strong> the database file with the original one.</p>"
   ]
  },
  {
   "cell_type": "markdown",
   "metadata": {},
   "source": [
    "---\n",
    "# Task 0: Loading the database file.\n",
    "\n",
    "For **reading** from a database, we'll use [Pandas](https://pandas.pydata.org/), for **writing** we'll use the included `sqlite3` module."
   ]
  },
  {
   "cell_type": "code",
   "execution_count": 1,
   "metadata": {},
   "outputs": [],
   "source": [
    "import sqlite3\n",
    "import pandas as pd"
   ]
  },
  {
   "cell_type": "markdown",
   "metadata": {},
   "source": [
    "Execute the next cell to try to load the database file. You'll see an error if it doesn't load correctly.\n",
    "\n",
    "\n",
    "Afterwards, there will be the variable `DB` which holds the **Connection** to the database."
   ]
  },
  {
   "cell_type": "code",
   "execution_count": 2,
   "metadata": {},
   "outputs": [
    {
     "name": "stdout",
     "output_type": "stream",
     "text": [
      "\u001b[1;42m                                               \n",
      " The database file was found and can be loaded \n",
      "                                               \u001b[0m\n"
     ]
    }
   ],
   "source": [
    "from pathlib import Path\n",
    "\n",
    "DB_FILE = Path('database.sqlite')\n",
    "if not DB_FILE.exists():\n",
    "    print(\"\\033[1;41m\", \" \" * 45, '\\n', \"      Please upload the the Database file.    \\n\", \" \" * 45, \"\\033[0m\")\n",
    "else:\n",
    "    print(\"\\033[1;42m\", \" \" * 45, '\\n', \"The database file was found and can be loaded \\n\", \" \" * 45, \"\\033[0m\")"
   ]
  },
  {
   "cell_type": "code",
   "execution_count": 3,
   "metadata": {},
   "outputs": [],
   "source": [
    "DB = sqlite3.connect(DB_FILE)\n",
    "with DB:\n",
    "    DB.execute(\"PRAGMA foreign_keys = 1\")"
   ]
  },
  {
   "cell_type": "markdown",
   "metadata": {},
   "source": [
    "## Database Structure\n",
    "\n",
    "Here, we have an overengineered database structure with more tables than we need. However, this benefits exercising massive joins over multiple tables.\n",
    "We have students, who have names and a date of birth. Each student is registered in our university and has therefore a `student_id` and a starting semester (`immatriculation`). If the `exmatriculation` semester is not set (meaning, it is `NULL`), this student is currently actively registered.\n",
    "Each student is enrolled into 1 or 2 courses per semester and will have a grade for this enrollment. This university allows students to enroll into the same course multiple times and also take the exam every time.\n",
    "\n",
    "The ID for each table is always called `id`. So, if you use `pd.read_sql`, you can always tell _pandas_ to use `index_col=['id']`.\n",
    "\n",
    "The database has the following tables. The database has primary keys AND foreign keys. They are enforced, meaning you will receive an error if you add an entry with an ID that already exists or you want to add an entry with a foreign key that does not exist in the reference table.\n",
    "\n",
    "\n",
    "The following constraints are given:\n",
    "   - `INT`: this value is an integer\n",
    "   - `REAL/FLOAT`: this value is a float\n",
    "   - `STRING`: this value a string\n",
    "   - `PRIMARY KEY`: this is a unique identifier for this table\n",
    "   - `FOREIGN KEY`: this is an identifier for the mentioned table\n",
    "   - `NOT NULL`: this value can't be NULL/None\n",
    "   - `NULLABLE`: this value *can* be NULL/None\n",
    "\n",
    "- Table `students`:  \n",
    "    - id: INT, PRIMARY KEY, NOT NULL\n",
    "    - first_name: STRING, NOT NULL\n",
    "    - last_name: STRING, NOT NULL\n",
    "    - date_of_birth: DATE (YYYY-MM-DD), NOT NULL\n",
    "- Table `registrations`:\n",
    "    - id: INT, PRIMARY KEY, NOT NULL\n",
    "    - student_id: INT, FOREIGN KEY (students.id), NOT NULL\n",
    "    - immatriculation: STRING (e.g. \"2021FS\"), NOT NULL\n",
    "    - exmatriculation: STRING (e.g. \"2021FS\"), **NULLABLE**\n",
    "- Table `courses`:\n",
    "    - id: INT, PRIMARY KEY, NOT NULL\n",
    "    - name: STRING, NOT NULL\n",
    "    - category: STRING, NOT NULL\n",
    "- Table `enrollments`:\n",
    "    - id: INT, PRIMARY KEY, NOT NULL\n",
    "    - student_id: INT, FOREIGN KEY (student.id), NOT NULL\n",
    "    - course_id: INT, FOREIGN KEY (courses.id), NOT NULL\n",
    "    - semester: STRING (e.g. \"2021FS\"), NOT NULL\n",
    "- Table `grades`:\n",
    "    - id: INT, PRIMARY KEY, NOT NULL\n",
    "    - enrollment_id: INT, FOREIGN KEY (enrollment.id), NOT NULL\n",
    "    - grade: REAL/FLOAT, NOT NULL (Value between 1.0-6.0 in 0.25 steps)"
   ]
  },
  {
   "cell_type": "code",
   "execution_count": null,
   "metadata": {},
   "outputs": [],
   "source": [
    "# Example Entries for each table:\n",
    "print('Table \"students\"\\n',      pd.read_sql(\"\"\"SELECT * FROM students LIMIT 5\"\"\",      DB, index_col=['id']), '\\n')\n",
    "print('Table \"registrations\"\\n', pd.read_sql(\"\"\"SELECT * FROM registrations LIMIT 5\"\"\", DB, index_col=['id']), '\\n')\n",
    "print('Table \"courses\"\\n',       pd.read_sql(\"\"\"SELECT * FROM courses LIMIT 5\"\"\",       DB, index_col=['id']), '\\n')\n",
    "print('Table \"enrollments\"\\n',   pd.read_sql(\"\"\"SELECT * FROM enrollments LIMIT 5\"\"\",   DB, index_col=['id']), '\\n')\n",
    "print('Table \"grades\"\\n',        pd.read_sql(\"\"\"SELECT * FROM grades LIMIT 5\"\"\",        DB, index_col=['id']), '\\n')"
   ]
  },
  {
   "cell_type": "markdown",
   "metadata": {},
   "source": [
    "---\n",
    "# Task 1: Playing with students\n",
    "\n",
    "Use the given database `DB` to query the subsequent tasks.\n",
    "\n",
    "Each task can be solved with one single query. Try **not** to use Python or Pandas methods for sorting, selecting, or other purposes.\n",
    "\n",
    "However, you can use multiple queries and use the intermediate results for the next query."
   ]
  },
  {
   "cell_type": "markdown",
   "metadata": {},
   "source": [
    "## Task 1.1: How Many Students?\n",
    "\n",
    "Query the database `DB` and count how many students are in the database. Use the `pd.read_sql()` function with your query as the first parameter and the database connection `DB` as the second parameter.\n",
    "We don't care about the ID, and using an ID with an aggregation function like `COUNT()`, doesn't return one anyway, so do **not** tell pandas that there is an `index_col`.\n",
    "\n",
    "Save the result of the query in the variable `number_of_students`.\n",
    "\n",
    "<p style=\"background-color: #ffa62f; padding: 1em\">\n",
    "Task 2 wants you to to <strong>modify</strong> the database.<br />\n",
    "This will result in the test cases in this Task 1 to fail! <br/><br/>\n",
    "The total number of students in the databse is <strong>4269</strong>, however, if you add one\n",
    "student in Task 2.1, of course, then the new total number is <strong>4270</strong>. <br /><br/>\n",
    "This will stop a previously succeeding test case. Do not worry. Try to understand the error message!\n",
    "</p>"
   ]
  },
  {
   "cell_type": "code",
   "execution_count": 56,
   "metadata": {},
   "outputs": [],
   "source": [
    "# ⬇️ Add your code below this line ⬇️\n",
    "number_of_students = pd.read_sql(\"\"\"SELECT COUNT() FROM students\"\"\",DB)\n",
    "# ⬆️ Add your code above this line ⬆️"
   ]
  },
  {
   "cell_type": "code",
   "execution_count": 57,
   "metadata": {},
   "outputs": [
    {
     "name": "stdout",
     "output_type": "stream",
     "text": [
      "\n",
      "\u001b[37;42;2m  Success! Your code works as intended.  \u001b[0m\n",
      "\n"
     ]
    }
   ],
   "source": [
    "# Test Case\n",
    "from unittest import TestCase\n",
    "test_case = TestCase()\n",
    "\n",
    "# Sanity\n",
    "test_case.assertTrue('number_of_students' in locals(), msg='You have to call the result `number_of_students`.')\n",
    "test_case.assertIsInstance(number_of_students, pd.DataFrame, msg='Store the result directly in the variable.')\n",
    "\n",
    "# Actual Test\n",
    "test_case.assertEqual(1, len(number_of_students), msg=\"The result can only have one result.\")\n",
    "test_case.assertEqual(4269, number_of_students.iloc[0].item(), msg=\"The number in your result is not correct.\")\n",
    "\n",
    "\n",
    "print(\"\\n\\033[37;42;2m  Success! Your code works as intended.  \\033[0m\\n\")"
   ]
  },
  {
   "cell_type": "markdown",
   "metadata": {},
   "source": [
    "## Task 1.2: Students that share a specific birthday\n",
    "\n",
    "Query the database `DB` and return the names (both `first_name` and `last_name`) who have birthday on **Oct 7th, 2000**.\n",
    "\n",
    "Store the result of the query using `pd.read_sql` in the variable `oct_7th`.\n",
    "\n",
    "_Hint: In SQL, you can generate a new date with the `DATE()` function. It takes one SQL string is the format YYYY-MM-DD and creates an internal date object which is compatible with the `date_of_birth` column of the `students` table._\n",
    "\n",
    "For printing the result, or accessing the results, you can use the `.itertuples()` method of a query result. What you get back is an _iterable_ that contains the result from your query as tuples. If you gave _pandas_ the parameter `index_col`, the first entry in the tuple will be the actual `id` of this row. The next items in the tuple are in the same order as you gave in the `SELECT` statement.\n",
    "\n",
    "For this task, you are required to only select the id, first, and last name from the students. So, when calling `oct_7th.itertuples()`, you'll receive a tuple with three entries: (index, first_name, last_name)."
   ]
  },
  {
   "cell_type": "code",
   "execution_count": 96,
   "metadata": {},
   "outputs": [
    {
     "data": {
      "text/plain": [
       "<map at 0x7fa487accaf0>"
      ]
     },
     "execution_count": 96,
     "metadata": {},
     "output_type": "execute_result"
    }
   ],
   "source": [
    "# ⬇️ Add your code below this line ⬇️\n",
    "oct_7th = 0\n",
    "oct_7th = pd.read_sql(\"\"\"SELECT first_name, last_name\n",
    "            FROM students\n",
    "            WHERE date_of_birth = '2000-10-07'\"\"\",DB)\n",
    "oct_7th.itertuples()\n",
    "# ⬆️ Add your code above this line ⬆️"
   ]
  },
  {
   "cell_type": "code",
   "execution_count": 97,
   "metadata": {},
   "outputs": [
    {
     "name": "stdout",
     "output_type": "stream",
     "text": [
      "Following people share their birthday on Oct 7th, 2000\n",
      " - Kenda Suellen Ficenec\n",
      " - Quinn Patricia Grisom\n",
      " - Audria Gronquist\n"
     ]
    }
   ],
   "source": [
    "# Print the results:\n",
    "print(\"Following people share their birthday on Oct 7th, 2000\")\n",
    "for i, first_name, last_name in oct_7th.itertuples():\n",
    "    print(f' - {first_name} {last_name}')"
   ]
  },
  {
   "cell_type": "code",
   "execution_count": 98,
   "metadata": {},
   "outputs": [
    {
     "name": "stdout",
     "output_type": "stream",
     "text": [
      "\n",
      "\u001b[37;42;2m  Success! Your code works as intended.  \u001b[0m\n",
      "\n"
     ]
    }
   ],
   "source": [
    "# Test Case\n",
    "from unittest import TestCase\n",
    "test_case = TestCase()\n",
    "\n",
    "# Sanity\n",
    "test_case.assertTrue('oct_7th' in locals(), msg='You have to call the result `oct_7th`.')\n",
    "test_case.assertIsInstance(oct_7th, pd.DataFrame, msg='Store the result directly in the variable.')\n",
    "\n",
    "# Actual Test\n",
    "test_case.assertEqual(3, len(oct_7th), msg=\"The result must have four entries.\")\n",
    "test_case.assertEqual(oct_7th.columns.to_list(), ['first_name', 'last_name'], msg='You have to select only the first and last name.')\n",
    "\n",
    "# Equality\n",
    "test_case.assertEqual(\n",
    "    {('Kenda Suellen', 'Ficenec'), ('Quinn Patricia', 'Grisom'), ('Audria', 'Gronquist')},\n",
    "    set((_i.first_name, _i.last_name) for _i in oct_7th.itertuples()))\n",
    "\n",
    "\n",
    "print(\"\\n\\033[37;42;2m  Success! Your code works as intended.  \\033[0m\\n\")"
   ]
  },
  {
   "cell_type": "markdown",
   "metadata": {},
   "source": [
    "---\n",
    "## Task 1.3: Students who are 25 years old.\n",
    "\n",
    "Query the `DB` for students' first and last name who are 25 years old. Save the result of the query in the variable `age_25`. If you select the `id` as well, you have to tell pandas that this column is the index column.\n",
    "\n",
    "As the reference date you **must** use December 1st, 2021. You can generate this date with `DATE('2021-12-01')`. If you fail to use this date, the test will fail. (In a real-live scenario, you would, of course, use the current day.)\n",
    "\n",
    "_Hint: You can compute a student's age by the difference from the current day and the date of birth. Example:_\n",
    "```sql\n",
    "SELECT DATE('2010-01-01') - DATE('2000-01-01')\n",
    "```\n",
    "⇒ 10 (years)\n",
    "\n",
    "Do not overcomplicate the age computation. Use above computation as template."
   ]
  },
  {
   "cell_type": "code",
   "execution_count": 136,
   "metadata": {},
   "outputs": [],
   "source": [
    "# ⬇️ Add your code below this line ⬇️\n",
    "age_25 = 0\n",
    "age_25 = pd.read_sql(\"\"\"SELECT first_name, last_name\n",
    "            FROM students\n",
    "            WHERE  DATE('2021-12-01') - DATE(date_of_birth) = 25\n",
    "            \"\"\", DB)\n",
    "# ⬆️ Add your code above this line ⬆️"
   ]
  },
  {
   "cell_type": "code",
   "execution_count": 137,
   "metadata": {},
   "outputs": [
    {
     "name": "stdout",
     "output_type": "stream",
     "text": [
      "\n",
      "\u001b[37;42;2m  Success! Your code works as intended.  \u001b[0m\n",
      "\n"
     ]
    }
   ],
   "source": [
    "# Test Case\n",
    "from unittest import TestCase\n",
    "test_case = TestCase()\n",
    "\n",
    "# Sanity Check\n",
    "test_case.assertTrue('age_25' in locals(), msg='You have to call it `age_25`.')\n",
    "test_case.assertIsInstance(age_25, pd.DataFrame, msg='Store the result directly in `age_25`.')\n",
    "\n",
    "# Check of length\n",
    "test_case.assertEqual(age_25.columns.to_list(), ['first_name', 'last_name'], msg='You have to select only the first and last name.')\n",
    "test_case.assertEqual(len(age_25), 699, msg='The resulting list MUST have 679 entries. It seems like your WHERE clause is not correct.')\n",
    "\n",
    "\n",
    "print(\"\\n\\033[37;42;2m  Success! Your code works as intended.  \\033[0m\\n\")"
   ]
  },
  {
   "cell_type": "markdown",
   "metadata": {},
   "source": [
    "---\n",
    "## Task 1.4: Student ID\n",
    "\n",
    "Query the database for the Student ID of the student _Luanna Guzzo. Use pandas' index column feature.\n",
    "\n",
    "Save the result of the query directly as the variable `luanna_id`."
   ]
  },
  {
   "cell_type": "code",
   "execution_count": 156,
   "metadata": {},
   "outputs": [],
   "source": [
    "# ⬇️ Add your code below this line ⬇️\n",
    "luanna_id = pd.read_sql(\"\"\"SELECT id\n",
    "            FROM students\n",
    "            WHERE first_name = \"Luanna\"\n",
    "            AND last_name = \"Guzzo\"\n",
    "            \"\"\", DB, index_col=['id'])\n",
    "# ⬆️ Add your code above this line ⬆️"
   ]
  },
  {
   "cell_type": "code",
   "execution_count": 157,
   "metadata": {},
   "outputs": [],
   "source": [
    "# For future reference, we convert this value to its actual integer:\n",
    "actual_luanna_id = int(luanna_id.index[0])"
   ]
  },
  {
   "cell_type": "code",
   "execution_count": 158,
   "metadata": {},
   "outputs": [
    {
     "name": "stdout",
     "output_type": "stream",
     "text": [
      "\n",
      "\u001b[37;42;2m  Success! Your code works as intended.  \u001b[0m\n",
      "\n"
     ]
    }
   ],
   "source": [
    "# Test Case\n",
    "from unittest import TestCase\n",
    "test_case = TestCase()\n",
    "\n",
    "# Sanity\n",
    "test_case.assertTrue('luanna_id' in locals(), msg='You have to call the result `luanna_id`.')\n",
    "test_case.assertIsInstance(luanna_id, pd.DataFrame, msg='Store the result directly in the variable.')\n",
    "\n",
    "# Actual Test\n",
    "test_case.assertEqual(1, len(luanna_id), msg=\"The result must have one entry.\")\n",
    "test_case.assertEqual(luanna_id.columns.to_list(), [], msg='There will be no columns because the selected entry is the ID.')\n",
    "\n",
    "# Equality\n",
    "test_case.assertEqual(50952, luanna_id.index)\n",
    "\n",
    "\n",
    "print(\"\\n\\033[37;42;2m  Success! Your code works as intended.  \\033[0m\\n\")"
   ]
  },
  {
   "cell_type": "markdown",
   "metadata": {},
   "source": [
    "---\n",
    "# Task 2: Modifying the Database\n",
    "Be careful when using `INSERT`, `DELETE`, and `UPDATE` statements because they modify the database. If you find yourself in trouble, you can always replace the database file `database.sqlite` AND reload the database (see Task 0) or restart the kernel.\n",
    "\n",
    "Because of _foreign key_ constraints, you have to be careful with the order of inserting.\n",
    "\n",
    "When writing into the database, you **HAVE TO** use the following structure\n",
    "\n",
    "```python\n",
    "with DB:\n",
    "    DB.execute(\"\"\"INSERT INTO ...\"\"\")\n",
    "```\n",
    "\n",
    "If you don't do this, you might end up with a **locked** database. A kernel restart is your only solution then.\n",
    "\n",
    "After modifying the database, the test cases for Task 1 might fail, especially the ones for counting the students because you're adding a new student in Task 2.1. So make sure, that your code works **BEFORE** modifying the database."
   ]
  },
  {
   "cell_type": "markdown",
   "metadata": {},
   "source": [
    "---\n",
    "## Task 2.1: Adding yourself to the Database.\n",
    "You want to add yourself to the database and enroll into a few courses and receive grades. However, there is no nice interface, so you have to work on the real database.\n",
    "None of the ids are auto-generated, so you have to always use an ID that is not in use. The description below tells you which one you have to set.\n",
    "\n",
    "\n",
    "Add yourself to the database:\n",
    "\n",
    "1. Add yourself into the `students` table:\n",
    "    - Use your actual first and last name.\n",
    "    - The date_of_birth must be of form \"YYYY-MM-DD\" (e.g. \"1994-03-14\")\n",
    "    - As student id, use the integer 60000.\n",
    "1. Register with the university.\n",
    "    - Add a new entry to the `registration` table.\n",
    "    - Use the registration id 10000.\n",
    "    - Use the current semester \"2021HS\" as immatriculation.\n",
    "    - Either set exmatrculation to NULL or don't set it at all (it defaults to NULL)\n",
    "1. Enroll into at least 2 courses (You probably have to find all courses first)\n",
    "    - Use a SELECT to show all courses and print them using `.itertuples()` like Task 1.2 shows.\n",
    "    - Choose 2 courses and INSERT them into the enrollments table.\n",
    "    - Start with ID 60000 for adding your enrollments.\n",
    "    - Use the current semester \"2021HS\" as semester.\n",
    "1. Add grades:\n",
    "    - Add grades of your liking for you for the courses you just added.\n",
    "    - The grade id will be the same as the enrollment ids (starting from 60000 and upwards)\n",
    "    \n",
    "\n",
    "\n",
    "There is no test case for this task.\n",
    "\n",
    "Use `SELECT`s in different cells to verify you added the entries correctly."
   ]
  },
  {
   "cell_type": "code",
   "execution_count": null,
   "metadata": {},
   "outputs": [],
   "source": [
    "# ⬇️ Add your code below this line ⬇️"
   ]
  },
  {
   "cell_type": "code",
   "execution_count": 161,
   "metadata": {},
   "outputs": [],
   "source": [
    "with DB:\n",
    "    DB.execute(\"\"\"INSERT INTO students (id,first_name,last_name,date_of_birth)\n",
    "                VALUES (60000,'Boris','Szelcsanyi','1997-12-18')\n",
    "        \"\"\")"
   ]
  },
  {
   "cell_type": "code",
   "execution_count": 173,
   "metadata": {},
   "outputs": [
    {
     "data": {
      "text/html": [
       "<div>\n",
       "<style scoped>\n",
       "    .dataframe tbody tr th:only-of-type {\n",
       "        vertical-align: middle;\n",
       "    }\n",
       "\n",
       "    .dataframe tbody tr th {\n",
       "        vertical-align: top;\n",
       "    }\n",
       "\n",
       "    .dataframe thead th {\n",
       "        text-align: right;\n",
       "    }\n",
       "</style>\n",
       "<table border=\"1\" class=\"dataframe\">\n",
       "  <thead>\n",
       "    <tr style=\"text-align: right;\">\n",
       "      <th></th>\n",
       "      <th>id</th>\n",
       "      <th>student_id</th>\n",
       "      <th>immatriculation</th>\n",
       "      <th>exmatriculation</th>\n",
       "    </tr>\n",
       "  </thead>\n",
       "  <tbody>\n",
       "    <tr>\n",
       "      <th>0</th>\n",
       "      <td>0</td>\n",
       "      <td>50000</td>\n",
       "      <td>2019HS</td>\n",
       "      <td>None</td>\n",
       "    </tr>\n",
       "    <tr>\n",
       "      <th>1</th>\n",
       "      <td>1</td>\n",
       "      <td>50001</td>\n",
       "      <td>2017HS</td>\n",
       "      <td>2021HS</td>\n",
       "    </tr>\n",
       "    <tr>\n",
       "      <th>2</th>\n",
       "      <td>2</td>\n",
       "      <td>50002</td>\n",
       "      <td>2017FS</td>\n",
       "      <td>2020FS</td>\n",
       "    </tr>\n",
       "    <tr>\n",
       "      <th>3</th>\n",
       "      <td>3</td>\n",
       "      <td>50003</td>\n",
       "      <td>2019FS</td>\n",
       "      <td>None</td>\n",
       "    </tr>\n",
       "    <tr>\n",
       "      <th>4</th>\n",
       "      <td>4</td>\n",
       "      <td>50004</td>\n",
       "      <td>2015FS</td>\n",
       "      <td>2020FS</td>\n",
       "    </tr>\n",
       "    <tr>\n",
       "      <th>...</th>\n",
       "      <td>...</td>\n",
       "      <td>...</td>\n",
       "      <td>...</td>\n",
       "      <td>...</td>\n",
       "    </tr>\n",
       "    <tr>\n",
       "      <th>4267</th>\n",
       "      <td>4267</td>\n",
       "      <td>54267</td>\n",
       "      <td>2018HS</td>\n",
       "      <td>None</td>\n",
       "    </tr>\n",
       "    <tr>\n",
       "      <th>4268</th>\n",
       "      <td>4268</td>\n",
       "      <td>54268</td>\n",
       "      <td>2019FS</td>\n",
       "      <td>None</td>\n",
       "    </tr>\n",
       "    <tr>\n",
       "      <th>4269</th>\n",
       "      <td>4269</td>\n",
       "      <td>60000</td>\n",
       "      <td>2021HS</td>\n",
       "      <td>None</td>\n",
       "    </tr>\n",
       "    <tr>\n",
       "      <th>4270</th>\n",
       "      <td>4270</td>\n",
       "      <td>60000</td>\n",
       "      <td>2021HS</td>\n",
       "      <td>None</td>\n",
       "    </tr>\n",
       "    <tr>\n",
       "      <th>4271</th>\n",
       "      <td>4271</td>\n",
       "      <td>60000</td>\n",
       "      <td>2021HS</td>\n",
       "      <td>None</td>\n",
       "    </tr>\n",
       "  </tbody>\n",
       "</table>\n",
       "<p>4272 rows × 4 columns</p>\n",
       "</div>"
      ],
      "text/plain": [
       "        id  student_id immatriculation exmatriculation\n",
       "0        0       50000          2019HS            None\n",
       "1        1       50001          2017HS          2021HS\n",
       "2        2       50002          2017FS          2020FS\n",
       "3        3       50003          2019FS            None\n",
       "4        4       50004          2015FS          2020FS\n",
       "...    ...         ...             ...             ...\n",
       "4267  4267       54267          2018HS            None\n",
       "4268  4268       54268          2019FS            None\n",
       "4269  4269       60000          2021HS            None\n",
       "4270  4270       60000          2021HS            None\n",
       "4271  4271       60000          2021HS            None\n",
       "\n",
       "[4272 rows x 4 columns]"
      ]
     },
     "execution_count": 173,
     "metadata": {},
     "output_type": "execute_result"
    }
   ],
   "source": [
    "with DB:\n",
    "    DB.execute(\"\"\"INSERT INTO registrations (student_id,immatriculation,exmatriculation)\n",
    "                VALUES (60000,'2021HS',NULL)\"\"\")\n",
    "pd.read_sql(\"\"\"SELECT * FROM registrations\"\"\", DB)"
   ]
  },
  {
   "cell_type": "code",
   "execution_count": null,
   "metadata": {},
   "outputs": [],
   "source": []
  },
  {
   "cell_type": "code",
   "execution_count": null,
   "metadata": {},
   "outputs": [],
   "source": []
  },
  {
   "cell_type": "code",
   "execution_count": null,
   "metadata": {},
   "outputs": [],
   "source": []
  },
  {
   "cell_type": "code",
   "execution_count": null,
   "metadata": {},
   "outputs": [],
   "source": [
    "# ⬆️ Add your code above this line ⬆️"
   ]
  },
  {
   "cell_type": "markdown",
   "metadata": {},
   "source": [
    "---\n",
    "## Task 2.2: Updating Categories\n",
    "\n",
    "If you look the course categories more closely, you can see that the 3 courses with the highest ID are in the wrong category 'medicine'. They should be in the category \"computer science\".\n",
    "\n",
    "Use a `UPDATE` statement to change the category for (**and only for**) these 3 entries."
   ]
  },
  {
   "cell_type": "code",
   "execution_count": null,
   "metadata": {},
   "outputs": [],
   "source": [
    "# ⬇️ Add your code below this line ⬇️"
   ]
  },
  {
   "cell_type": "code",
   "execution_count": null,
   "metadata": {},
   "outputs": [],
   "source": []
  },
  {
   "cell_type": "code",
   "execution_count": null,
   "metadata": {},
   "outputs": [],
   "source": []
  },
  {
   "cell_type": "code",
   "execution_count": null,
   "metadata": {},
   "outputs": [],
   "source": []
  },
  {
   "cell_type": "code",
   "execution_count": null,
   "metadata": {},
   "outputs": [],
   "source": []
  },
  {
   "cell_type": "code",
   "execution_count": null,
   "metadata": {},
   "outputs": [],
   "source": []
  },
  {
   "cell_type": "code",
   "execution_count": null,
   "metadata": {},
   "outputs": [],
   "source": []
  },
  {
   "cell_type": "code",
   "execution_count": null,
   "metadata": {},
   "outputs": [],
   "source": [
    "# ⬆️ Add your code above this line ⬆️"
   ]
  },
  {
   "cell_type": "markdown",
   "metadata": {},
   "source": [
    "---\n",
    "# Task 3: Courses of one student\n",
    "\n",
    "Use the just found id of **Luanna Guzzo** (`actual_luanna_id`) to find all the names of all courses that she is and was enrolled in any semester. Use a `SELECT DISTINCT` to remove duplicate enrollments.\n",
    "\n",
    "You don't need to use a variable but simply copy the actual ID into your query of the result from Task 1.4. (If you didn't find it, use the ID `51862`.)\n",
    "\n",
    "Store your result in the variable `course_ids`.\n",
    "\n",
    "Unfortunately, the course name is not stored in the `enrollments` table. So you can either query **multiple** tables at the same time (`JOIN`) or first extract the appropriate distinct ids and then hardcode them into a new query.\n",
    "\n",
    "_Hint:_ Similar to Python, you can check if a value is in a given list in the `WHERE` clause:\n",
    "\n",
    "```sql\n",
    "...\n",
    "WHERE id IN (1, 2, 3, 4, 5)\n",
    "...\n",
    "```\n"
   ]
  },
  {
   "cell_type": "code",
   "execution_count": null,
   "metadata": {},
   "outputs": [],
   "source": [
    "# ⬇️ Add your code below this line ⬇️\n",
    "\n",
    "\n",
    "# ⬆️ Add your code above this line ⬆️"
   ]
  },
  {
   "cell_type": "code",
   "execution_count": null,
   "metadata": {},
   "outputs": [],
   "source": [
    "# Test Case\n",
    "from unittest import TestCase\n",
    "__ = TestCase()\n",
    "\n",
    "# Sanity Check\n",
    "__.assertTrue('course_names' in locals(), msg='You have to call it `course_names`.')\n",
    "__.assertIsInstance(course_names, pd.DataFrame, msg='Store the result directly in `course_names`.')\n",
    "\n",
    "# Check of length\n",
    "__.assertEqual(len(course_names.columns), 1, msg='You have to select only the name of the course (The result has ONE column.)')\n",
    "__.assertEqual(len(course_names), 9, msg='The resulting list must have 6 entries. Did you use DISTINCT?')\n",
    "\n",
    "# Actual Check\n",
    "__.assertEqual(\n",
    "    {'A Complex Adaptive Systems perspective on Swarm Intelligence',\n",
    "     'Advanced Applications of Gene-Splicing',\n",
    "     'Beginner Micro-Biology of Implants',\n",
    "     'Differences in Jupiter and Luna Law',\n",
    "     'Fundamentals of Open Systems',\n",
    "     'Fundamentals of Space-Time-Travel',\n",
    "     'Historic Reasons for Using the Swiss Grading System',\n",
    "     'Introduction to 5G-Brainwave Interception',\n",
    "     'Musical Co-Creation with Clones'},\n",
    "    set(course_names.iloc[:, 0])\n",
    ")\n",
    "\n",
    "\n",
    "print(\"\\n\\033[37;42;2m  Success! Your code works as intended.  \\033[0m\\n\")"
   ]
  },
  {
   "cell_type": "markdown",
   "metadata": {},
   "source": [
    "---\n",
    "# Task 4: Average Grade for one specific Student\n",
    "\n",
    "Now, you know the ID and enrolled courses of Mrs. Guzzo. The next step is to compute the average of all her grades.\n",
    "\n",
    "For this task, you should use **all** grades from this student, although she took multiple courses multiple times.\n",
    "\n",
    "Store the result of the query in `average_grade`.\n",
    "\n",
    "Instead of a join, which you can use, of course (and is encouraged), you can use multiple queries to find the enrollments and grades for this one student\n",
    "\n",
    "\n",
    "_Hint: Computing the average is done by the function `AVG()` (analog to `COUNT()`) in the `SELECT` clause._"
   ]
  },
  {
   "cell_type": "code",
   "execution_count": null,
   "metadata": {},
   "outputs": [],
   "source": [
    "# ⬇️ Add your code below this line ⬇️\n",
    "\n",
    "\n",
    "\n",
    "# ⬆️ Add your code above this line ⬆️"
   ]
  },
  {
   "cell_type": "code",
   "execution_count": null,
   "metadata": {},
   "outputs": [],
   "source": [
    "# Test Case\n",
    "from unittest import TestCase\n",
    "test_case = TestCase()\n",
    "\n",
    "# Sanity Check\n",
    "test_case.assertTrue('average_grade' in locals(), msg='You have to call it `rabb_average_grade`.')\n",
    "test_case.assertIsInstance(average_grade, pd.DataFrame, msg='Store the result directly in `rabb_average_grade`.')\n",
    "\n",
    "# Check of length\n",
    "test_case.assertEqual(len(average_grade.columns), 1, msg='You have to select only the average of the grades (The result has ONE column.)')\n",
    "test_case.assertEqual(len(average_grade), 1, msg='The resulting list must have 1 entry.')\n",
    "\n",
    "# Actual Check\n",
    "test_case.assertEqual(3.73, average_grade.round(2).iloc[0].item(), msg='The average grade should be 3.5 (if rounded to 2 decimals).')\n",
    "\n",
    "\n",
    "print(\"\\n\\033[37;42;2m  Success! Your code works as intended.  \\033[0m\\n\")"
   ]
  },
  {
   "cell_type": "markdown",
   "metadata": {},
   "source": [
    "---\n",
    "## Task 4.2: Top 10 Students\n",
    "\n",
    "You want to find new tutors for next semester, so you need good students. For this, you want the 10 best students that are currently registered (meaning that they are not exmatriculated) and that are registered for at least 3 semesters, meaning their immatriculation semester is at least \"2020HS\".\n",
    "\n",
    "Select the id, first name, last name, and average of the 10 best students. Use `index_col=['id']` to tell pandas that the `id` column is the one for the index.\n",
    "\n",
    "Save the result of the query in the variable `top10`.\n",
    "\n",
    "The students are ranked by their average grades of all their courses, multiple enrollments count also towards this average.\n",
    "\n",
    "You will need all tables except `courses`. \n",
    "\n",
    "For the average of all students, you need the `GROUP BY` clause. There might be students with the same name combiation, so you have to find a better way for **id**entifying a student.\n",
    "\n",
    "If you have the averages of all students, how can you select the ones with the highest average? How would you do it Python? The `ORDER BY` clause will help you.\n",
    "\n",
    "The clause `LIMIT X` limits the number of returned rows to `X`, so set this wisely."
   ]
  },
  {
   "cell_type": "code",
   "execution_count": null,
   "metadata": {},
   "outputs": [],
   "source": [
    "# ⬇️ Add your code below this line ⬇️\n",
    "\n",
    "\n",
    "\n",
    "# ⬆️ Add your code above this line ⬆️"
   ]
  },
  {
   "cell_type": "code",
   "execution_count": null,
   "metadata": {},
   "outputs": [],
   "source": [
    "# Test Case\n",
    "from unittest import TestCase\n",
    "test_case = TestCase()\n",
    "\n",
    "# Sanity Check\n",
    "test_case.assertTrue('top10' in locals(), msg='You have to call it `top10`.')\n",
    "test_case.assertIsInstance(top10, pd.DataFrame, msg='Store the result directly in `top10`.')\n",
    "\n",
    "# Check of length\n",
    "test_case.assertEqual(len(top10.columns), 3, msg='You have to select the first name, last name, and average.')\n",
    "test_case.assertEqual(len(top10), 10, msg='The resulting list must have 10 entries.')\n",
    "\n",
    "# Actual Check\n",
    "test_case.assertEqual(list(top10.index), [51623, 52504, 50020, 52076, 53627, 52928, 54258, 51132, 52343, 52645], msg='Your list differs.')\n",
    "\n",
    "\n",
    "print(\"\\n\\033[37;42;2m  Success! Your code works as intended.  \\033[0m\\n\")"
   ]
  },
  {
   "cell_type": "markdown",
   "metadata": {},
   "source": [
    "---\n",
    "# Task 5: Average grade for any student\n",
    "\n",
    "Now, we want to define a Python function `compute_average_grade(first_name, last_name)` that returns the average grade of the given student. (Like above, you have to return the result of the query.)\n",
    "\n",
    "For this task, you can assume that there are no two students with the same first and last name.\n",
    "\n",
    "You may want to test this by calling your function with the student _Luanna Guzzo_ in order to compare results with Task 4.\n",
    "\n",
    "To set the parameters (the first and last name) **do not use format strings** to insert the values into the query. Instead use a `?` (question mark) where the parameter should be placed and use the `params=()`  paramter in the `pd.read_sql()` method to set the tuple in the order the questions marks appear.\n",
    "\n",
    "Example:\n",
    "```python\n",
    "pd.read_sql(\n",
    "    \"SELECT * FROM students WHERE id = ?\", # <-- one question mark where the ID should be\n",
    "    DB,\n",
    "    index_col=['id'],\n",
    "    params=(60000,)  # <-- Must be a Tuple, even if only one value!\n",
    ")\n",
    "```\n",
    "Multiple question marks correspond to multiple entries in the `params=()` tuple. The order is the ones the question marks appear!\n",
    "\n",
    "_Hints:_\n",
    "- You need multiple joins.\n",
    "- Only select the grade average (and the id for pandas `index_col`)."
   ]
  },
  {
   "cell_type": "code",
   "execution_count": null,
   "metadata": {},
   "outputs": [],
   "source": [
    "# ⬇️ Add your code below this line ⬇️\n",
    "\n",
    "\n",
    "\n",
    "# ⬆️ Add your code above this line ⬆️"
   ]
  },
  {
   "cell_type": "code",
   "execution_count": null,
   "metadata": {},
   "outputs": [],
   "source": [
    "# Test with this cell:\n",
    "avg_grade_result = compute_average_grade('Luanna', 'Guzzo')\n",
    "for student_id, avg_grade in avg_grade_result.itertuples():\n",
    "    print(f\"Average Grade: {avg_grade}\")  # should be 3.730...... (like in the task above)"
   ]
  },
  {
   "cell_type": "code",
   "execution_count": null,
   "metadata": {},
   "outputs": [],
   "source": [
    "# Test Case\n",
    "from unittest import TestCase\n",
    "test_case = TestCase()\n",
    "\n",
    "# Sanity Check\n",
    "test_case.assertTrue('average_grade' in locals(), msg='You have to call it `average_grade`.')\n",
    "\n",
    "# Actual Check\n",
    "test_case.assertEqual(3.19, compute_average_grade('Lindsay', 'Barreneche').round(2).iloc[0].item())\n",
    "test_case.assertEqual(3.85, compute_average_grade('Anisha', 'Strittmatter').round(2).iloc[0].item())\n",
    "test_case.assertEqual(3.95, compute_average_grade('Gordon', 'Ketchersid').round(2).iloc[0].item())\n",
    "test_case.assertEqual(4.39, compute_average_grade('Danna', 'Wedner').round(2).iloc[0].item())\n",
    "test_case.assertEqual(3.32, compute_average_grade('Lino', 'Mirabelli').round(2).iloc[0].item())\n",
    "\n",
    "\n",
    "print(\"\\n\\033[37;42;2m  Success! Your code works as intended.  \\033[0m\\n\")"
   ]
  },
  {
   "cell_type": "code",
   "execution_count": null,
   "metadata": {},
   "outputs": [],
   "source": [
    "pd.read_sql(\n",
    "        \"\"\"\n",
    "        SELECT\n",
    "            *\n",
    "        FROM \n",
    "            students\n",
    "        \"\"\",\n",
    "        DB).sample(1)"
   ]
  },
  {
   "cell_type": "markdown",
   "metadata": {},
   "source": [
    "---\n",
    "# Task 6: Generating A _Report Card_ (Advanced, Not Part of the Quiz)\n",
    "\n",
    "Now, we want to define a function `generate_report_card(first_name, last_name)` that generates a report card (=\"Zeugnis\") of the given student.\n",
    "\n",
    "This report card should be a string:\n",
    "```\n",
    "REPORT CARD for {last name}, {first name} ({Date of Birth})\n",
    "\n",
    "{for each semester}\n",
    "{Semester} {Grade} {Course}\n",
    "{endfor}\n",
    "\n",
    "{if registered}\n",
    "Current Grade: {Average Grade}\n",
    "{else}\n",
    "Final Grade: {Average Grade}\n",
    "{endif}\n",
    "```\n",
    "\n",
    "Example for Valrie Roeder\n",
    "```\n",
    "\n",
    "    \n",
    "\n",
    "        REPORT CARD for Recar, Cristobal (2000-12-16)\n",
    "    \n",
    "        Taken Courses:\n",
    "        \n",
    "\t2019HS\t4.0\tBeginner Micro-Biology of Implants\n",
    "\t2020FS\t4.5\tAgricultural Renaissance on Earth\n",
    "\t2020FS\t4.75\tThe Mass-Duality Scheme\n",
    "\t2020HS\t4.0\tA Complex Adaptive Systems perspective on Swarm Intelligence\n",
    "\t2021FS\t4.0\tImplications of Einstein-Rosen-Bridges\n",
    "\n",
    "        \n",
    "        Current Grade: 4.25\n",
    "        \n",
    "```\n",
    "\n",
    "In a report card, we only want the succeeded courses, so any failed course (a grade smaller than 4.0) should **not** be added to the report and also **not** be part of the average (different than Task 5). If a student took a course multiple times, it will also be printed in the report card. (As an more advanced task, you could try to select the highest grade.)\n",
    "\n",
    "The courses report should be ordered in ascending order by the semester this course is taken. If there are multiple courses taken that semester, order the course names alphabetically in ascending order.\n",
    "\n",
    "For this task, you do not \"need\" `pd.read_sql()` but rather use `DB.execute()` to receive the plain results as tuples or lists instead of DataFrames.\n",
    "\n",
    "\n",
    "For example:\n",
    "```python\n",
    "DB.execute('SELECT first_name, last_name FROM students').fetchone()\n",
    "```\n",
    "will return a **Tuple** with the first result of this query. The order in the tuple will be the same as in the `SELECT`.\n",
    "```python\n",
    "DB.execute('SELECT first_name, last_name FROM students').fetchall()\n",
    "```\n",
    "The `.fetchall()` method will return a **list** of tuples with _ALL_ students from the database.\n",
    "\n",
    "For parametrized queries, go to the documentation: [sqlite3](https://docs.python.org/3/library/sqlite3.html).\n",
    "\n",
    "\n",
    "For this task, you can assume that there are no two students with the same first and last name."
   ]
  },
  {
   "cell_type": "code",
   "execution_count": null,
   "metadata": {},
   "outputs": [],
   "source": [
    "# ⬇️ Add your code below this line ⬇️\n",
    "\n",
    "\n",
    "\n",
    "# ⬆️ Add your code above this line ⬆️"
   ]
  },
  {
   "cell_type": "code",
   "execution_count": null,
   "metadata": {},
   "outputs": [],
   "source": [
    "# No test case (use the output in the task description to verify)\n",
    "\n",
    "# Use your newly added student (yourself!) to also print a report card:\n",
    "\n",
    "#print(generate_report_card(\"YOUR FIRST NAME\", \"YOUR LAST NAME\"))\n",
    "print(generate_report_card('Kara', 'Danvers'))"
   ]
  },
  {
   "cell_type": "code",
   "execution_count": null,
   "metadata": {},
   "outputs": [],
   "source": [
    "print(generate_report_card('Luanna', 'Guzzo'))"
   ]
  },
  {
   "cell_type": "code",
   "execution_count": null,
   "metadata": {},
   "outputs": [],
   "source": [
    "print(generate_report_card('Margo Norine Sabine', 'Wagganer'))"
   ]
  },
  {
   "cell_type": "code",
   "execution_count": null,
   "metadata": {},
   "outputs": [],
   "source": [
    "print(generate_report_card('Cristobal', 'Recar'))"
   ]
  },
  {
   "cell_type": "code",
   "execution_count": null,
   "metadata": {},
   "outputs": [],
   "source": [
    "print(generate_report_card('Barbera', 'Alar'))"
   ]
  }
 ],
 "metadata": {
  "colab": {
   "collapsed_sections": [],
   "name": "Assignment_6_solution.ipynb",
   "provenance": []
  },
  "kernelspec": {
   "display_name": "Python 3 (ipykernel)",
   "language": "python",
   "name": "python3"
  },
  "language_info": {
   "codemirror_mode": {
    "name": "ipython",
    "version": 3
   },
   "file_extension": ".py",
   "mimetype": "text/x-python",
   "name": "python",
   "nbconvert_exporter": "python",
   "pygments_lexer": "ipython3",
   "version": "3.8.8"
  }
 },
 "nbformat": 4,
 "nbformat_minor": 4
}
