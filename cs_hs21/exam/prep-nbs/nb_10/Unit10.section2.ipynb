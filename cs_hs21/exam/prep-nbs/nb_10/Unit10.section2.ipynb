{
 "cells": [
  {
   "cell_type": "markdown",
   "metadata": {
    "slideshow": {
     "slide_type": "slide"
    }
   },
   "source": [
    "# Lecture 10\n",
    "# Section 2: Data Visualization Pandas ... and Seaborn"
   ]
  },
  {
   "cell_type": "markdown",
   "metadata": {
    "slideshow": {
     "slide_type": "slide"
    }
   },
   "source": [
    "## Styles"
   ]
  },
  {
   "cell_type": "code",
   "execution_count": null,
   "metadata": {},
   "outputs": [],
   "source": [
    "import matplotlib.pyplot as plt\n",
    "print(plt.style.available)\n",
    "plt.style.use('seaborn-whitegrid')\n",
    "plt.rcParams[\"figure.figsize\"] = (12,6)"
   ]
  },
  {
   "cell_type": "markdown",
   "metadata": {
    "slideshow": {
     "slide_type": "slide"
    }
   },
   "source": [
    "## Basic plot"
   ]
  },
  {
   "cell_type": "code",
   "execution_count": null,
   "metadata": {},
   "outputs": [],
   "source": [
    "import pandas as pd\n",
    "import numpy as np\n",
    "import matplotlib.pyplot as plt\n",
    "np.random.seed(123)\n",
    "df = pd.DataFrame({'A': np.random.randn(365).cumsum(0), \n",
    "                   'B': np.random.randn(365).cumsum(0) + 20,\n",
    "                   'C': np.random.randn(365).cumsum(0) - 20}, \n",
    "                  index=pd.date_range('04/27/2017', periods=365))\n",
    "df.plot()"
   ]
  },
  {
   "cell_type": "markdown",
   "metadata": {
    "slideshow": {
     "slide_type": "slide"
    }
   },
   "source": [
    "### Basic plot: Scatter"
   ]
  },
  {
   "cell_type": "code",
   "execution_count": null,
   "metadata": {},
   "outputs": [],
   "source": [
    "import pandas as pd\n",
    "import numpy as np\n",
    "import matplotlib.pyplot as plt\n",
    "np.random.seed(123)\n",
    "df = pd.DataFrame({'A': np.random.randn(365).cumsum(0), \n",
    "                   'B': np.random.randn(365).cumsum(0) + 20,\n",
    "                   'C': np.random.randn(365).cumsum(0) - 20}, \n",
    "                  index=pd.date_range('04/27/2020', periods=365))\n",
    "df.plot('A','B', kind = 'scatter')"
   ]
  },
  {
   "cell_type": "markdown",
   "metadata": {
    "slideshow": {
     "slide_type": "slide"
    }
   },
   "source": [
    "## Scatterplot"
   ]
  },
  {
   "cell_type": "code",
   "execution_count": null,
   "metadata": {},
   "outputs": [],
   "source": [
    "import pandas as pd\n",
    "import numpy as np\n",
    "import matplotlib.pyplot as plt\n",
    "np.random.seed(123)\n",
    "df = pd.DataFrame({'Length': np.random.randn(365).cumsum(0), \n",
    "                   'Width': np.random.randn(365).cumsum(0) + 20,\n",
    "                   'Height': np.random.randn(365).cumsum(0) - 20}, \n",
    "                  index=pd.date_range('04/27/2020', periods=365))\n",
    "ax = df.plot.scatter('Length', 'Height', c='Width', colormap='viridis')\n",
    "ax.set_aspect(\"equal\")  # equal aspect ratio\n",
    "plt.show()"
   ]
  },
  {
   "cell_type": "markdown",
   "metadata": {
    "slideshow": {
     "slide_type": "slide"
    }
   },
   "source": [
    "## 3D Scatterplot\n",
    "\n",
    "* Same data, but as a 3D plot\n",
    "* We had to go back to using `matplotlib` directly for this\n",
    "* `pandas` does not allow us to create 3D scatterplots directly"
   ]
  },
  {
   "cell_type": "code",
   "execution_count": null,
   "metadata": {
    "scrolled": true,
    "slideshow": {
     "slide_type": "slide"
    }
   },
   "outputs": [],
   "source": [
    "from mpl_toolkits.mplot3d import Axes3D\n",
    "import matplotlib.pyplot as plt\n",
    "import numpy as np\n",
    "np.random.seed(123)\n",
    "df = pd.DataFrame({'Length': np.random.randn(365).cumsum(0), \n",
    "                   'Width': np.random.randn(365).cumsum(0) + 20,\n",
    "                   'Height': np.random.randn(365).cumsum(0) - 20}, \n",
    "                  index=pd.date_range('04/27/2020', periods=365))\n",
    "fig = plt.figure()\n",
    "ax = fig.add_subplot(111, projection='3d')\n",
    "plt.scatter(df[\"Length\"].values, df[\"Height\"].values, df[\"Width\"].values, c=df[\"Width\"].values, cmap='viridis')\n",
    "ax.set_xlabel('Length')\n",
    "ax.set_ylabel('Height')\n",
    "ax.set_zlabel('Width')\n",
    "plt.show()"
   ]
  },
  {
   "cell_type": "markdown",
   "metadata": {
    "slideshow": {
     "slide_type": "slide"
    }
   },
   "source": [
    "## Boxplot"
   ]
  },
  {
   "cell_type": "code",
   "execution_count": null,
   "metadata": {},
   "outputs": [],
   "source": [
    "import matplotlib.pyplot as plt\n",
    "import numpy as np\n",
    "import pandas as pd\n",
    "np.random.seed(123)\n",
    "df = pd.DataFrame({'Length': np.random.randn(365).cumsum(0), \n",
    "                   'Width': np.random.randn(365).cumsum(0) + 20,\n",
    "                   'Height': np.random.randn(365).cumsum(0) - 20}, \n",
    "                  index=pd.date_range('04/27/2020', periods=365))\n",
    "df.plot.box()\n",
    "plt.show()"
   ]
  },
  {
   "cell_type": "markdown",
   "metadata": {
    "slideshow": {
     "slide_type": "slide"
    }
   },
   "source": [
    "# Seaborn\n",
    "* powerful visualization package\n",
    "* builds upon Matplotlib but is at a higher level\n",
    "* works nicely with Pandas\n",
    "* has _endless_ capabilities\n",
    "* https://seaborn.pydata.org/"
   ]
  },
  {
   "cell_type": "markdown",
   "metadata": {
    "slideshow": {
     "slide_type": "slide"
    }
   },
   "source": [
    "## Scatterplot"
   ]
  },
  {
   "cell_type": "code",
   "execution_count": null,
   "metadata": {},
   "outputs": [],
   "source": [
    "import matplotlib.pyplot as plt\n",
    "import numpy as np\n",
    "import pandas as pd\n",
    "import seaborn as sns\n",
    "np.random.seed(123)\n",
    "df = pd.DataFrame({'Length': np.random.randn(365).cumsum(0), \n",
    "                   'Width': np.random.randn(365).cumsum(0) + 20,\n",
    "                   'Height': np.random.randn(365).cumsum(0) - 20}, \n",
    "                  index=pd.date_range('04/27/2020', periods=365))\n",
    "\n",
    "sns.scatterplot(x=df[\"Length\"], y=df[\"Width\"])\n",
    "plt.show()"
   ]
  },
  {
   "cell_type": "markdown",
   "metadata": {
    "slideshow": {
     "slide_type": "slide"
    }
   },
   "source": [
    "## KDE plot"
   ]
  },
  {
   "cell_type": "code",
   "execution_count": null,
   "metadata": {},
   "outputs": [],
   "source": [
    "import matplotlib.pyplot as plt\n",
    "import numpy as np\n",
    "import pandas as pd\n",
    "import seaborn as sns\n",
    "np.random.seed(123)\n",
    "df = pd.DataFrame({'Length': np.random.randn(365).cumsum(0), \n",
    "                   'Width': np.random.randn(365).cumsum(0) + 20,\n",
    "                   'Height': np.random.randn(365).cumsum(0) - 20}, \n",
    "                  index=pd.date_range('04/27/2020', periods=365))\n",
    "\n",
    "sns.kdeplot(data=df, fill=True, common_norm=False, palette=\"crest\",\n",
    "   alpha=.5, linewidth=0)\n",
    "plt.show()"
   ]
  },
  {
   "cell_type": "code",
   "execution_count": null,
   "metadata": {
    "slideshow": {
     "slide_type": "slide"
    }
   },
   "outputs": [],
   "source": [
    "import matplotlib.pyplot as plt\n",
    "import numpy as np\n",
    "import pandas as pd\n",
    "import seaborn as sns\n",
    "np.random.seed(123)\n",
    "df = pd.DataFrame({'Length': np.random.randn(365).cumsum(0), \n",
    "                   'Width': np.random.randn(365).cumsum(0) + 20,\n",
    "                   'Height': np.random.randn(365).cumsum(0) - 20}, \n",
    "                  index=pd.date_range('04/27/2020', periods=365))\n",
    "\n",
    "sns.kdeplot(x=df[\"Length\"], y=df[\"Width\"], \n",
    "           #fill=True, thresh=0, levels=100, cmap=\"mako\",\n",
    "           )\n",
    "plt.show()"
   ]
  },
  {
   "cell_type": "markdown",
   "metadata": {
    "slideshow": {
     "slide_type": "slide"
    }
   },
   "source": [
    "## Scatterplot with regression curve"
   ]
  },
  {
   "cell_type": "code",
   "execution_count": null,
   "metadata": {},
   "outputs": [],
   "source": [
    "import matplotlib.pyplot as plt\n",
    "import numpy as np\n",
    "import pandas as pd\n",
    "import seaborn as sns\n",
    "np.random.seed(123)\n",
    "df = pd.DataFrame({'Length': np.random.randn(365).cumsum(0), \n",
    "                   'Width': np.random.randn(365).cumsum(0) + 20,\n",
    "                   'Height': np.random.randn(365).cumsum(0) - 20}, \n",
    "                  index=pd.date_range('04/27/2020', periods=365))\n",
    "\n",
    "plt.figure()\n",
    "sns.regplot(x=df[\"Length\"], y=df[\"Width\"], order=3)\n",
    "# let's save the nice fig for later in a file\n",
    "plt.savefig(\"regplot.png\", format='png', dpi=800)\n",
    "plt.show()"
   ]
  },
  {
   "cell_type": "markdown",
   "metadata": {
    "slideshow": {
     "slide_type": "slide"
    }
   },
   "source": [
    "## Jointplot"
   ]
  },
  {
   "cell_type": "code",
   "execution_count": null,
   "metadata": {},
   "outputs": [],
   "source": [
    "import matplotlib.pyplot as plt\n",
    "import numpy as np\n",
    "import pandas as pd\n",
    "import seaborn as sns\n",
    "np.random.seed(123)\n",
    "df = pd.DataFrame({'Length': np.random.randn(365).cumsum(0), \n",
    "                   'Width': np.random.randn(365).cumsum(0) + 20,\n",
    "                   'Height': np.random.randn(365).cumsum(0) - 20}, \n",
    "                  index=pd.date_range('04/27/2020', periods=365))\n",
    "\n",
    "sns.jointplot(x=df[\"Length\"], y=df[\"Width\"], order=3, kind='reg')\n",
    "plt.show()"
   ]
  },
  {
   "cell_type": "markdown",
   "metadata": {
    "slideshow": {
     "slide_type": "slide"
    }
   },
   "source": [
    "## Large scatterplot with regression curve"
   ]
  },
  {
   "cell_type": "code",
   "execution_count": null,
   "metadata": {
    "scrolled": false,
    "slideshow": {
     "slide_type": "-"
    }
   },
   "outputs": [],
   "source": [
    "import matplotlib.pyplot as plt\n",
    "import numpy as np\n",
    "import pandas as pd\n",
    "import seaborn as sns\n",
    "np.random.seed(103)\n",
    "df = pd.DataFrame({'Length': np.random.randn(10000).cumsum(0), \n",
    "                   'Width': np.random.randn(10000).cumsum(0)})\n",
    "\n",
    "\n",
    "sns.regplot(x=df[\"Length\"], y=df[\"Width\"], order=5, scatter_kws={'s':2,'color':'black', 'alpha':0.1})\n",
    "plt.savefig(\"regplot2.png\", format='png', dpi=800)\n",
    "plt.show()"
   ]
  },
  {
   "cell_type": "markdown",
   "metadata": {
    "slideshow": {
     "slide_type": "slide"
    }
   },
   "source": [
    "## Large jointplot"
   ]
  },
  {
   "cell_type": "code",
   "execution_count": null,
   "metadata": {
    "scrolled": false,
    "slideshow": {
     "slide_type": "-"
    }
   },
   "outputs": [],
   "source": [
    "sns.jointplot(x=df[\"Length\"], y=df[\"Width\"], order=5, kind='reg', scatter_kws={'s':0.1,'color':'black'})\n",
    "plt.show()"
   ]
  },
  {
   "cell_type": "markdown",
   "metadata": {
    "slideshow": {
     "slide_type": "slide"
    }
   },
   "source": [
    "## Boxplot"
   ]
  },
  {
   "cell_type": "code",
   "execution_count": null,
   "metadata": {
    "slideshow": {
     "slide_type": "-"
    }
   },
   "outputs": [],
   "source": [
    "### import matplotlib.pyplot as plt\n",
    "import numpy as np\n",
    "import pandas as pd\n",
    "import seaborn as sns\n",
    "np.random.seed(123)\n",
    "df = pd.DataFrame({'Length': np.random.randn(365).cumsum(0), \n",
    "                   'Width': np.random.randn(365).cumsum(0) + 20,\n",
    "                   'Height': np.random.randn(365).cumsum(0) - 20}, \n",
    "                  index=pd.date_range('04/27/2020', periods=365))\n",
    "\n",
    "sns.boxplot(data=df)\n",
    "plt.show()"
   ]
  },
  {
   "cell_type": "markdown",
   "metadata": {
    "slideshow": {
     "slide_type": "slide"
    }
   },
   "source": [
    "## What about some regression testing (beyond just visualizing data)"
   ]
  },
  {
   "cell_type": "code",
   "execution_count": null,
   "metadata": {},
   "outputs": [],
   "source": [
    "import numpy as np\n",
    "import pandas as pd\n",
    "import statsmodels.api as sm\n",
    "\n",
    "np.random.seed(123)\n",
    "df = pd.DataFrame({'Length': np.random.randn(365).cumsum(0), \n",
    "                   'Width': np.random.randn(365).cumsum(0) + 20,\n",
    "                   'Height': np.random.randn(365).cumsum(0) - 20}, \n",
    "                  index=pd.date_range('04/27/2020', periods=365))\n",
    "\n",
    "res = sm.OLS.from_formula('Height ~ Length + I(Length**2) + Width + I(Width**2) + Length:Width',df).fit()\n",
    "print(res.summary())"
   ]
  },
  {
   "cell_type": "code",
   "execution_count": null,
   "metadata": {},
   "outputs": [],
   "source": []
  }
 ],
 "metadata": {
  "celltoolbar": "Slideshow",
  "kernelspec": {
   "display_name": "Python 3 (ipykernel)",
   "language": "python",
   "name": "python3"
  },
  "language_info": {
   "codemirror_mode": {
    "name": "ipython",
    "version": 3
   },
   "file_extension": ".py",
   "mimetype": "text/x-python",
   "name": "python",
   "nbconvert_exporter": "python",
   "pygments_lexer": "ipython3",
   "version": "3.8.11"
  }
 },
 "nbformat": 4,
 "nbformat_minor": 4
}
