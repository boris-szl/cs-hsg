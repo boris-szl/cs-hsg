{
 "cells": [
  {
   "cell_type": "markdown",
   "id": "203ad3f5-fff9-486b-84f6-efcd98c1dc19",
   "metadata": {},
   "source": [
    "## Mapping and Lambda"
   ]
  },
  {
   "cell_type": "code",
   "execution_count": 33,
   "id": "170c0849-2579-40ba-bb8f-fadf88703a26",
   "metadata": {},
   "outputs": [
    {
     "data": {
      "text/plain": [
       "[2, 4, 6, 8, 10]"
      ]
     },
     "execution_count": 33,
     "metadata": {},
     "output_type": "execute_result"
    }
   ],
   "source": [
    "list2 = [1,2,3,4,5]\n",
    "def f(x):\n",
    "    return x * 2\n",
    "list(map(f,list2))"
   ]
  },
  {
   "cell_type": "code",
   "execution_count": 23,
   "id": "2d268a0f-34cc-413d-ab9d-56fcaabec2bc",
   "metadata": {},
   "outputs": [
    {
     "data": {
      "text/plain": [
       "[4, 8, 12, 16, 20]"
      ]
     },
     "execution_count": 23,
     "metadata": {},
     "output_type": "execute_result"
    }
   ],
   "source": [
    "list(map(f,map(f, list2)))"
   ]
  },
  {
   "cell_type": "code",
   "execution_count": 24,
   "id": "09a7488a-9e37-48b3-88cc-ac1a6a140337",
   "metadata": {},
   "outputs": [
    {
     "data": {
      "text/plain": [
       "[4, 6, 8, 10, 12]"
      ]
     },
     "execution_count": 24,
     "metadata": {},
     "output_type": "execute_result"
    }
   ],
   "source": [
    "list(map(lambda x : x * 2, map(lambda x : x + 1, list2)))"
   ]
  },
  {
   "cell_type": "code",
   "execution_count": 28,
   "id": "9943298b-aaf2-4072-8eb4-c9cc149e9091",
   "metadata": {},
   "outputs": [
    {
     "data": {
      "text/plain": [
       "[0, 2, 0, 2, 0]"
      ]
     },
     "execution_count": 28,
     "metadata": {},
     "output_type": "execute_result"
    }
   ],
   "source": [
    "list(map(lambda x : x * 2, map(lambda x : x % 2 == 0, list2)))"
   ]
  },
  {
   "cell_type": "code",
   "execution_count": 34,
   "id": "08a51afa-88a6-4d8a-8085-4fd5d9aefdf4",
   "metadata": {},
   "outputs": [],
   "source": [
    "def g(x):\n",
    "    if x % 2 == 0:\n",
    "        return x * 2\n",
    "    return -x"
   ]
  },
  {
   "cell_type": "code",
   "execution_count": 35,
   "id": "4167429d-be20-4a6f-89b4-8c769897802c",
   "metadata": {},
   "outputs": [
    {
     "data": {
      "text/plain": [
       "[-1, 4, -3, 8, -5]"
      ]
     },
     "execution_count": 35,
     "metadata": {},
     "output_type": "execute_result"
    }
   ],
   "source": [
    "list(map(g, list2))"
   ]
  },
  {
   "cell_type": "markdown",
   "id": "d94da23c-ab71-4b5e-9ef6-bf18de9ff37e",
   "metadata": {},
   "source": [
    "## Difference between filtering and mapping"
   ]
  },
  {
   "cell_type": "markdown",
   "id": "67768a7b-c87c-474e-b64f-b7828ae53e60",
   "metadata": {},
   "source": [
    "Map takes all objects in a list and allows you to apply a function to it whereas Filter takes all objects in a list and runs that through a function to create a new list with all objects that return True in that function."
   ]
  },
  {
   "cell_type": "code",
   "execution_count": 12,
   "id": "157bc4af-10de-42a6-a56f-412720910a45",
   "metadata": {},
   "outputs": [
    {
     "data": {
      "text/plain": [
       "[1, 0, 1, 0, 1]"
      ]
     },
     "execution_count": 12,
     "metadata": {},
     "output_type": "execute_result"
    }
   ],
   "source": [
    "list(map(lambda x : x % 2, list2))"
   ]
  },
  {
   "cell_type": "code",
   "execution_count": 36,
   "id": "edaa84ab-00d1-454b-b03d-44e2145ad3d4",
   "metadata": {},
   "outputs": [
    {
     "data": {
      "text/plain": [
       "[2, 4]"
      ]
     },
     "execution_count": 36,
     "metadata": {},
     "output_type": "execute_result"
    }
   ],
   "source": [
    "list(filter(lambda x : x % 2 == 0, list2))"
   ]
  },
  {
   "cell_type": "code",
   "execution_count": 37,
   "id": "d04766c9-0166-4b53-9d16-ce599e1310c2",
   "metadata": {},
   "outputs": [
    {
     "data": {
      "text/plain": [
       "[False, True, False, True, False]"
      ]
     },
     "execution_count": 37,
     "metadata": {},
     "output_type": "execute_result"
    }
   ],
   "source": [
    "list(map(lambda x : x % 2 == 0, list2))"
   ]
  },
  {
   "cell_type": "code",
   "execution_count": 38,
   "id": "9e456ad4-fb00-485d-8b6d-6d8a024dd79c",
   "metadata": {},
   "outputs": [
    {
     "data": {
      "text/plain": [
       "[2, 4]"
      ]
     },
     "execution_count": 38,
     "metadata": {},
     "output_type": "execute_result"
    }
   ],
   "source": [
    "# the output of filtering is equivalent to the output of a list comprehension\n",
    "[odd for odd in list2 if odd % 2 == 0]"
   ]
  },
  {
   "cell_type": "markdown",
   "id": "2f9d2c1a-b11a-4e34-ae12-89662ac22fa3",
   "metadata": {},
   "source": [
    "### using map to create nested lists"
   ]
  },
  {
   "cell_type": "code",
   "execution_count": 148,
   "id": "42941728-da49-4529-8c1c-84a8d166ee6b",
   "metadata": {},
   "outputs": [
    {
     "data": {
      "text/plain": [
       "['red', 'red', 'red', 'red', 'red']"
      ]
     },
     "execution_count": 148,
     "metadata": {},
     "output_type": "execute_result"
    }
   ],
   "source": [
    "new = list(map(str, map(lambda x : x % 2 == 0, list2)))\n",
    "def get_color(l):\n",
    "    for v in l:\n",
    "        if v == \"True\":\n",
    "            return \"green\"\n",
    "        else:\n",
    "            return \"red\"\n",
    "colored = list(map(get_color, new))\n",
    "colored"
   ]
  },
  {
   "cell_type": "markdown",
   "id": "0c9211d2-bfc0-425a-99c7-b12da91ac478",
   "metadata": {},
   "source": [
    "## min(), max()"
   ]
  },
  {
   "cell_type": "code",
   "execution_count": 149,
   "id": "d7cddb07-679f-45c4-addf-c75d8364ec28",
   "metadata": {},
   "outputs": [
    {
     "data": {
      "text/plain": [
       "[1, 2, 3, 4, 5]"
      ]
     },
     "execution_count": 149,
     "metadata": {},
     "output_type": "execute_result"
    }
   ],
   "source": [
    "list3 = list2\n",
    "list3"
   ]
  },
  {
   "cell_type": "code",
   "execution_count": 164,
   "id": "1c92763a-96d1-4ce4-9dae-87c9b3f99398",
   "metadata": {},
   "outputs": [],
   "source": [
    "days_per_month = {'January': 31, 'February': 28, 'March': 31}"
   ]
  },
  {
   "cell_type": "code",
   "execution_count": 165,
   "id": "6bfcc150-e438-4311-bbf6-fb347cc4d819",
   "metadata": {},
   "outputs": [
    {
     "name": "stdout",
     "output_type": "stream",
     "text": [
      "January 31\n",
      "February 28\n",
      "March 31\n"
     ]
    }
   ],
   "source": [
    "for month, days in days_per_month.items():\n",
    "    print(month, days)"
   ]
  },
  {
   "cell_type": "code",
   "execution_count": 174,
   "id": "cfd2aee9-ef3c-4ec6-bba2-db65b88a90f1",
   "metadata": {},
   "outputs": [],
   "source": [
    "for month in days_per_month.keys():\n",
    "    print(month)"
   ]
  },
  {
   "cell_type": "code",
   "execution_count": 175,
   "id": "ac57dad6-94f5-4308-9c69-82d11b7b0ff1",
   "metadata": {},
   "outputs": [],
   "source": [
    "for days in days_per_month.values():\n",
    "    print(days)"
   ]
  },
  {
   "cell_type": "code",
   "execution_count": 176,
   "id": "1aa1265e-71e9-42df-b9db-bafeff6fb504",
   "metadata": {},
   "outputs": [
    {
     "ename": "KeyError",
     "evalue": "'January'",
     "output_type": "error",
     "traceback": [
      "\u001b[0;31m---------------------------------------------------------------------------\u001b[0m",
      "\u001b[0;31mKeyError\u001b[0m                                  Traceback (most recent call last)",
      "\u001b[0;32m/var/folders/js/lf9xkn9x7yg146j_k40r_0dw0000gn/T/ipykernel_2836/763604350.py\u001b[0m in \u001b[0;36m<module>\u001b[0;34m\u001b[0m\n\u001b[0;32m----> 1\u001b[0;31m \u001b[0mdays_per_month\u001b[0m\u001b[0;34m[\u001b[0m\u001b[0;34m\"January\"\u001b[0m\u001b[0;34m]\u001b[0m\u001b[0;34m\u001b[0m\u001b[0;34m\u001b[0m\u001b[0m\n\u001b[0m",
      "\u001b[0;31mKeyError\u001b[0m: 'January'"
     ]
    }
   ],
   "source": [
    "days_per_month[\"January\"]"
   ]
  },
  {
   "cell_type": "code",
   "execution_count": 177,
   "id": "703604d6-427a-435c-aed7-e7fb07408cb6",
   "metadata": {},
   "outputs": [],
   "source": [
    "days_per_month.clear()"
   ]
  },
  {
   "cell_type": "code",
   "execution_count": 178,
   "id": "561565f6-635f-44b2-aecc-9a4306cc4ce3",
   "metadata": {},
   "outputs": [
    {
     "data": {
      "text/plain": [
       "{}"
      ]
     },
     "execution_count": 178,
     "metadata": {},
     "output_type": "execute_result"
    }
   ],
   "source": [
    "days_per_month"
   ]
  },
  {
   "cell_type": "code",
   "execution_count": null,
   "id": "348bf730-5f7e-4cc4-a941-4faf396ca24e",
   "metadata": {},
   "outputs": [],
   "source": []
  },
  {
   "cell_type": "code",
   "execution_count": null,
   "id": "22e6e526-c217-4c5b-a804-61c33e918d46",
   "metadata": {},
   "outputs": [],
   "source": []
  }
 ],
 "metadata": {
  "kernelspec": {
   "display_name": "Python 3 (ipykernel)",
   "language": "python",
   "name": "python3"
  },
  "language_info": {
   "codemirror_mode": {
    "name": "ipython",
    "version": 3
   },
   "file_extension": ".py",
   "mimetype": "text/x-python",
   "name": "python",
   "nbconvert_exporter": "python",
   "pygments_lexer": "ipython3",
   "version": "3.8.8"
  }
 },
 "nbformat": 4,
 "nbformat_minor": 5
}
