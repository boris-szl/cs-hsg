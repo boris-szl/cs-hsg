{
 "cells": [
  {
   "cell_type": "code",
   "execution_count": 108,
   "id": "abad9020-054a-40c4-9a3a-448423223127",
   "metadata": {},
   "outputs": [],
   "source": [
    "import time\n",
    "import math\n",
    "import random as rand\n",
    "import numpy as np"
   ]
  },
  {
   "cell_type": "code",
   "execution_count": 64,
   "id": "ee4ade0e-b493-44e0-864c-41f4957929db",
   "metadata": {},
   "outputs": [
    {
     "name": "stdout",
     "output_type": "stream",
     "text": [
      "1\n",
      "2\n",
      "3\n",
      "4\n",
      "5\n",
      "6\n",
      "7\n",
      "8\n",
      "9\n"
     ]
    }
   ],
   "source": [
    "# range(lb,ub), wobei die obere Grenze exklusive ist.\n",
    "# Also range() == [a,b) : a <= x < b (rechtsoffenes Intervall\n",
    "for i in range(1,10):\n",
    "    print(i)"
   ]
  },
  {
   "cell_type": "code",
   "execution_count": 65,
   "id": "a4a0fda4-e55e-4c42-b5ea-ac0f894b31eb",
   "metadata": {},
   "outputs": [
    {
     "data": {
      "text/plain": [
       "float"
      ]
     },
     "execution_count": 65,
     "metadata": {},
     "output_type": "execute_result"
    }
   ],
   "source": [
    "x = 2\n",
    "y = 3.2\n",
    "z = 2 * 3.2\n",
    "type(z)"
   ]
  },
  {
   "cell_type": "code",
   "execution_count": 66,
   "id": "a3395cc8-33f8-4af7-982c-593420d45c78",
   "metadata": {},
   "outputs": [
    {
     "name": "stdout",
     "output_type": "stream",
     "text": [
      "7\n",
      "9\n",
      "11\n",
      "13\n"
     ]
    }
   ],
   "source": [
    "# range(a,b,step_expression)\n",
    "for i in range(7,15,2):\n",
    "    print(i)"
   ]
  },
  {
   "cell_type": "code",
   "execution_count": 67,
   "id": "72be9687-b5af-4561-9403-625daebf2f0d",
   "metadata": {},
   "outputs": [
    {
     "name": "stdout",
     "output_type": "stream",
     "text": [
      "<class 'str'>\n",
      "<class 'str'>\n",
      "<class 'str'>\n"
     ]
    }
   ],
   "source": [
    "# var iterates over a string where each char is a string dt\n",
    "var = 131\n",
    "ds = 0\n",
    "for i in str(var):\n",
    "    print(type(i))"
   ]
  },
  {
   "cell_type": "code",
   "execution_count": 68,
   "id": "47d32b24-9296-4d29-852a-c1ce48bddf2f",
   "metadata": {},
   "outputs": [
    {
     "data": {
      "text/plain": [
       "5"
      ]
     },
     "execution_count": 68,
     "metadata": {},
     "output_type": "execute_result"
    }
   ],
   "source": [
    "# in order to sum up each digit in var we need to \n",
    "# convert 131 into a string, becasuse integer datatypes are not iterable\n",
    "# then we create var which holds the \n",
    "var = 131\n",
    "ds = 0\n",
    "for i in str(var):\n",
    "    ds += int(i)\n",
    "ds"
   ]
  },
  {
   "cell_type": "code",
   "execution_count": 69,
   "id": "75e7480c-669d-49aa-b83f-1747cef42e33",
   "metadata": {},
   "outputs": [
    {
     "data": {
      "text/plain": [
       "[1, 2, 3, 4, 5]"
      ]
     },
     "execution_count": 69,
     "metadata": {},
     "output_type": "execute_result"
    }
   ],
   "source": [
    "# Function map’s first argument is a function that receives one value and returns a new value.\n",
    "list(map(int, \"12345\"))"
   ]
  },
  {
   "cell_type": "code",
   "execution_count": 70,
   "id": "d64d2a5d-7313-49cb-9c77-4bc2c8db71a6",
   "metadata": {},
   "outputs": [
    {
     "data": {
      "text/plain": [
       "[0, 4, 8, 12, 16]"
      ]
     },
     "execution_count": 70,
     "metadata": {},
     "output_type": "execute_result"
    }
   ],
   "source": [
    "i = 0\n",
    "def f(x):\n",
    "    return x * 2\n",
    "result = list(map(f, map(f,range(5))))\n",
    "result"
   ]
  },
  {
   "cell_type": "code",
   "execution_count": 71,
   "id": "f21c57af-a08f-4400-85bd-20e2419aea40",
   "metadata": {},
   "outputs": [
    {
     "data": {
      "text/plain": [
       "[False, True, False, True, False, True, False]"
      ]
     },
     "execution_count": 71,
     "metadata": {},
     "output_type": "execute_result"
    }
   ],
   "source": [
    "result = list(map(lambda x : x % 2 != 0, [0,1,2,3,4,5,6]))\n",
    "result"
   ]
  },
  {
   "cell_type": "code",
   "execution_count": 72,
   "id": "32a57202-b479-485d-bc70-e82a1573ca50",
   "metadata": {},
   "outputs": [
    {
     "data": {
      "text/plain": [
       "\"['4', '3', '2', '1']\""
      ]
     },
     "execution_count": 72,
     "metadata": {},
     "output_type": "execute_result"
    }
   ],
   "source": [
    "def sort_num(number):\n",
    "    return str(sorted(str(number), reverse=True))\n",
    "sort_num(1234)"
   ]
  },
  {
   "cell_type": "code",
   "execution_count": 73,
   "id": "305ec112-2bb7-4d2d-b642-efaf39972d3e",
   "metadata": {},
   "outputs": [],
   "source": [
    "list1 = [\"a\",\"b\",3]\n",
    "var = \"132\"\n",
    "var_2 = 2"
   ]
  },
  {
   "cell_type": "code",
   "execution_count": 74,
   "id": "47c6d366-0c81-4899-b072-9eed3199acd6",
   "metadata": {},
   "outputs": [
    {
     "data": {
      "text/plain": [
       "True"
      ]
     },
     "execution_count": 74,
     "metadata": {},
     "output_type": "execute_result"
    }
   ],
   "source": [
    "all(list1)"
   ]
  },
  {
   "cell_type": "code",
   "execution_count": 75,
   "id": "b3710a0c-3c81-418d-b5fe-4d949fa8af3d",
   "metadata": {},
   "outputs": [],
   "source": [
    "dict_1 = {1: \"Apple\", 2 : \"Orange\"}"
   ]
  },
  {
   "cell_type": "code",
   "execution_count": 105,
   "id": "46d73515-a8e5-49e1-bce1-5b4572317cb8",
   "metadata": {},
   "outputs": [
    {
     "name": "stdout",
     "output_type": "stream",
     "text": [
      "The key = 1 and its associated value = Pineapple\n",
      "The key = 2 and its associated value = Orange\n"
     ]
    }
   ],
   "source": [
    "dict_1[1] = \"Pineapple\"\n",
    "for i,j in dict_1.items():\n",
    "    print(f\"The key = {i} and its associated value = {j}\")"
   ]
  },
  {
   "cell_type": "code",
   "execution_count": 107,
   "id": "2ea8ca4b-2c69-44ea-a443-dbb9916e9bad",
   "metadata": {},
   "outputs": [
    {
     "name": "stdout",
     "output_type": "stream",
     "text": [
      "2 2 2 2 2 2 2 2 2 2 2 2 2 2 2 "
     ]
    }
   ],
   "source": [
    "rand.seed(2)\n",
    "# we declare and initialize a list using list comprehension\n",
    "for j in [rand.randint(1,10) for i in range(15)]:\n",
    "    print(i, end=\" \")\n"
   ]
  },
  {
   "cell_type": "code",
   "execution_count": 184,
   "id": "daccf02f-fb91-4572-be30-2f83230adb9d",
   "metadata": {},
   "outputs": [
    {
     "data": {
      "text/plain": [
       "[3, 10, 2, 5, 2, 8, 8, 8, 7, 4]"
      ]
     },
     "execution_count": 184,
     "metadata": {},
     "output_type": "execute_result"
    }
   ],
   "source": [
    "rand.seed(1)\n",
    "list_3 = [rand.randint(1,10) for x in range(10)]\n",
    "list_3"
   ]
  },
  {
   "cell_type": "code",
   "execution_count": 186,
   "id": "268f128d-f781-4f2f-ba96-ddb0fd511aa8",
   "metadata": {},
   "outputs": [
    {
     "data": {
      "text/plain": [
       "[10, 2, 2, 8, 8, 8, 4]"
      ]
     },
     "execution_count": 186,
     "metadata": {},
     "output_type": "execute_result"
    }
   ],
   "source": [
    "list(filter(lambda x : x % 2 == 0 , list_3))"
   ]
  },
  {
   "cell_type": "code",
   "execution_count": null,
   "id": "a9e5120a-4688-4b4c-822b-a1d1591a1867",
   "metadata": {},
   "outputs": [],
   "source": []
  },
  {
   "cell_type": "code",
   "execution_count": null,
   "id": "de91ca28-2ca4-40d3-b624-30ec9dc2e6a7",
   "metadata": {},
   "outputs": [],
   "source": []
  },
  {
   "cell_type": "code",
   "execution_count": null,
   "id": "6cd1e27d-76e3-4418-b4f4-8ee763dac756",
   "metadata": {},
   "outputs": [],
   "source": []
  },
  {
   "cell_type": "code",
   "execution_count": null,
   "id": "85cb55f3-47e3-4e34-a4f8-c5cc1d007014",
   "metadata": {},
   "outputs": [],
   "source": []
  },
  {
   "cell_type": "code",
   "execution_count": null,
   "id": "2f1098fe-9496-4a5f-ae5f-4c5ddef4da64",
   "metadata": {},
   "outputs": [],
   "source": []
  },
  {
   "cell_type": "code",
   "execution_count": null,
   "id": "2dbbdc51-ba19-45d1-917a-e1c2d674cada",
   "metadata": {},
   "outputs": [],
   "source": []
  },
  {
   "cell_type": "code",
   "execution_count": null,
   "id": "815fcc26-6826-44b1-8afb-19d1aa251f48",
   "metadata": {},
   "outputs": [],
   "source": []
  },
  {
   "cell_type": "code",
   "execution_count": null,
   "id": "db8dcb4d-0c9c-4d69-9f6b-58c50f4ca07b",
   "metadata": {},
   "outputs": [],
   "source": []
  }
 ],
 "metadata": {
  "kernelspec": {
   "display_name": "Python 3 (ipykernel)",
   "language": "python",
   "name": "python3"
  },
  "language_info": {
   "codemirror_mode": {
    "name": "ipython",
    "version": 3
   },
   "file_extension": ".py",
   "mimetype": "text/x-python",
   "name": "python",
   "nbconvert_exporter": "python",
   "pygments_lexer": "ipython3",
   "version": "3.8.8"
  }
 },
 "nbformat": 4,
 "nbformat_minor": 5
}
