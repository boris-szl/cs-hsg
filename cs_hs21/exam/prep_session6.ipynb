{
 "cells": [
  {
   "cell_type": "code",
   "execution_count": 56,
   "id": "6e3cd7fb-c62b-43b8-b258-040db39c4c8a",
   "metadata": {},
   "outputs": [],
   "source": [
    "import numpy as np\n",
    "import pandas as pd\n",
    "import time "
   ]
  },
  {
   "cell_type": "code",
   "execution_count": 57,
   "id": "edfe15d9-8684-44c1-b969-c37b106bd938",
   "metadata": {},
   "outputs": [
    {
     "name": "stdout",
     "output_type": "stream",
     "text": [
      "From: bbs.mirage@tsoft.net (Jerry Lee)\n",
      "Subject: Cobra 2.0 1-b-1 Video card HELP ME!!!!\n",
      "Organization: The TSoft BBS and Public Access Unix, +1 415 969 8238\n",
      "Lines: 22\n",
      "\n",
      "Does ANYONE out there in Net-land have any information on the Cobra 2.20 \n",
      "card?  The sticker on the end of the card reads\n",
      "        Model: Cobra 1-B-1\n",
      "        Bios:  Cobra v2.20\n",
      "\n",
      "I Havn't been able to find anything about it from anyone!  If you have \n",
      "any information on how to get a hold of the company which produces the \n",
      "card or know where any drivers are for it, PLEASE let me know!\n",
      "\n",
      "As far as I can tell, it's a CGA card that is taking up 2 of my 16-bit \n",
      "ISA slots but when I enable the test patterns, it displays much more than \n",
      "the usualy 4 CGA colors... At least 16 from what I can count.. Thanks!\n",
      "\n",
      "              .------------------------------------------.\n",
      "              : Internet: jele@eis.calstate.edu          :\n",
      "              :           bbs.mirage@gilligan.tsoft.net  :\n",
      "              :           bbs.mirage@tsoft.sf-bay.org    :\n",
      "              :           mirage@thetech.com             :\n",
      "              : UUCP    : apple.com!tsoft!bbs.mirage     :\n",
      "              `------------------------------------------'\n",
      " \n",
      "                    Computer and Video Imaging Major\n",
      "\n"
     ]
    }
   ],
   "source": [
    "from sklearn.datasets import fetch_20newsgroups\n",
    "twenty_train = fetch_20newsgroups(subset='train', categories=[\"comp.graphics\"], shuffle=True,random_state=42)\n",
    "print(twenty_train.data[0])"
   ]
  },
  {
   "cell_type": "code",
   "execution_count": 58,
   "id": "5f48c8fd-d287-4c96-b32d-8434df0f4e83",
   "metadata": {},
   "outputs": [
    {
     "data": {
      "text/plain": [
       "['comp.graphics']"
      ]
     },
     "execution_count": 58,
     "metadata": {},
     "output_type": "execute_result"
    }
   ],
   "source": [
    "train_df = pd.DataFrame(twenty_train.data, columns=[\"Text\"])\n",
    "twenty_train.target_names"
   ]
  },
  {
   "cell_type": "code",
   "execution_count": 59,
   "id": "f0dd028f-4d15-457e-8fe8-4428e9063ece",
   "metadata": {},
   "outputs": [
    {
     "data": {
      "text/plain": [
       "array([0, 0, 0, 0, 0, 0, 0, 0, 0, 0, 0, 0, 0, 0, 0, 0, 0, 0, 0, 0, 0, 0,\n",
       "       0, 0, 0, 0, 0, 0, 0, 0, 0, 0, 0, 0, 0, 0, 0, 0, 0, 0, 0, 0, 0, 0,\n",
       "       0, 0, 0, 0, 0, 0, 0, 0, 0, 0, 0, 0, 0, 0, 0, 0, 0, 0, 0, 0, 0, 0,\n",
       "       0, 0, 0, 0, 0, 0, 0, 0, 0, 0, 0, 0, 0, 0, 0, 0, 0, 0, 0, 0, 0, 0,\n",
       "       0, 0, 0, 0, 0, 0, 0, 0, 0, 0, 0, 0, 0, 0, 0, 0, 0, 0, 0, 0, 0, 0,\n",
       "       0, 0, 0, 0, 0, 0, 0, 0, 0, 0, 0, 0, 0, 0, 0, 0, 0, 0, 0, 0, 0, 0,\n",
       "       0, 0, 0, 0, 0, 0, 0, 0, 0, 0, 0, 0, 0, 0, 0, 0, 0, 0, 0, 0, 0, 0,\n",
       "       0, 0, 0, 0, 0, 0, 0, 0, 0, 0, 0, 0, 0, 0, 0, 0, 0, 0, 0, 0, 0, 0,\n",
       "       0, 0, 0, 0, 0, 0, 0, 0, 0, 0, 0, 0, 0, 0, 0, 0, 0, 0, 0, 0, 0, 0,\n",
       "       0, 0, 0, 0, 0, 0, 0, 0, 0, 0, 0, 0, 0, 0, 0, 0, 0, 0, 0, 0, 0, 0,\n",
       "       0, 0, 0, 0, 0, 0, 0, 0, 0, 0, 0, 0, 0, 0, 0, 0, 0, 0, 0, 0, 0, 0,\n",
       "       0, 0, 0, 0, 0, 0, 0, 0, 0, 0, 0, 0, 0, 0, 0, 0, 0, 0, 0, 0, 0, 0,\n",
       "       0, 0, 0, 0, 0, 0, 0, 0, 0, 0, 0, 0, 0, 0, 0, 0, 0, 0, 0, 0, 0, 0,\n",
       "       0, 0, 0, 0, 0, 0, 0, 0, 0, 0, 0, 0, 0, 0, 0, 0, 0, 0, 0, 0, 0, 0,\n",
       "       0, 0, 0, 0, 0, 0, 0, 0, 0, 0, 0, 0, 0, 0, 0, 0, 0, 0, 0, 0, 0, 0,\n",
       "       0, 0, 0, 0, 0, 0, 0, 0, 0, 0, 0, 0, 0, 0, 0, 0, 0, 0, 0, 0, 0, 0,\n",
       "       0, 0, 0, 0, 0, 0, 0, 0, 0, 0, 0, 0, 0, 0, 0, 0, 0, 0, 0, 0, 0, 0,\n",
       "       0, 0, 0, 0, 0, 0, 0, 0, 0, 0, 0, 0, 0, 0, 0, 0, 0, 0, 0, 0, 0, 0,\n",
       "       0, 0, 0, 0, 0, 0, 0, 0, 0, 0, 0, 0, 0, 0, 0, 0, 0, 0, 0, 0, 0, 0,\n",
       "       0, 0, 0, 0, 0, 0, 0, 0, 0, 0, 0, 0, 0, 0, 0, 0, 0, 0, 0, 0, 0, 0,\n",
       "       0, 0, 0, 0, 0, 0, 0, 0, 0, 0, 0, 0, 0, 0, 0, 0, 0, 0, 0, 0, 0, 0,\n",
       "       0, 0, 0, 0, 0, 0, 0, 0, 0, 0, 0, 0, 0, 0, 0, 0, 0, 0, 0, 0, 0, 0,\n",
       "       0, 0, 0, 0, 0, 0, 0, 0, 0, 0, 0, 0, 0, 0, 0, 0, 0, 0, 0, 0, 0, 0,\n",
       "       0, 0, 0, 0, 0, 0, 0, 0, 0, 0, 0, 0, 0, 0, 0, 0, 0, 0, 0, 0, 0, 0,\n",
       "       0, 0, 0, 0, 0, 0, 0, 0, 0, 0, 0, 0, 0, 0, 0, 0, 0, 0, 0, 0, 0, 0,\n",
       "       0, 0, 0, 0, 0, 0, 0, 0, 0, 0, 0, 0, 0, 0, 0, 0, 0, 0, 0, 0, 0, 0,\n",
       "       0, 0, 0, 0, 0, 0, 0, 0, 0, 0, 0, 0])"
      ]
     },
     "execution_count": 59,
     "metadata": {},
     "output_type": "execute_result"
    }
   ],
   "source": [
    "twenty_train.target"
   ]
  },
  {
   "cell_type": "code",
   "execution_count": 62,
   "id": "ab294910-3c6e-41b7-a87c-8a2b15ab540b",
   "metadata": {},
   "outputs": [
    {
     "name": "stderr",
     "output_type": "stream",
     "text": [
      "UsageError: Line magic function `%` not found.\n"
     ]
    }
   ],
   "source": [
    "%"
   ]
  },
  {
   "cell_type": "code",
   "execution_count": 98,
   "id": "0d8693f2-b4c3-4d6b-ab51-e530442c16d6",
   "metadata": {},
   "outputs": [
    {
     "name": "stdout",
     "output_type": "stream",
     "text": [
      "307 µs ± 27.6 µs per loop (mean ± std. dev. of 7 runs, 100 loops each)\n"
     ]
    }
   ],
   "source": [
    "%%timeit -n 100\n",
    "# we do a list comprehension for creating a list\n",
    "targets = [twenty_train.target_names[x] for x in twenty_train.target]"
   ]
  },
  {
   "cell_type": "code",
   "execution_count": 91,
   "id": "bdbe0273-d905-4f11-9b6a-f161d5b6d30b",
   "metadata": {},
   "outputs": [
    {
     "data": {
      "text/plain": [
       "0      comp.graphics\n",
       "1      comp.graphics\n",
       "2      comp.graphics\n",
       "3      comp.graphics\n",
       "4      comp.graphics\n",
       "           ...      \n",
       "579    comp.graphics\n",
       "580    comp.graphics\n",
       "581    comp.graphics\n",
       "582    comp.graphics\n",
       "583    comp.graphics\n",
       "Length: 584, dtype: object"
      ]
     },
     "execution_count": 91,
     "metadata": {},
     "output_type": "execute_result"
    }
   ],
   "source": [
    "pd.Series(data=targets)"
   ]
  },
  {
   "cell_type": "code",
   "execution_count": 100,
   "id": "f81a1f71-d8c2-4d52-b7b8-9d95512e0081",
   "metadata": {},
   "outputs": [
    {
     "data": {
      "text/html": [
       "<div>\n",
       "<style scoped>\n",
       "    .dataframe tbody tr th:only-of-type {\n",
       "        vertical-align: middle;\n",
       "    }\n",
       "\n",
       "    .dataframe tbody tr th {\n",
       "        vertical-align: top;\n",
       "    }\n",
       "\n",
       "    .dataframe thead th {\n",
       "        text-align: right;\n",
       "    }\n",
       "</style>\n",
       "<table border=\"1\" class=\"dataframe\">\n",
       "  <thead>\n",
       "    <tr style=\"text-align: right;\">\n",
       "      <th></th>\n",
       "      <th>Text</th>\n",
       "      <th>target</th>\n",
       "    </tr>\n",
       "  </thead>\n",
       "  <tbody>\n",
       "    <tr>\n",
       "      <th>0</th>\n",
       "      <td>From: bbs.mirage@tsoft.net (Jerry Lee)\\nSubjec...</td>\n",
       "      <td>comp.graphics</td>\n",
       "    </tr>\n",
       "    <tr>\n",
       "      <th>1</th>\n",
       "      <td>From: zyeh@caspian.usc.edu (zhenghao yeh)\\nSub...</td>\n",
       "      <td>comp.graphics</td>\n",
       "    </tr>\n",
       "    <tr>\n",
       "      <th>2</th>\n",
       "      <td>From: lau@auriga.rose.brandeis.edu (frankie t....</td>\n",
       "      <td>comp.graphics</td>\n",
       "    </tr>\n",
       "    <tr>\n",
       "      <th>3</th>\n",
       "      <td>From: weilej@cary115.its.rpi.edu (Jason Lee We...</td>\n",
       "      <td>comp.graphics</td>\n",
       "    </tr>\n",
       "    <tr>\n",
       "      <th>4</th>\n",
       "      <td>From: clldomps@cs.ruu.nl (Louis van Dompselaar...</td>\n",
       "      <td>comp.graphics</td>\n",
       "    </tr>\n",
       "    <tr>\n",
       "      <th>...</th>\n",
       "      <td>...</td>\n",
       "      <td>...</td>\n",
       "    </tr>\n",
       "    <tr>\n",
       "      <th>579</th>\n",
       "      <td>From: news@magnus.acs.ohio-state.edu\\nSubject:...</td>\n",
       "      <td>comp.graphics</td>\n",
       "    </tr>\n",
       "    <tr>\n",
       "      <th>580</th>\n",
       "      <td>From: u895027@franklin.cc.utas.edu.au (Mark Ma...</td>\n",
       "      <td>comp.graphics</td>\n",
       "    </tr>\n",
       "    <tr>\n",
       "      <th>581</th>\n",
       "      <td>Subject: XV for MS-DOS !!!\\nFrom: NO E-MAIL AD...</td>\n",
       "      <td>comp.graphics</td>\n",
       "    </tr>\n",
       "    <tr>\n",
       "      <th>582</th>\n",
       "      <td>From: oehler@yar.cs.wisc.edu (Wonko the Sane)\\...</td>\n",
       "      <td>comp.graphics</td>\n",
       "    </tr>\n",
       "    <tr>\n",
       "      <th>583</th>\n",
       "      <td>From: ani@ms.uky.edu (Aniruddha B. Deglurkar)\\...</td>\n",
       "      <td>comp.graphics</td>\n",
       "    </tr>\n",
       "  </tbody>\n",
       "</table>\n",
       "<p>584 rows × 2 columns</p>\n",
       "</div>"
      ],
      "text/plain": [
       "                                                  Text         target\n",
       "0    From: bbs.mirage@tsoft.net (Jerry Lee)\\nSubjec...  comp.graphics\n",
       "1    From: zyeh@caspian.usc.edu (zhenghao yeh)\\nSub...  comp.graphics\n",
       "2    From: lau@auriga.rose.brandeis.edu (frankie t....  comp.graphics\n",
       "3    From: weilej@cary115.its.rpi.edu (Jason Lee We...  comp.graphics\n",
       "4    From: clldomps@cs.ruu.nl (Louis van Dompselaar...  comp.graphics\n",
       "..                                                 ...            ...\n",
       "579  From: news@magnus.acs.ohio-state.edu\\nSubject:...  comp.graphics\n",
       "580  From: u895027@franklin.cc.utas.edu.au (Mark Ma...  comp.graphics\n",
       "581  Subject: XV for MS-DOS !!!\\nFrom: NO E-MAIL AD...  comp.graphics\n",
       "582  From: oehler@yar.cs.wisc.edu (Wonko the Sane)\\...  comp.graphics\n",
       "583  From: ani@ms.uky.edu (Aniruddha B. Deglurkar)\\...  comp.graphics\n",
       "\n",
       "[584 rows x 2 columns]"
      ]
     },
     "execution_count": 100,
     "metadata": {},
     "output_type": "execute_result"
    }
   ],
   "source": [
    "# we extend the columnlenght of our dataframe by \"target\" and assign the list values of the target\n",
    "train_df['target'] = pd.Series(data=targets)\n",
    "train_df # we loaded the dataset into a dataframe"
   ]
  },
  {
   "cell_type": "code",
   "execution_count": 107,
   "id": "e6103549-2a87-4789-9dd0-c49830d64f88",
   "metadata": {},
   "outputs": [
    {
     "name": "stdout",
     "output_type": "stream",
     "text": [
      "Counter({'Speed': 1, 'Performance': 1, 'Good': 1, 'Fast': 1, 'Slow': 1, 'Bad': 1, 'High': 1, 'Low': 1})\n"
     ]
    }
   ],
   "source": [
    "from collections import Counter\n",
    "lst = [\"Speed\", \"Performance\", \"Good\", \"Fast\", \"Slow\", \"Bad\", \"High\", \"Low\"]\n",
    "c = Counter(lst)\n",
    "print(c)"
   ]
  },
  {
   "cell_type": "code",
   "execution_count": 120,
   "id": "163d046f-2946-47b0-bc28-1f50d3e01a04",
   "metadata": {},
   "outputs": [
    {
     "data": {
      "text/plain": [
       "<584x13756 sparse matrix of type '<class 'numpy.int64'>'\n",
       "\twith 71794 stored elements in Compressed Sparse Row format>"
      ]
     },
     "execution_count": 120,
     "metadata": {},
     "output_type": "execute_result"
    }
   ],
   "source": [
    "from sklearn.feature_extraction.text import CountVectorizer, HashingVectorizer\n",
    "count_vectorizer = CountVectorizer()\n",
    "X_train = count_vectorizer.fit_transform(train_df[\"Text\"])\n",
    "X_train"
   ]
  },
  {
   "cell_type": "code",
   "execution_count": 130,
   "id": "6bccca9e-7107-444e-ab5d-96ec0760af32",
   "metadata": {},
   "outputs": [],
   "source": [
    "hash_vectorizer = HashingVectorizer()\n",
    "X_train = hash_vectorizer.fit_transform(train_df[\"Text\"])"
   ]
  },
  {
   "cell_type": "code",
   "execution_count": 174,
   "id": "d52df08b-c520-49bd-aa03-8f407bb4241c",
   "metadata": {},
   "outputs": [
    {
     "data": {
      "text/plain": [
       "(150, 4)"
      ]
     },
     "execution_count": 174,
     "metadata": {},
     "output_type": "execute_result"
    }
   ],
   "source": [
    "from sklearn import datasets\n",
    "iris = datasets.load_iris()\n",
    "df = pd.DataFrame(iris.data, columns=iris.feature_names)\n",
    "df.shape"
   ]
  },
  {
   "cell_type": "markdown",
   "id": "6cc97dc9-cd91-47eb-9e8f-561a53c900c2",
   "metadata": {},
   "source": [
    "each row is an object, whereas each column is an attribute / feature<br>\n",
    "the more features you have the higher the dimensionality?"
   ]
  },
  {
   "cell_type": "code",
   "execution_count": 176,
   "id": "29be91d5-1931-497e-8ca0-d1661b0feb9e",
   "metadata": {},
   "outputs": [
    {
     "data": {
      "text/html": [
       "<div>\n",
       "<style scoped>\n",
       "    .dataframe tbody tr th:only-of-type {\n",
       "        vertical-align: middle;\n",
       "    }\n",
       "\n",
       "    .dataframe tbody tr th {\n",
       "        vertical-align: top;\n",
       "    }\n",
       "\n",
       "    .dataframe thead th {\n",
       "        text-align: right;\n",
       "    }\n",
       "</style>\n",
       "<table border=\"1\" class=\"dataframe\">\n",
       "  <thead>\n",
       "    <tr style=\"text-align: right;\">\n",
       "      <th></th>\n",
       "      <th>0</th>\n",
       "    </tr>\n",
       "  </thead>\n",
       "  <tbody>\n",
       "    <tr>\n",
       "      <th>44</th>\n",
       "      <td>0</td>\n",
       "    </tr>\n",
       "    <tr>\n",
       "      <th>77</th>\n",
       "      <td>1</td>\n",
       "    </tr>\n",
       "    <tr>\n",
       "      <th>147</th>\n",
       "      <td>2</td>\n",
       "    </tr>\n",
       "    <tr>\n",
       "      <th>24</th>\n",
       "      <td>0</td>\n",
       "    </tr>\n",
       "    <tr>\n",
       "      <th>5</th>\n",
       "      <td>0</td>\n",
       "    </tr>\n",
       "  </tbody>\n",
       "</table>\n",
       "</div>"
      ],
      "text/plain": [
       "     0\n",
       "44   0\n",
       "77   1\n",
       "147  2\n",
       "24   0\n",
       "5    0"
      ]
     },
     "execution_count": 176,
     "metadata": {},
     "output_type": "execute_result"
    }
   ],
   "source": [
    "# get the labels\n",
    "labels = pd.DataFrame(iris.target)\n",
    "labels.sample(5)"
   ]
  },
  {
   "cell_type": "code",
   "execution_count": 177,
   "id": "532dbedf-d283-41e1-9918-568bd1b31d20",
   "metadata": {},
   "outputs": [
    {
     "data": {
      "text/plain": [
       "pandas.core.series.Series"
      ]
     },
     "execution_count": 177,
     "metadata": {},
     "output_type": "execute_result"
    }
   ],
   "source": [
    "labels = labels.apply(lambda x : iris.target_names[x])\n",
    "type(labels[0])"
   ]
  },
  {
   "cell_type": "code",
   "execution_count": 178,
   "id": "52ba5acf-bb78-42bd-8610-40f2c9fe78ba",
   "metadata": {},
   "outputs": [
    {
     "data": {
      "text/plain": [
       "(38, 2)"
      ]
     },
     "execution_count": 178,
     "metadata": {},
     "output_type": "execute_result"
    }
   ],
   "source": [
    "# train set and test set\n",
    "from sklearn.model_selection import train_test_split\n",
    "X_train, X_test, y_train, y_test = train_test_split(df.iloc[:,:2], labels[0])\n",
    "X_test.shape"
   ]
  },
  {
   "cell_type": "code",
   "execution_count": 185,
   "id": "0491b453-20d7-4e10-a248-15409a54f354",
   "metadata": {},
   "outputs": [
    {
     "data": {
      "text/plain": [
       "array(['virginica', 'virginica', 'versicolor', 'virginica', 'versicolor',\n",
       "       'virginica', 'virginica', 'virginica', 'setosa', 'versicolor'],\n",
       "      dtype=object)"
      ]
     },
     "execution_count": 185,
     "metadata": {},
     "output_type": "execute_result"
    }
   ],
   "source": [
    "from sklearn.neighbors import KNeighborsClassifier\n",
    "n_neighbors = 3\n",
    "clf = KNeighborsClassifier(n_neighbors)\n",
    "clf.fit(X_train, y_train)\n",
    "predictions = clf.predict(X_test)\n",
    "predictions[:10]"
   ]
  },
  {
   "cell_type": "code",
   "execution_count": 186,
   "id": "69d626b2-4147-4a9b-b1ff-d8c10fd0f98a",
   "metadata": {},
   "outputs": [
    {
     "data": {
      "text/plain": [
       "2"
      ]
     },
     "execution_count": 186,
     "metadata": {},
     "output_type": "execute_result"
    }
   ],
   "source": [
    "22 % 10"
   ]
  },
  {
   "cell_type": "code",
   "execution_count": 195,
   "id": "947ba8eb-c498-4b19-b4f7-6d3ca51e20cc",
   "metadata": {},
   "outputs": [
    {
     "data": {
      "text/plain": [
       "int"
      ]
     },
     "execution_count": 195,
     "metadata": {},
     "output_type": "execute_result"
    }
   ],
   "source": [
    "y = \"12\" + str(12)\n",
    "z = int(y)\n",
    "type(z)"
   ]
  },
  {
   "cell_type": "code",
   "execution_count": 194,
   "id": "91e98f60-81f2-45bd-a1fe-b771b985f7fb",
   "metadata": {},
   "outputs": [
    {
     "name": "stdout",
     "output_type": "stream",
     "text": [
      "b\n",
      "f\n"
     ]
    }
   ],
   "source": [
    "x = 12\n",
    "\n",
    "if x > 12:\n",
    "    print('a')\n",
    "elif x > 10:\n",
    "    print('b')\n",
    "elif x > 5:\n",
    "    print('c')\n",
    "else:\n",
    "    print('d')\n",
    "if x < 12:\n",
    "    print('e')\n",
    "else:\n",
    "    print('f')\n"
   ]
  },
  {
   "cell_type": "code",
   "execution_count": 196,
   "id": "9e97f8f9-b0b2-4ff0-86b8-a986544eb65c",
   "metadata": {},
   "outputs": [
    {
     "data": {
      "text/plain": [
       "0"
      ]
     },
     "execution_count": 196,
     "metadata": {},
     "output_type": "execute_result"
    }
   ],
   "source": [
    "36 % 12"
   ]
  },
  {
   "cell_type": "code",
   "execution_count": 201,
   "id": "9db884b5-7ba9-4edb-b284-470d359ea209",
   "metadata": {},
   "outputs": [],
   "source": [
    "def sum():\n",
    "    for i in range(1,1):\n",
    "        return i"
   ]
  },
  {
   "cell_type": "code",
   "execution_count": 204,
   "id": "1a2542ca-8561-4b45-bbea-356a73914043",
   "metadata": {},
   "outputs": [
    {
     "data": {
      "text/plain": [
       "NoneType"
      ]
     },
     "execution_count": 204,
     "metadata": {},
     "output_type": "execute_result"
    }
   ],
   "source": [
    "type(sum())"
   ]
  },
  {
   "cell_type": "code",
   "execution_count": 205,
   "id": "76dd38c6-fe1d-459f-8806-3ef99d1dd3a5",
   "metadata": {},
   "outputs": [
    {
     "data": {
      "text/plain": [
       "\"['4', '2', '1']\""
      ]
     },
     "execution_count": 205,
     "metadata": {},
     "output_type": "execute_result"
    }
   ],
   "source": [
    "number = 124\n",
    "str(sorted(str(number), reverse=True))"
   ]
  },
  {
   "cell_type": "code",
   "execution_count": 206,
   "id": "3ab63eb9-66e1-44db-8f79-085e551c13fb",
   "metadata": {},
   "outputs": [
    {
     "data": {
      "text/plain": [
       "0"
      ]
     },
     "execution_count": 206,
     "metadata": {},
     "output_type": "execute_result"
    }
   ],
   "source": [
    "0 % 2 "
   ]
  },
  {
   "cell_type": "code",
   "execution_count": null,
   "id": "36e134ed-ef4f-4612-ba50-6162752d79f1",
   "metadata": {},
   "outputs": [],
   "source": []
  }
 ],
 "metadata": {
  "kernelspec": {
   "display_name": "Python 3 (ipykernel)",
   "language": "python",
   "name": "python3"
  },
  "language_info": {
   "codemirror_mode": {
    "name": "ipython",
    "version": 3
   },
   "file_extension": ".py",
   "mimetype": "text/x-python",
   "name": "python",
   "nbconvert_exporter": "python",
   "pygments_lexer": "ipython3",
   "version": "3.8.8"
  }
 },
 "nbformat": 4,
 "nbformat_minor": 5
}
