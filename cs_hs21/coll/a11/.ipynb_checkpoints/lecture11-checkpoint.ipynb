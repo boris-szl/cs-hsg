{
 "cells": [
  {
   "cell_type": "markdown",
   "id": "5e511b96-7fc1-4370-8a65-ac0d813ea0d1",
   "metadata": {},
   "source": [
    "## Lecture 11: Machine Learning"
   ]
  },
  {
   "cell_type": "markdown",
   "id": "9dfc4d6d-e6b9-4767-a47a-9bc55bc886f3",
   "metadata": {},
   "source": [
    "## Import Modules"
   ]
  },
  {
   "cell_type": "code",
   "execution_count": 7,
   "id": "6f09064d-778d-470f-9f50-87e0e0e1aeed",
   "metadata": {},
   "outputs": [],
   "source": [
    "import pandas as pd\n",
    "import numpy as np\n",
    "import sklearn as sk\n",
    "import matplotlib.pyplot as plt"
   ]
  },
  {
   "cell_type": "markdown",
   "id": "a193e2a6-f1eb-4735-85fe-4bd6f1b0d4eb",
   "metadata": {},
   "source": [
    "## Types of Learning"
   ]
  },
  {
   "cell_type": "markdown",
   "id": "42f9670d-3ea2-42a7-bd8c-4c3035bfb49e",
   "metadata": {},
   "source": [
    "### Supervised Learning\n",
    "<ul>\n",
    "    <li>requires labelled data</li>\n",
    "    <li>because of labelled data, system is then able to generalize</li>\n",
    "    <li>then it is possible to give the system unseen data</li>\n",
    "</ul>"
   ]
  },
  {
   "cell_type": "markdown",
   "id": "872189d8-8cfb-4f2b-936f-d05dbb180135",
   "metadata": {},
   "source": [
    "### Unsupervised Learning\n",
    "<ul>\n",
    "    <li>does not require labeled data</li>\n",
    "    <li>goal: system learns the structure of the data</li>\n",
    "    <li>example is <b>clustering</b> where similiar elements are grouped together</li>\n",
    "</ul>"
   ]
  },
  {
   "cell_type": "code",
   "execution_count": 8,
   "id": "81aba9cc-6438-47c3-ad32-93034077937b",
   "metadata": {},
   "outputs": [],
   "source": [
    "## labels and classes are synonymous in ML"
   ]
  },
  {
   "cell_type": "markdown",
   "id": "6e566a31-24d9-470b-85d1-7ddb40b1e6e8",
   "metadata": {},
   "source": [
    "#### Clustering Algorithm\n",
    "<ul>\n",
    "    <li>assigns the labels, classes to corresponding clusters</li>\n",
    "    <li>it groups the labes</li>\n",
    "</ul>"
   ]
  },
  {
   "cell_type": "markdown",
   "id": "c9422fce-5516-4b05-9522-c3624b21d867",
   "metadata": {},
   "source": [
    "<b>What is a ML feature?</b><br>\n",
    "A feature is a measurable property that is used for training a system<br>\n",
    "<b>Example</b><br>\n",
    "Image: What color is a pixel?"
   ]
  },
  {
   "cell_type": "markdown",
   "id": "727b455b-af27-4149-920e-891e71d481ab",
   "metadata": {},
   "source": [
    "### Classification Target Types\n",
    "<ul>\n",
    "    <li><b>binary: </b>two classes (example: sentiment analysis</li>\n",
    "    <li><b>continuous: </b>used in regression problems. Output is a number</li>\n",
    "    <li><b>multiclass: </b>three or more classes</li>\n",
    "    <li><b>multilabels: </b>each item caan have one or more classes</li>\n",
    "</ul>"
   ]
  },
  {
   "cell_type": "markdown",
   "id": "f960a987-91ab-4436-b702-9c6b058e73cc",
   "metadata": {},
   "source": [
    "## Scikit Datasets"
   ]
  },
  {
   "cell_type": "code",
   "execution_count": 14,
   "id": "85d0a445-54af-4f70-bf55-ee9947b4b197",
   "metadata": {},
   "outputs": [],
   "source": [
    "from sklearn.datasets import fetch_20newsgroups\n",
    "twenty_train = fetch_20newsgroups(subset='train', categories=[\"comp.graphics\"], shuffle=True, random_state=42)"
   ]
  },
  {
   "cell_type": "code",
   "execution_count": 20,
   "id": "50fdbcb0-2c37-4701-b69d-7395dd2cf0df",
   "metadata": {},
   "outputs": [
    {
     "data": {
      "text/html": [
       "<div>\n",
       "<style scoped>\n",
       "    .dataframe tbody tr th:only-of-type {\n",
       "        vertical-align: middle;\n",
       "    }\n",
       "\n",
       "    .dataframe tbody tr th {\n",
       "        vertical-align: top;\n",
       "    }\n",
       "\n",
       "    .dataframe thead th {\n",
       "        text-align: right;\n",
       "    }\n",
       "</style>\n",
       "<table border=\"1\" class=\"dataframe\">\n",
       "  <thead>\n",
       "    <tr style=\"text-align: right;\">\n",
       "      <th></th>\n",
       "      <th>text</th>\n",
       "      <th>target</th>\n",
       "    </tr>\n",
       "  </thead>\n",
       "  <tbody>\n",
       "    <tr>\n",
       "      <th>0</th>\n",
       "      <td>From: bbs.mirage@tsoft.net (Jerry Lee)\\nSubjec...</td>\n",
       "      <td>comp.graphics</td>\n",
       "    </tr>\n",
       "    <tr>\n",
       "      <th>1</th>\n",
       "      <td>From: zyeh@caspian.usc.edu (zhenghao yeh)\\nSub...</td>\n",
       "      <td>comp.graphics</td>\n",
       "    </tr>\n",
       "    <tr>\n",
       "      <th>2</th>\n",
       "      <td>From: lau@auriga.rose.brandeis.edu (frankie t....</td>\n",
       "      <td>comp.graphics</td>\n",
       "    </tr>\n",
       "    <tr>\n",
       "      <th>3</th>\n",
       "      <td>From: weilej@cary115.its.rpi.edu (Jason Lee We...</td>\n",
       "      <td>comp.graphics</td>\n",
       "    </tr>\n",
       "    <tr>\n",
       "      <th>4</th>\n",
       "      <td>From: clldomps@cs.ruu.nl (Louis van Dompselaar...</td>\n",
       "      <td>comp.graphics</td>\n",
       "    </tr>\n",
       "    <tr>\n",
       "      <th>...</th>\n",
       "      <td>...</td>\n",
       "      <td>...</td>\n",
       "    </tr>\n",
       "    <tr>\n",
       "      <th>579</th>\n",
       "      <td>From: news@magnus.acs.ohio-state.edu\\nSubject:...</td>\n",
       "      <td>comp.graphics</td>\n",
       "    </tr>\n",
       "    <tr>\n",
       "      <th>580</th>\n",
       "      <td>From: u895027@franklin.cc.utas.edu.au (Mark Ma...</td>\n",
       "      <td>comp.graphics</td>\n",
       "    </tr>\n",
       "    <tr>\n",
       "      <th>581</th>\n",
       "      <td>Subject: XV for MS-DOS !!!\\nFrom: NO E-MAIL AD...</td>\n",
       "      <td>comp.graphics</td>\n",
       "    </tr>\n",
       "    <tr>\n",
       "      <th>582</th>\n",
       "      <td>From: oehler@yar.cs.wisc.edu (Wonko the Sane)\\...</td>\n",
       "      <td>comp.graphics</td>\n",
       "    </tr>\n",
       "    <tr>\n",
       "      <th>583</th>\n",
       "      <td>From: ani@ms.uky.edu (Aniruddha B. Deglurkar)\\...</td>\n",
       "      <td>comp.graphics</td>\n",
       "    </tr>\n",
       "  </tbody>\n",
       "</table>\n",
       "<p>584 rows × 2 columns</p>\n",
       "</div>"
      ],
      "text/plain": [
       "                                                  text         target\n",
       "0    From: bbs.mirage@tsoft.net (Jerry Lee)\\nSubjec...  comp.graphics\n",
       "1    From: zyeh@caspian.usc.edu (zhenghao yeh)\\nSub...  comp.graphics\n",
       "2    From: lau@auriga.rose.brandeis.edu (frankie t....  comp.graphics\n",
       "3    From: weilej@cary115.its.rpi.edu (Jason Lee We...  comp.graphics\n",
       "4    From: clldomps@cs.ruu.nl (Louis van Dompselaar...  comp.graphics\n",
       "..                                                 ...            ...\n",
       "579  From: news@magnus.acs.ohio-state.edu\\nSubject:...  comp.graphics\n",
       "580  From: u895027@franklin.cc.utas.edu.au (Mark Ma...  comp.graphics\n",
       "581  Subject: XV for MS-DOS !!!\\nFrom: NO E-MAIL AD...  comp.graphics\n",
       "582  From: oehler@yar.cs.wisc.edu (Wonko the Sane)\\...  comp.graphics\n",
       "583  From: ani@ms.uky.edu (Aniruddha B. Deglurkar)\\...  comp.graphics\n",
       "\n",
       "[584 rows x 2 columns]"
      ]
     },
     "execution_count": 20,
     "metadata": {},
     "output_type": "execute_result"
    }
   ],
   "source": [
    "train_df = pd.DataFrame(twenty_train.data, columns=[\"text\"])\n",
    "targets = [twenty_train.target_names[x] for x in twenty_train.target]\n",
    "train_df['target'] = pd.Series(data=targets)\n",
    "train_df"
   ]
  },
  {
   "cell_type": "code",
   "execution_count": null,
   "id": "d191a94f-dc7e-4fe3-a2cd-70608702c0f9",
   "metadata": {},
   "outputs": [],
   "source": []
  },
  {
   "cell_type": "code",
   "execution_count": null,
   "id": "8ea0e0da-0fa5-4f0d-ad2c-5e22715d6a4b",
   "metadata": {},
   "outputs": [],
   "source": []
  }
 ],
 "metadata": {
  "kernelspec": {
   "display_name": "Python 3",
   "language": "python",
   "name": "python3"
  },
  "language_info": {
   "codemirror_mode": {
    "name": "ipython",
    "version": 3
   },
   "file_extension": ".py",
   "mimetype": "text/x-python",
   "name": "python",
   "nbconvert_exporter": "python",
   "pygments_lexer": "ipython3",
   "version": "3.8.8"
  }
 },
 "nbformat": 4,
 "nbformat_minor": 5
}
