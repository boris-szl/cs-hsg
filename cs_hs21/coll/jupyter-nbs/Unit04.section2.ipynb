{
 "cells": [
  {
   "cell_type": "markdown",
   "id": "maritime-agent",
   "metadata": {
    "slideshow": {
     "slide_type": "slide"
    }
   },
   "source": [
    "# Lecture 4\n",
    "\n",
    "# Section 2: More on sequences (working with Lists, Tuples, lambda functions)\n",
    "\n",
    "Hint: All the examples and explanations from this second part of today's lecture can be found in chapter 5 of the book."
   ]
  },
  {
   "cell_type": "markdown",
   "id": "usual-collapse",
   "metadata": {
    "slideshow": {
     "slide_type": "slide"
    }
   },
   "source": [
    "## 2.1 Searching Sequences\n",
    "* **Searching** is the process of locating a particular **key** value. "
   ]
  },
  {
   "cell_type": "markdown",
   "id": "assigned-pennsylvania",
   "metadata": {
    "slideshow": {
     "slide_type": "slide"
    }
   },
   "source": [
    "### List Method index\n",
    "* Searches through a list from index 0 and returns the index of the _first_ element that matches the search key.\n",
    "* `ValueError` if the value is not in the list."
   ]
  },
  {
   "cell_type": "code",
   "execution_count": null,
   "id": "caroline-recording",
   "metadata": {},
   "outputs": [],
   "source": [
    "numbers = [3, 7, 1, 4, 2, 8, 5, 6]"
   ]
  },
  {
   "cell_type": "code",
   "execution_count": null,
   "id": "objective-kruger",
   "metadata": {},
   "outputs": [],
   "source": [
    "numbers.index(5)"
   ]
  },
  {
   "cell_type": "markdown",
   "id": "hispanic-momentum",
   "metadata": {
    "slideshow": {
     "slide_type": "slide"
    }
   },
   "source": [
    "### Specifying the Starting Index of a Search"
   ]
  },
  {
   "cell_type": "code",
   "execution_count": null,
   "id": "golden-satisfaction",
   "metadata": {},
   "outputs": [],
   "source": [
    "numbers *= 2"
   ]
  },
  {
   "cell_type": "code",
   "execution_count": null,
   "id": "round-margin",
   "metadata": {},
   "outputs": [],
   "source": [
    "numbers"
   ]
  },
  {
   "cell_type": "code",
   "execution_count": null,
   "id": "effective-foster",
   "metadata": {},
   "outputs": [],
   "source": [
    "numbers.index(5, 7)"
   ]
  },
  {
   "cell_type": "markdown",
   "id": "pleased-gather",
   "metadata": {
    "slideshow": {
     "slide_type": "slide"
    }
   },
   "source": [
    "### Specifying the Starting and Ending Indices of a Search\n",
    "* Look for the value `7` in the range of elements with indices `0` through `3`."
   ]
  },
  {
   "cell_type": "code",
   "execution_count": null,
   "id": "understood-dress",
   "metadata": {},
   "outputs": [],
   "source": [
    "numbers.index(7, 0, 4)"
   ]
  },
  {
   "cell_type": "markdown",
   "id": "appreciated-candy",
   "metadata": {
    "slideshow": {
     "slide_type": "slide"
    }
   },
   "source": [
    "### Operators `in` and `not in`\n",
    "* Operator `in` tests whether its right operand’s iterable contains the left operand’s value."
   ]
  },
  {
   "cell_type": "code",
   "execution_count": null,
   "id": "annoying-stocks",
   "metadata": {},
   "outputs": [],
   "source": [
    "1000 in numbers"
   ]
  },
  {
   "cell_type": "code",
   "execution_count": null,
   "id": "preliminary-probe",
   "metadata": {},
   "outputs": [],
   "source": [
    "5 in numbers"
   ]
  },
  {
   "cell_type": "markdown",
   "id": "peaceful-palmer",
   "metadata": {
    "slideshow": {
     "slide_type": "slide"
    }
   },
   "source": [
    "* Operator `not in` tests whether its right operand’s iterable does _not_ contain the left operand’s value."
   ]
  },
  {
   "cell_type": "code",
   "execution_count": null,
   "id": "federal-indicator",
   "metadata": {},
   "outputs": [],
   "source": [
    "1000 not in numbers"
   ]
  },
  {
   "cell_type": "code",
   "execution_count": null,
   "id": "handmade-appendix",
   "metadata": {},
   "outputs": [],
   "source": [
    "5 not in numbers"
   ]
  },
  {
   "cell_type": "markdown",
   "id": "applied-twist",
   "metadata": {
    "slideshow": {
     "slide_type": "slide"
    }
   },
   "source": [
    "### Using Operator `in` to Prevent a `ValueError`"
   ]
  },
  {
   "cell_type": "code",
   "execution_count": null,
   "id": "assumed-banana",
   "metadata": {},
   "outputs": [],
   "source": [
    "key = 1000"
   ]
  },
  {
   "cell_type": "code",
   "execution_count": null,
   "id": "republican-climb",
   "metadata": {},
   "outputs": [],
   "source": [
    "if key in numbers:\n",
    "    print(f'found {key} at index {numbers.index(key)}')\n",
    "else:\n",
    "    print(f'{key} not found')"
   ]
  },
  {
   "cell_type": "markdown",
   "id": "comparative-location",
   "metadata": {
    "slideshow": {
     "slide_type": "slide"
    }
   },
   "source": [
    "### Built-In Functions `any` and `all` \n",
    "* Built-in function **`any`** returns `True` if any item in its iterable argument is `True`. \n",
    "* Built-in function **`all`** returns `True` if all items in its iterable argument are `True`. \n",
    "* Nonzero values are `True` and 0 is `False`. \n",
    "* Non-empty iterable objects also evaluate to `True`, whereas any empty iterable evaluates to `False`."
   ]
  },
  {
   "cell_type": "markdown",
   "id": "proud-thomson",
   "metadata": {
    "slideshow": {
     "slide_type": "slide"
    }
   },
   "source": [
    "## 2.2 Simulating Stacks with Lists \n",
    "* Python does not have a built-in stack type.\n",
    "* Can think of a stack as a constrained list. \n",
    "* _Push_ using list method `append`. \n",
    "* _Pop_ using list method **`pop`** with no arguments to get items in last-in, first-out (LIFO) order."
   ]
  },
  {
   "cell_type": "code",
   "execution_count": null,
   "id": "manual-hanging",
   "metadata": {
    "slideshow": {
     "slide_type": "slide"
    }
   },
   "outputs": [],
   "source": [
    "stack = []"
   ]
  },
  {
   "cell_type": "code",
   "execution_count": null,
   "id": "aerial-powell",
   "metadata": {},
   "outputs": [],
   "source": [
    "stack.append('red')"
   ]
  },
  {
   "cell_type": "code",
   "execution_count": null,
   "id": "smooth-priority",
   "metadata": {},
   "outputs": [],
   "source": [
    "stack"
   ]
  },
  {
   "cell_type": "code",
   "execution_count": null,
   "id": "inclusive-crime",
   "metadata": {},
   "outputs": [],
   "source": [
    "stack.append('green')"
   ]
  },
  {
   "cell_type": "code",
   "execution_count": null,
   "id": "purple-rochester",
   "metadata": {},
   "outputs": [],
   "source": [
    "stack"
   ]
  },
  {
   "cell_type": "code",
   "execution_count": null,
   "id": "floral-contrast",
   "metadata": {},
   "outputs": [],
   "source": [
    "stack.pop()"
   ]
  },
  {
   "cell_type": "code",
   "execution_count": null,
   "id": "athletic-platform",
   "metadata": {},
   "outputs": [],
   "source": [
    "stack"
   ]
  },
  {
   "cell_type": "code",
   "execution_count": null,
   "id": "interim-hostel",
   "metadata": {},
   "outputs": [],
   "source": [
    "stack.pop()"
   ]
  },
  {
   "cell_type": "code",
   "execution_count": null,
   "id": "aware-genealogy",
   "metadata": {},
   "outputs": [],
   "source": [
    "stack"
   ]
  },
  {
   "cell_type": "code",
   "execution_count": null,
   "id": "obvious-boundary",
   "metadata": {},
   "outputs": [],
   "source": [
    "stack.pop()"
   ]
  },
  {
   "cell_type": "markdown",
   "id": "demanding-liability",
   "metadata": {
    "slideshow": {
     "slide_type": "slide"
    }
   },
   "source": [
    "## 2.3 List Comprehensions\n",
    "* Concise way to create new lists. \n",
    "* Replaces using `for` to iterate over a sequence and create a list."
   ]
  },
  {
   "cell_type": "code",
   "execution_count": null,
   "id": "moderate-dublin",
   "metadata": {},
   "outputs": [],
   "source": [
    "list1 = []"
   ]
  },
  {
   "cell_type": "code",
   "execution_count": null,
   "id": "anonymous-multiple",
   "metadata": {},
   "outputs": [],
   "source": [
    "for item in range(1, 6):\n",
    "    list1.append(item)"
   ]
  },
  {
   "cell_type": "code",
   "execution_count": null,
   "id": "psychological-theology",
   "metadata": {},
   "outputs": [],
   "source": [
    "list1"
   ]
  },
  {
   "cell_type": "markdown",
   "id": "becoming-amplifier",
   "metadata": {
    "slideshow": {
     "slide_type": "slide"
    }
   },
   "source": [
    "### Using a List Comprehension to Create a List of Integers"
   ]
  },
  {
   "cell_type": "code",
   "execution_count": null,
   "id": "homeless-channel",
   "metadata": {},
   "outputs": [],
   "source": [
    "list2 = [item for item in range(1, 6)]"
   ]
  },
  {
   "cell_type": "code",
   "execution_count": null,
   "id": "minimal-occurrence",
   "metadata": {},
   "outputs": [],
   "source": [
    "list2"
   ]
  },
  {
   "cell_type": "markdown",
   "id": "optical-avenue",
   "metadata": {},
   "source": [
    "* **`for` clause** iterates over the sequence produced by `range(1, 6)`. \n",
    "* For each `item`, the list comprehension evaluates the expression to the left of the `for` clause and places the expression’s value in the new list. "
   ]
  },
  {
   "cell_type": "markdown",
   "id": "veterinary-undergraduate",
   "metadata": {
    "slideshow": {
     "slide_type": "slide"
    }
   },
   "source": [
    "### Mapping: Performing Operations in a List Comprehension’s Expression\n",
    "* Mapping is a common functional-style programming operation that produces a result with the _same_ number of elements as the original data being mapped."
   ]
  },
  {
   "cell_type": "code",
   "execution_count": null,
   "id": "economic-address",
   "metadata": {},
   "outputs": [],
   "source": [
    "list3 = [item ** 3 for item in range(1, 6)]"
   ]
  },
  {
   "cell_type": "code",
   "execution_count": null,
   "id": "mobile-voice",
   "metadata": {},
   "outputs": [],
   "source": [
    "list3"
   ]
  },
  {
   "cell_type": "markdown",
   "id": "brief-harmony",
   "metadata": {
    "slideshow": {
     "slide_type": "slide"
    }
   },
   "source": [
    "### Filtering: List Comprehensions with `if` Clauses \n",
    "* Another common functional-style programming operation is **filtering** elements to select only those that match a condition. \n",
    "* Typically produces a list with _fewer_ elements than the data being filtered. "
   ]
  },
  {
   "cell_type": "code",
   "execution_count": null,
   "id": "atomic-local",
   "metadata": {},
   "outputs": [],
   "source": [
    "list4 = [item for item in range(1, 11) if item % 2 == 0]"
   ]
  },
  {
   "cell_type": "code",
   "execution_count": null,
   "id": "editorial-compact",
   "metadata": {},
   "outputs": [],
   "source": [
    "list4"
   ]
  },
  {
   "cell_type": "markdown",
   "id": "virtual-discipline",
   "metadata": {
    "slideshow": {
     "slide_type": "slide"
    }
   },
   "source": [
    "### List Comprehension That Processes Another List’s Elements \n",
    "* The `for` clause can process any iterable."
   ]
  },
  {
   "cell_type": "code",
   "execution_count": null,
   "id": "further-cache",
   "metadata": {},
   "outputs": [],
   "source": [
    "colors = ['red', 'orange', 'yellow', 'green', 'blue']"
   ]
  },
  {
   "cell_type": "code",
   "execution_count": null,
   "id": "invalid-energy",
   "metadata": {},
   "outputs": [],
   "source": [
    "colors2 = [item.upper() for item in colors]"
   ]
  },
  {
   "cell_type": "code",
   "execution_count": null,
   "id": "impaired-nightmare",
   "metadata": {},
   "outputs": [],
   "source": [
    "colors2"
   ]
  },
  {
   "cell_type": "code",
   "execution_count": null,
   "id": "middle-sociology",
   "metadata": {},
   "outputs": [],
   "source": [
    "colors"
   ]
  },
  {
   "cell_type": "markdown",
   "id": "major-subject",
   "metadata": {
    "slideshow": {
     "slide_type": "slide"
    }
   },
   "source": [
    "## 2.4 Generator Expressions\n",
    "* Like list comprehensions, but create iterable **generator objects** that produce values **on demand**. \n",
    "* Known as **lazy evaluation**. \n",
    "* For large numbers of items, creating lists can take substantial memory and time. \n",
    "* **Generator expressions** can reduce memory consumption and improve performance if the whole list is not needed at once. "
   ]
  },
  {
   "cell_type": "code",
   "execution_count": null,
   "id": "manual-annex",
   "metadata": {},
   "outputs": [],
   "source": [
    "numbers = [10, 3, 7, 1, 9, 4, 2, 8, 5, 6]"
   ]
  },
  {
   "cell_type": "code",
   "execution_count": null,
   "id": "lucky-supplement",
   "metadata": {},
   "outputs": [],
   "source": [
    "for value in (x ** 2 for x in numbers if x % 2 != 0):\n",
    "    print(value, end='  ')"
   ]
  },
  {
   "cell_type": "code",
   "execution_count": null,
   "id": "joint-japan",
   "metadata": {},
   "outputs": [],
   "source": [
    "squares_of_odds = (x ** 2 for x in numbers if x % 2 != 0)"
   ]
  },
  {
   "cell_type": "code",
   "execution_count": null,
   "id": "diagnostic-continent",
   "metadata": {},
   "outputs": [],
   "source": [
    "squares_of_odds"
   ]
  },
  {
   "cell_type": "markdown",
   "id": "roman-spread",
   "metadata": {},
   "source": [
    "* Output indicates that `square_of_odds` is a **generator object** that was created from a **generator expression (`<genexpr>`)**."
   ]
  },
  {
   "cell_type": "markdown",
   "id": "saving-latino",
   "metadata": {
    "slideshow": {
     "slide_type": "slide"
    }
   },
   "source": [
    "## 2.5 Filter, Map and Reduce \n",
    "* Built-in `filter` and `map` functions also perform filtering and mapping."
   ]
  },
  {
   "cell_type": "markdown",
   "id": "armed-explosion",
   "metadata": {
    "slideshow": {
     "slide_type": "slide"
    }
   },
   "source": [
    "### Filtering a Sequence’s Values with the Built-In `filter` Function\n"
   ]
  },
  {
   "cell_type": "code",
   "execution_count": null,
   "id": "outstanding-thread",
   "metadata": {},
   "outputs": [],
   "source": [
    "numbers = [10, 3, 7, 1, 9, 4, 2, 8, 5, 6]"
   ]
  },
  {
   "cell_type": "code",
   "execution_count": null,
   "id": "assisted-trademark",
   "metadata": {},
   "outputs": [],
   "source": [
    "def is_odd(x):\n",
    "    \"\"\"Returns True only if x is odd.\"\"\"\n",
    "    return x % 2 != 0"
   ]
  },
  {
   "cell_type": "code",
   "execution_count": null,
   "id": "genuine-missile",
   "metadata": {},
   "outputs": [],
   "source": [
    "list(filter(is_odd, numbers))"
   ]
  },
  {
   "cell_type": "markdown",
   "id": "quick-christianity",
   "metadata": {},
   "source": [
    "* Functions are objects that you can assign to variables, pass to other functions and return from functions. \n",
    "* Functions that receive other functions as arguments are a functional-style capability called **higher-order functions**. \n",
    "* `filter`’s first argument must be a function that receives one argument and returns `True` if the value should be included in the result. \n",
    "* Higher-order functions may also return a function as a result.\n",
    "* `filter` returns an iterator, so `filter`’s results are not produced until you iterate through them&mdash;lazy evaluation. "
   ]
  },
  {
   "cell_type": "code",
   "execution_count": null,
   "id": "continuing-liberia",
   "metadata": {},
   "outputs": [],
   "source": [
    "[item for item in numbers if is_odd(item)]"
   ]
  },
  {
   "cell_type": "markdown",
   "id": "coupled-digest",
   "metadata": {
    "slideshow": {
     "slide_type": "slide"
    }
   },
   "source": [
    "### Using a `lambda` rather than a Function \n",
    "* For simple functions like `is_odd` that `return` only a _single expression’s value_, you can use a **lambda expression** (or simply a **lambda**) to define the function inline. "
   ]
  },
  {
   "cell_type": "code",
   "execution_count": null,
   "id": "dying-beads",
   "metadata": {},
   "outputs": [],
   "source": [
    "list(filter(lambda x: x % 2 != 0, numbers))"
   ]
  },
  {
   "cell_type": "markdown",
   "id": "visible-machinery",
   "metadata": {},
   "source": [
    "* A lambda expression is an _anonymous function\n",
    "* Begins with the **`lambda`** keyword followed by a comma-separated parameter list, a colon (`:`) and an expression. \n",
    "* A `lambda` _implicitly_ returns its expression’s value. "
   ]
  },
  {
   "cell_type": "markdown",
   "id": "central-drama",
   "metadata": {
    "slideshow": {
     "slide_type": "slide"
    }
   },
   "source": [
    "### Mapping a Sequence’s Values to New Values"
   ]
  },
  {
   "cell_type": "code",
   "execution_count": null,
   "id": "native-egyptian",
   "metadata": {},
   "outputs": [],
   "source": [
    "numbers"
   ]
  },
  {
   "cell_type": "code",
   "execution_count": null,
   "id": "systematic-spotlight",
   "metadata": {},
   "outputs": [],
   "source": [
    "list(map(lambda x: x ** 2, numbers))"
   ]
  },
  {
   "cell_type": "markdown",
   "id": "spread-subsection",
   "metadata": {},
   "source": [
    "* Function `map`’s first argument is a function that receives one value and returns a new value.\n",
    "* equivalent list comprehension:"
   ]
  },
  {
   "cell_type": "code",
   "execution_count": null,
   "id": "transsexual-pension",
   "metadata": {},
   "outputs": [],
   "source": [
    "[item ** 2 for item in numbers]"
   ]
  },
  {
   "cell_type": "markdown",
   "id": "colored-turtle",
   "metadata": {
    "slideshow": {
     "slide_type": "slide"
    }
   },
   "source": [
    "### Combining `filter` and `map`"
   ]
  },
  {
   "cell_type": "code",
   "execution_count": null,
   "id": "cardiac-canal",
   "metadata": {},
   "outputs": [],
   "source": [
    "list(map(lambda x: x ** 2, \n",
    "         filter(lambda x: x % 2 != 0, numbers)))"
   ]
  },
  {
   "cell_type": "markdown",
   "id": "demanding-dictionary",
   "metadata": {},
   "source": [
    "* Equivalent list comprehension:"
   ]
  },
  {
   "cell_type": "code",
   "execution_count": null,
   "id": "individual-resource",
   "metadata": {},
   "outputs": [],
   "source": [
    "[x ** 2 for x in numbers if x % 2 != 0]"
   ]
  },
  {
   "cell_type": "markdown",
   "id": "frank-desktop",
   "metadata": {
    "slideshow": {
     "slide_type": "slide"
    }
   },
   "source": [
    "### Reduction: Totaling the Elements of a Sequence with `sum` \n",
    "* Reductions process a sequence’s elements into a single value. \n",
    "    * E.g., `len`, `sum`, `min` and `max`. "
   ]
  },
  {
   "cell_type": "markdown",
   "id": "stock-shepherd",
   "metadata": {
    "slideshow": {
     "slide_type": "notes"
    }
   },
   "source": [
    "\n",
    "\n",
    " ------\n",
    "&copy;1992&ndash;2020 by Pearson Education, Inc. All Rights Reserved. This content is based on Chapter 1 of the book [**Intro to Python for Computer Science and Data Science: Learning to Program with AI, Big Data and the Cloud**](https://amzn.to/2VvdnxE).         "
   ]
  }
 ],
 "metadata": {
  "celltoolbar": "Slideshow",
  "kernelspec": {
   "display_name": "Python 3",
   "language": "python",
   "name": "python3"
  },
  "language_info": {
   "codemirror_mode": {
    "name": "ipython",
    "version": 3
   },
   "file_extension": ".py",
   "mimetype": "text/x-python",
   "name": "python",
   "nbconvert_exporter": "python",
   "pygments_lexer": "ipython3",
   "version": "3.8.8"
  }
 },
 "nbformat": 4,
 "nbformat_minor": 5
}
