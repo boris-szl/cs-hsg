{
 "cells": [
  {
   "cell_type": "code",
   "execution_count": 1,
   "id": "f06eabb0-d1f9-4ebe-a2c7-352ca1c9550d",
   "metadata": {},
   "outputs": [],
   "source": [
    "import sqlite3 as sql\n",
    "import pandas as pd"
   ]
  },
  {
   "cell_type": "code",
   "execution_count": 2,
   "id": "87b0a41e-8359-41d4-8ba0-7e17a21af946",
   "metadata": {},
   "outputs": [],
   "source": [
    "# establish connection with db\n",
    "# tables of the database: authors, author_ISBN, titles\n",
    "connection = sql.connect(\"books.db\")"
   ]
  },
  {
   "cell_type": "code",
   "execution_count": 6,
   "id": "3b9d7ae2-01d6-4fb1-a8e7-ed995d558d7a",
   "metadata": {},
   "outputs": [
    {
     "data": {
      "text/html": [
       "<div>\n",
       "<style scoped>\n",
       "    .dataframe tbody tr th:only-of-type {\n",
       "        vertical-align: middle;\n",
       "    }\n",
       "\n",
       "    .dataframe tbody tr th {\n",
       "        vertical-align: top;\n",
       "    }\n",
       "\n",
       "    .dataframe thead th {\n",
       "        text-align: right;\n",
       "    }\n",
       "</style>\n",
       "<table border=\"1\" class=\"dataframe\">\n",
       "  <thead>\n",
       "    <tr style=\"text-align: right;\">\n",
       "      <th></th>\n",
       "      <th>first</th>\n",
       "      <th>last</th>\n",
       "    </tr>\n",
       "    <tr>\n",
       "      <th>id</th>\n",
       "      <th></th>\n",
       "      <th></th>\n",
       "    </tr>\n",
       "  </thead>\n",
       "  <tbody>\n",
       "    <tr>\n",
       "      <th>1</th>\n",
       "      <td>Paul</td>\n",
       "      <td>Deitel</td>\n",
       "    </tr>\n",
       "    <tr>\n",
       "      <th>2</th>\n",
       "      <td>Harvey</td>\n",
       "      <td>Deitel</td>\n",
       "    </tr>\n",
       "    <tr>\n",
       "      <th>3</th>\n",
       "      <td>Abbey</td>\n",
       "      <td>Deitel</td>\n",
       "    </tr>\n",
       "    <tr>\n",
       "      <th>4</th>\n",
       "      <td>Dan</td>\n",
       "      <td>Quirk</td>\n",
       "    </tr>\n",
       "    <tr>\n",
       "      <th>5</th>\n",
       "      <td>Alexander</td>\n",
       "      <td>Wald</td>\n",
       "    </tr>\n",
       "  </tbody>\n",
       "</table>\n",
       "</div>"
      ],
      "text/plain": [
       "        first    last\n",
       "id                   \n",
       "1        Paul  Deitel\n",
       "2      Harvey  Deitel\n",
       "3       Abbey  Deitel\n",
       "4         Dan   Quirk\n",
       "5   Alexander    Wald"
      ]
     },
     "execution_count": 6,
     "metadata": {},
     "output_type": "execute_result"
    }
   ],
   "source": [
    "pd.options.display.max_columns = 10\n",
    "pd.read_sql('SELECT * FROM authors', connection, index_col=['id'])"
   ]
  },
  {
   "cell_type": "code",
   "execution_count": null,
   "id": "16a18bfe-4e94-4a96-b58a-b6d9525c7895",
   "metadata": {},
   "outputs": [],
   "source": []
  }
 ],
 "metadata": {
  "kernelspec": {
   "display_name": "Python 3",
   "language": "python",
   "name": "python3"
  },
  "language_info": {
   "codemirror_mode": {
    "name": "ipython",
    "version": 3
   },
   "file_extension": ".py",
   "mimetype": "text/x-python",
   "name": "python",
   "nbconvert_exporter": "python",
   "pygments_lexer": "ipython3",
   "version": "3.8.8"
  }
 },
 "nbformat": 4,
 "nbformat_minor": 5
}
