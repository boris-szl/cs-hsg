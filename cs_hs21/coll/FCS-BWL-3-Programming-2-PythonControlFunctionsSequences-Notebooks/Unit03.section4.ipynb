{
 "cells": [
  {
   "cell_type": "markdown",
   "id": "maritime-agent",
   "metadata": {
    "slideshow": {
     "slide_type": "slide"
    }
   },
   "source": [
    "# Lecture 3\n",
    "\n",
    "# Section 4: Tuples\n",
    "\n",
    "Hint: All the examples and explanations from this second part of today's lecture can be found in chapter 5 of the book."
   ]
  },
  {
   "cell_type": "markdown",
   "id": "corresponding-collar",
   "metadata": {
    "slideshow": {
     "slide_type": "slide"
    }
   },
   "source": [
    "### Creating Tuples\n",
    "* To create an empty tuple, use empty parentheses."
   ]
  },
  {
   "cell_type": "code",
   "execution_count": null,
   "id": "dimensional-pendant",
   "metadata": {},
   "outputs": [],
   "source": [
    "student_tuple = ()"
   ]
  },
  {
   "cell_type": "code",
   "execution_count": null,
   "id": "hazardous-boutique",
   "metadata": {},
   "outputs": [],
   "source": [
    "student_tuple"
   ]
  },
  {
   "cell_type": "code",
   "execution_count": null,
   "id": "innovative-request",
   "metadata": {},
   "outputs": [],
   "source": [
    "len(student_tuple)"
   ]
  },
  {
   "cell_type": "markdown",
   "id": "operating-reason",
   "metadata": {
    "slideshow": {
     "slide_type": "slide"
    }
   },
   "source": [
    "* Pack a tuple by separating its values with commas."
   ]
  },
  {
   "cell_type": "code",
   "execution_count": null,
   "id": "russian-yukon",
   "metadata": {},
   "outputs": [],
   "source": [
    "student_tuple = 'John', 'Green', 3.3"
   ]
  },
  {
   "cell_type": "code",
   "execution_count": null,
   "id": "departmental-advancement",
   "metadata": {},
   "outputs": [],
   "source": [
    "student_tuple"
   ]
  },
  {
   "cell_type": "code",
   "execution_count": null,
   "id": "extended-invasion",
   "metadata": {},
   "outputs": [],
   "source": [
    "len(student_tuple)"
   ]
  },
  {
   "cell_type": "markdown",
   "id": "falling-rescue",
   "metadata": {
    "slideshow": {
     "slide_type": "slide"
    }
   },
   "source": [
    "* When you output a tuple, Python always displays its contents in parentheses.\n",
    "* Parentheses are optional when creating a tuple. "
   ]
  },
  {
   "cell_type": "code",
   "execution_count": null,
   "id": "exciting-adoption",
   "metadata": {},
   "outputs": [],
   "source": [
    "another_student_tuple = ('Mary', 'Red', 3.3)"
   ]
  },
  {
   "cell_type": "code",
   "execution_count": null,
   "id": "tough-religion",
   "metadata": {},
   "outputs": [],
   "source": [
    "another_student_tuple"
   ]
  },
  {
   "cell_type": "markdown",
   "id": "adopted-governor",
   "metadata": {
    "slideshow": {
     "slide_type": "slide"
    }
   },
   "source": [
    "* A comma is required to create a one-element tuple."
   ]
  },
  {
   "cell_type": "code",
   "execution_count": null,
   "id": "static-elder",
   "metadata": {},
   "outputs": [],
   "source": [
    "a_singleton_tuple = ('red',)  # note the comma"
   ]
  },
  {
   "cell_type": "code",
   "execution_count": null,
   "id": "cleared-brain",
   "metadata": {},
   "outputs": [],
   "source": [
    "a_singleton_tuple"
   ]
  },
  {
   "cell_type": "markdown",
   "id": "outside-simulation",
   "metadata": {
    "slideshow": {
     "slide_type": "slide"
    }
   },
   "source": [
    "### Accessing Tuple Elements\n",
    "* You generally access tuple elements directly rather than iterating over them."
   ]
  },
  {
   "cell_type": "code",
   "execution_count": null,
   "id": "resistant-vegetarian",
   "metadata": {},
   "outputs": [],
   "source": [
    "time_tuple = (9, 16, 1)"
   ]
  },
  {
   "cell_type": "code",
   "execution_count": null,
   "id": "perceived-garbage",
   "metadata": {},
   "outputs": [],
   "source": [
    "time_tuple"
   ]
  },
  {
   "cell_type": "code",
   "execution_count": null,
   "id": "excess-surveillance",
   "metadata": {},
   "outputs": [],
   "source": [
    "time_tuple[0] * 3600 + time_tuple[1] * 60 + time_tuple[2]   "
   ]
  },
  {
   "cell_type": "markdown",
   "id": "green-basic",
   "metadata": {
    "slideshow": {
     "slide_type": "slide"
    }
   },
   "source": [
    "### Adding Items to a String or Tuple\n",
    "* `+=` can be used with strings and tuples, even though they’re _immutable_. \n",
    "* Creates new objects."
   ]
  },
  {
   "cell_type": "code",
   "execution_count": null,
   "id": "equivalent-knight",
   "metadata": {},
   "outputs": [],
   "source": [
    "tuple1 = (10, 20, 30)"
   ]
  },
  {
   "cell_type": "code",
   "execution_count": null,
   "id": "understood-arctic",
   "metadata": {},
   "outputs": [],
   "source": [
    "tuple2 = tuple1"
   ]
  },
  {
   "cell_type": "code",
   "execution_count": null,
   "id": "known-opportunity",
   "metadata": {},
   "outputs": [],
   "source": [
    "tuple2"
   ]
  },
  {
   "cell_type": "code",
   "execution_count": null,
   "id": "defensive-opportunity",
   "metadata": {},
   "outputs": [],
   "source": [
    "tuple1 += (40, 50)"
   ]
  },
  {
   "cell_type": "code",
   "execution_count": null,
   "id": "executive-committee",
   "metadata": {},
   "outputs": [],
   "source": [
    "tuple1   "
   ]
  },
  {
   "cell_type": "code",
   "execution_count": null,
   "id": "skilled-testament",
   "metadata": {},
   "outputs": [],
   "source": [
    "tuple2  "
   ]
  },
  {
   "cell_type": "markdown",
   "id": "taken-implementation",
   "metadata": {
    "slideshow": {
     "slide_type": "slide"
    }
   },
   "source": [
    " \n",
    "\n",
    "### Appending Tuples to Lists"
   ]
  },
  {
   "cell_type": "code",
   "execution_count": null,
   "id": "filled-intranet",
   "metadata": {},
   "outputs": [],
   "source": [
    "numbers = [1, 2, 3, 4, 5]"
   ]
  },
  {
   "cell_type": "code",
   "execution_count": null,
   "id": "perfect-selling",
   "metadata": {},
   "outputs": [],
   "source": [
    "numbers += (6, 7)"
   ]
  },
  {
   "cell_type": "code",
   "execution_count": null,
   "id": "australian-religious",
   "metadata": {},
   "outputs": [],
   "source": [
    "numbers"
   ]
  },
  {
   "cell_type": "markdown",
   "id": "dying-legislature",
   "metadata": {
    "slideshow": {
     "slide_type": "slide"
    }
   },
   "source": [
    "   \n",
    "\n",
    "### Tuples May Contain Mutable Objects"
   ]
  },
  {
   "cell_type": "code",
   "execution_count": null,
   "id": "ambient-collect",
   "metadata": {},
   "outputs": [],
   "source": [
    "student_tuple = ('Amanda', 'Blue', [98, 75, 87])"
   ]
  },
  {
   "cell_type": "code",
   "execution_count": null,
   "id": "automotive-guide",
   "metadata": {},
   "outputs": [],
   "source": [
    "student_tuple[2][1] = 85"
   ]
  },
  {
   "cell_type": "code",
   "execution_count": null,
   "id": "aging-galaxy",
   "metadata": {},
   "outputs": [],
   "source": [
    "student_tuple"
   ]
  },
  {
   "cell_type": "markdown",
   "id": "compliant-argument",
   "metadata": {
    "slideshow": {
     "slide_type": "notes"
    }
   },
   "source": [
    " ------\n",
    "&copy;1992&ndash;2020 by Pearson Education, Inc. All Rights Reserved. This content is based on Chapter 1 of the book [**Intro to Python for Computer Science and Data Science: Learning to Program with AI, Big Data and the Cloud**](https://amzn.to/2VvdnxE).         "
   ]
  }
 ],
 "metadata": {
  "celltoolbar": "Slideshow",
  "kernelspec": {
   "display_name": "Python 3 (ipykernel)",
   "language": "python",
   "name": "python3"
  },
  "language_info": {
   "codemirror_mode": {
    "name": "ipython",
    "version": 3
   },
   "file_extension": ".py",
   "mimetype": "text/x-python",
   "name": "python",
   "nbconvert_exporter": "python",
   "pygments_lexer": "ipython3",
   "version": "3.8.11"
  }
 },
 "nbformat": 4,
 "nbformat_minor": 5
}
