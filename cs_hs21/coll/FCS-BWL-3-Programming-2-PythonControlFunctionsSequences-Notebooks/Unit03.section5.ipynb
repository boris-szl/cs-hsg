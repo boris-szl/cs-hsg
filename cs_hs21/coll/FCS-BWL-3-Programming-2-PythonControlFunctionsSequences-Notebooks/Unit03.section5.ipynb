{
 "cells": [
  {
   "cell_type": "markdown",
   "id": "maritime-agent",
   "metadata": {
    "slideshow": {
     "slide_type": "slide"
    }
   },
   "source": [
    "# Lecture 3\n",
    "\n",
    "# Section 5: Working with Sequences\n",
    "\n",
    "Hint: All the examples and explanations from this second part of today's lecture can be found in chapter 5 of the book."
   ]
  },
  {
   "cell_type": "markdown",
   "id": "married-burner",
   "metadata": {
    "slideshow": {
     "slide_type": "slide"
    }
   },
   "source": [
    "## 5.1 Unpacking Sequences\n",
    "* Can unpack any sequence’s elements by assigning the sequence to a comma-separated list of variables (of the appropriate length)."
   ]
  },
  {
   "cell_type": "code",
   "execution_count": null,
   "id": "logical-officer",
   "metadata": {},
   "outputs": [],
   "source": [
    "student_tuple = ('Amanda', [98, 85, 87])"
   ]
  },
  {
   "cell_type": "code",
   "execution_count": null,
   "id": "satisfactory-revision",
   "metadata": {},
   "outputs": [],
   "source": [
    "first_name, grades = student_tuple"
   ]
  },
  {
   "cell_type": "code",
   "execution_count": null,
   "id": "encouraging-richards",
   "metadata": {},
   "outputs": [],
   "source": [
    "first_name"
   ]
  },
  {
   "cell_type": "code",
   "execution_count": null,
   "id": "ordered-rover",
   "metadata": {},
   "outputs": [],
   "source": [
    "grades"
   ]
  },
  {
   "cell_type": "code",
   "execution_count": null,
   "id": "underlying-tribe",
   "metadata": {
    "slideshow": {
     "slide_type": "slide"
    }
   },
   "outputs": [],
   "source": [
    "first, second = 'hi'"
   ]
  },
  {
   "cell_type": "code",
   "execution_count": null,
   "id": "enhanced-essay",
   "metadata": {},
   "outputs": [],
   "source": [
    "print(f'{first}  {second}')"
   ]
  },
  {
   "cell_type": "code",
   "execution_count": null,
   "id": "recent-opportunity",
   "metadata": {
    "slideshow": {
     "slide_type": "slide"
    }
   },
   "outputs": [],
   "source": [
    "number1, number2, number3 = [2, 3, 5]"
   ]
  },
  {
   "cell_type": "code",
   "execution_count": null,
   "id": "fifty-paper",
   "metadata": {},
   "outputs": [],
   "source": [
    "print(f'{number1}  {number2}  {number3}')"
   ]
  },
  {
   "cell_type": "code",
   "execution_count": null,
   "id": "confused-stylus",
   "metadata": {},
   "outputs": [],
   "source": [
    "number1, number2, number3 = range(10, 40, 10)"
   ]
  },
  {
   "cell_type": "code",
   "execution_count": null,
   "id": "asian-yellow",
   "metadata": {},
   "outputs": [],
   "source": [
    "print(f'{number1}  {number2}  {number3}')"
   ]
  },
  {
   "cell_type": "markdown",
   "id": "ideal-equilibrium",
   "metadata": {
    "slideshow": {
     "slide_type": "slide"
    }
   },
   "source": [
    "### Swapping Values Via Packing and Unpacking"
   ]
  },
  {
   "cell_type": "code",
   "execution_count": null,
   "id": "humanitarian-christianity",
   "metadata": {},
   "outputs": [],
   "source": [
    "number1 = 99"
   ]
  },
  {
   "cell_type": "code",
   "execution_count": null,
   "id": "failing-diversity",
   "metadata": {},
   "outputs": [],
   "source": [
    "number2 = 22"
   ]
  },
  {
   "cell_type": "code",
   "execution_count": null,
   "id": "sensitive-warrior",
   "metadata": {},
   "outputs": [],
   "source": [
    "number1, number2 = (number2, number1)"
   ]
  },
  {
   "cell_type": "code",
   "execution_count": null,
   "id": "empty-contest",
   "metadata": {},
   "outputs": [],
   "source": [
    "print(f'number1 = {number1}; number2 = {number2}')"
   ]
  },
  {
   "cell_type": "markdown",
   "id": "actual-receptor",
   "metadata": {
    "slideshow": {
     "slide_type": "slide"
    }
   },
   "source": [
    "### Accessing Indices and Values Safely with Built-in Function enumerate\n",
    "* Preferred way to access an element’s index _and_ value is the built-in function **`enumerate`**. \n",
    "* Receives an iterable and creates an iterator that, for each element, returns a tuple containing the element’s index and value.\n",
    "* Built-in function **`list`** creates a list from a sequence."
   ]
  },
  {
   "cell_type": "code",
   "execution_count": null,
   "id": "removable-fiction",
   "metadata": {},
   "outputs": [],
   "source": [
    "colors = ['red', 'orange', 'yellow']"
   ]
  },
  {
   "cell_type": "code",
   "execution_count": null,
   "id": "mounted-speaker",
   "metadata": {},
   "outputs": [],
   "source": [
    "list(enumerate(colors))"
   ]
  },
  {
   "cell_type": "markdown",
   "id": "apart-seating",
   "metadata": {
    "slideshow": {
     "slide_type": "slide"
    }
   },
   "source": [
    "* Built-in function **`tuple`** creates a tuple from a sequence."
   ]
  },
  {
   "cell_type": "code",
   "execution_count": null,
   "id": "closing-penguin",
   "metadata": {},
   "outputs": [],
   "source": [
    "tuple(enumerate(colors))"
   ]
  },
  {
   "cell_type": "code",
   "execution_count": null,
   "id": "interested-honduras",
   "metadata": {},
   "outputs": [],
   "source": [
    "for index, value in enumerate(colors):\n",
    "    print(f'{index}: {value}')"
   ]
  },
  {
   "cell_type": "markdown",
   "id": "forward-incidence",
   "metadata": {
    "slideshow": {
     "slide_type": "slide"
    }
   },
   "source": [
    "### Creating a Primitive Bar Chart"
   ]
  },
  {
   "cell_type": "code",
   "execution_count": null,
   "id": "color-pastor",
   "metadata": {},
   "outputs": [],
   "source": [
    "numbers = [19, 3, 15, 7, 11]\n",
    "\n",
    "print('\\nCreating a bar chart from numbers:')\n",
    "print(f'Index{\"Value\":>8}   Bar')\n",
    "\n",
    "for index, value in enumerate(numbers):\n",
    "    print(f'{index:>5}{value:>8}   {\"*\" * value}')"
   ]
  },
  {
   "cell_type": "markdown",
   "id": "alive-china",
   "metadata": {
    "slideshow": {
     "slide_type": "fragment"
    }
   },
   "source": [
    "* The expression \n",
    "```python\n",
    "\"*\" * value\n",
    "```\n",
    "creates a string consisting of `value` asterisks. \n",
    "* When used with a sequence, the multiplication operator (`*`) _repeats_ the sequence."
   ]
  },
  {
   "cell_type": "markdown",
   "id": "retired-delight",
   "metadata": {
    "slideshow": {
     "slide_type": "slide"
    }
   },
   "source": [
    "## 5.2 Sequence Slicing\n",
    "* Can **slice** sequences to create new sequences of the same type containing _subsets_ of the original elements. \n",
    "* Slice operations that do _not_ modify a sequence work identically for lists, tuples and strings."
   ]
  },
  {
   "cell_type": "markdown",
   "id": "processed-poster",
   "metadata": {
    "slideshow": {
     "slide_type": "slide"
    }
   },
   "source": [
    "### Specifying a Slice with Starting and Ending Indices"
   ]
  },
  {
   "cell_type": "code",
   "execution_count": null,
   "id": "respiratory-average",
   "metadata": {},
   "outputs": [],
   "source": [
    "numbers = [2, 3, 5, 7, 11, 13, 17, 19]"
   ]
  },
  {
   "cell_type": "code",
   "execution_count": null,
   "id": "analyzed-explorer",
   "metadata": {},
   "outputs": [],
   "source": [
    "numbers[2:6]"
   ]
  },
  {
   "cell_type": "markdown",
   "id": "insured-contribution",
   "metadata": {
    "slideshow": {
     "slide_type": "slide"
    }
   },
   "source": [
    "### Specifying a Slice with Only an Ending Index\n",
    "* Starting index `0` is assumed."
   ]
  },
  {
   "cell_type": "code",
   "execution_count": null,
   "id": "flexible-characteristic",
   "metadata": {},
   "outputs": [],
   "source": [
    "numbers[:6]"
   ]
  },
  {
   "cell_type": "code",
   "execution_count": null,
   "id": "essential-checkout",
   "metadata": {},
   "outputs": [],
   "source": [
    "numbers[0:6]"
   ]
  },
  {
   "cell_type": "markdown",
   "id": "closed-nicaragua",
   "metadata": {
    "slideshow": {
     "slide_type": "slide"
    }
   },
   "source": [
    "### Specifying a Slice with Only a Starting Index\n",
    "* Assumes the sequence's length as the ending index."
   ]
  },
  {
   "cell_type": "code",
   "execution_count": null,
   "id": "arabic-intake",
   "metadata": {},
   "outputs": [],
   "source": [
    "numbers[6:]"
   ]
  },
  {
   "cell_type": "code",
   "execution_count": null,
   "id": "synthetic-fighter",
   "metadata": {},
   "outputs": [],
   "source": [
    "numbers[6:len(numbers)]"
   ]
  },
  {
   "cell_type": "markdown",
   "id": "united-insulin",
   "metadata": {
    "slideshow": {
     "slide_type": "slide"
    }
   },
   "source": [
    "### Specifying a Slice with No Indices"
   ]
  },
  {
   "cell_type": "code",
   "execution_count": null,
   "id": "ordinary-relief",
   "metadata": {},
   "outputs": [],
   "source": [
    "numbers[:]"
   ]
  },
  {
   "cell_type": "markdown",
   "id": "false-security",
   "metadata": {
    "slideshow": {
     "slide_type": "slide"
    }
   },
   "source": [
    "### Slicing with Steps"
   ]
  },
  {
   "cell_type": "code",
   "execution_count": null,
   "id": "forty-springfield",
   "metadata": {},
   "outputs": [],
   "source": [
    "numbers[::2]"
   ]
  },
  {
   "cell_type": "markdown",
   "id": "awful-publication",
   "metadata": {
    "slideshow": {
     "slide_type": "slide"
    }
   },
   "source": [
    "### Slicing with Negative Indices and Steps"
   ]
  },
  {
   "cell_type": "code",
   "execution_count": null,
   "id": "acceptable-tribe",
   "metadata": {},
   "outputs": [],
   "source": [
    "numbers[::-1]"
   ]
  },
  {
   "cell_type": "code",
   "execution_count": null,
   "id": "useful-archive",
   "metadata": {},
   "outputs": [],
   "source": [
    "numbers[-1:-9:-1]"
   ]
  },
  {
   "cell_type": "markdown",
   "id": "threatened-checklist",
   "metadata": {
    "slideshow": {
     "slide_type": "slide"
    }
   },
   "source": [
    "### Modifying Lists Via Slices\n",
    "* Can modify a list by assigning to a slice."
   ]
  },
  {
   "cell_type": "code",
   "execution_count": null,
   "id": "subtle-millennium",
   "metadata": {},
   "outputs": [],
   "source": [
    "numbers[0:3] = ['two', 'three', 'five']"
   ]
  },
  {
   "cell_type": "code",
   "execution_count": null,
   "id": "productive-grill",
   "metadata": {},
   "outputs": [],
   "source": [
    "numbers"
   ]
  },
  {
   "cell_type": "code",
   "execution_count": null,
   "id": "front-announcement",
   "metadata": {},
   "outputs": [],
   "source": [
    "numbers[0:3] = []"
   ]
  },
  {
   "cell_type": "code",
   "execution_count": null,
   "id": "sporting-windsor",
   "metadata": {},
   "outputs": [],
   "source": [
    "numbers"
   ]
  },
  {
   "cell_type": "code",
   "execution_count": null,
   "id": "statistical-major",
   "metadata": {
    "slideshow": {
     "slide_type": "slide"
    }
   },
   "outputs": [],
   "source": [
    "numbers = [2, 3, 5, 7, 11, 13, 17, 19]"
   ]
  },
  {
   "cell_type": "code",
   "execution_count": null,
   "id": "plain-highlight",
   "metadata": {},
   "outputs": [],
   "source": [
    "numbers[::2] = [100, 100, 100, 100]"
   ]
  },
  {
   "cell_type": "code",
   "execution_count": null,
   "id": "spread-illustration",
   "metadata": {},
   "outputs": [],
   "source": [
    "numbers"
   ]
  },
  {
   "cell_type": "markdown",
   "id": "raising-footage",
   "metadata": {
    "slideshow": {
     "slide_type": "slide"
    }
   },
   "source": [
    "## 5.3 del Statement"
   ]
  },
  {
   "cell_type": "markdown",
   "id": "affected-split",
   "metadata": {
    "slideshow": {
     "slide_type": "slide"
    }
   },
   "source": [
    "### Deleting the Element at a Specific List Index"
   ]
  },
  {
   "cell_type": "code",
   "execution_count": null,
   "id": "iraqi-beginning",
   "metadata": {},
   "outputs": [],
   "source": [
    "numbers = list(range(0, 10))"
   ]
  },
  {
   "cell_type": "code",
   "execution_count": null,
   "id": "accepted-passage",
   "metadata": {},
   "outputs": [],
   "source": [
    "numbers"
   ]
  },
  {
   "cell_type": "code",
   "execution_count": null,
   "id": "orange-cycling",
   "metadata": {},
   "outputs": [],
   "source": [
    "del numbers[-1]"
   ]
  },
  {
   "cell_type": "code",
   "execution_count": null,
   "id": "challenging-orleans",
   "metadata": {},
   "outputs": [],
   "source": [
    "numbers"
   ]
  },
  {
   "cell_type": "markdown",
   "id": "distinct-climb",
   "metadata": {
    "slideshow": {
     "slide_type": "slide"
    }
   },
   "source": [
    "### Deleting a Slice from a List"
   ]
  },
  {
   "cell_type": "code",
   "execution_count": null,
   "id": "virtual-lawyer",
   "metadata": {},
   "outputs": [],
   "source": [
    "del numbers[0:2]"
   ]
  },
  {
   "cell_type": "code",
   "execution_count": null,
   "id": "north-yellow",
   "metadata": {},
   "outputs": [],
   "source": [
    "numbers"
   ]
  },
  {
   "cell_type": "code",
   "execution_count": null,
   "id": "exposed-ghana",
   "metadata": {},
   "outputs": [],
   "source": [
    "del numbers[::2]"
   ]
  },
  {
   "cell_type": "code",
   "execution_count": null,
   "id": "weird-memorabilia",
   "metadata": {},
   "outputs": [],
   "source": [
    "numbers"
   ]
  },
  {
   "cell_type": "markdown",
   "id": "angry-cemetery",
   "metadata": {
    "slideshow": {
     "slide_type": "slide"
    }
   },
   "source": [
    "### Deleting a Slice Representing the Entire List"
   ]
  },
  {
   "cell_type": "code",
   "execution_count": null,
   "id": "superb-swaziland",
   "metadata": {},
   "outputs": [],
   "source": [
    "del numbers[:]"
   ]
  },
  {
   "cell_type": "code",
   "execution_count": null,
   "id": "concerned-lawsuit",
   "metadata": {},
   "outputs": [],
   "source": [
    "numbers"
   ]
  },
  {
   "cell_type": "markdown",
   "id": "incorrect-brunei",
   "metadata": {
    "slideshow": {
     "slide_type": "slide"
    }
   },
   "source": [
    "### Deleting a Variable from the Current Session"
   ]
  },
  {
   "cell_type": "code",
   "execution_count": null,
   "id": "center-theology",
   "metadata": {},
   "outputs": [],
   "source": [
    "del numbers"
   ]
  },
  {
   "cell_type": "code",
   "execution_count": null,
   "id": "worse-brunswick",
   "metadata": {},
   "outputs": [],
   "source": [
    "numbers"
   ]
  },
  {
   "cell_type": "markdown",
   "id": "official-universal",
   "metadata": {
    "slideshow": {
     "slide_type": "slide"
    }
   },
   "source": [
    "## 5.4 Even more List Methods "
   ]
  },
  {
   "cell_type": "code",
   "execution_count": null,
   "id": "resident-double",
   "metadata": {
    "slideshow": {
     "slide_type": "slide"
    }
   },
   "outputs": [],
   "source": [
    "color_names = ['orange', 'yellow', 'green']"
   ]
  },
  {
   "cell_type": "markdown",
   "id": "electric-jungle",
   "metadata": {},
   "source": [
    "### Inserting an Element at a Specific List Index"
   ]
  },
  {
   "cell_type": "code",
   "execution_count": null,
   "id": "asian-cherry",
   "metadata": {},
   "outputs": [],
   "source": [
    "color_names.insert(0, 'red')"
   ]
  },
  {
   "cell_type": "code",
   "execution_count": null,
   "id": "special-enlargement",
   "metadata": {},
   "outputs": [],
   "source": [
    "color_names"
   ]
  },
  {
   "cell_type": "markdown",
   "id": "reflected-sellers",
   "metadata": {
    "slideshow": {
     "slide_type": "slide"
    }
   },
   "source": [
    "### Adding an Element to the End of a List"
   ]
  },
  {
   "cell_type": "code",
   "execution_count": null,
   "id": "greek-technique",
   "metadata": {},
   "outputs": [],
   "source": [
    "color_names.append('blue')"
   ]
  },
  {
   "cell_type": "code",
   "execution_count": null,
   "id": "major-reverse",
   "metadata": {},
   "outputs": [],
   "source": [
    "color_names"
   ]
  },
  {
   "cell_type": "markdown",
   "id": "pressing-projector",
   "metadata": {
    "slideshow": {
     "slide_type": "slide"
    }
   },
   "source": [
    "### Adding All the Elements of a Sequence to the End of a List\n",
    "* Equivalent to `+=`."
   ]
  },
  {
   "cell_type": "code",
   "execution_count": null,
   "id": "international-belize",
   "metadata": {},
   "outputs": [],
   "source": [
    "color_names.extend(['indigo', 'violet'])"
   ]
  },
  {
   "cell_type": "code",
   "execution_count": null,
   "id": "gorgeous-evening",
   "metadata": {},
   "outputs": [],
   "source": [
    "color_names"
   ]
  },
  {
   "cell_type": "code",
   "execution_count": null,
   "id": "streaming-potato",
   "metadata": {
    "slideshow": {
     "slide_type": "slide"
    }
   },
   "outputs": [],
   "source": [
    "sample_list = []"
   ]
  },
  {
   "cell_type": "code",
   "execution_count": null,
   "id": "promising-album",
   "metadata": {},
   "outputs": [],
   "source": [
    "s = 'abc'"
   ]
  },
  {
   "cell_type": "code",
   "execution_count": null,
   "id": "suspended-progressive",
   "metadata": {},
   "outputs": [],
   "source": [
    "sample_list.extend(s)"
   ]
  },
  {
   "cell_type": "code",
   "execution_count": null,
   "id": "afraid-laugh",
   "metadata": {},
   "outputs": [],
   "source": [
    "sample_list"
   ]
  },
  {
   "cell_type": "code",
   "execution_count": null,
   "id": "lovely-prospect",
   "metadata": {
    "slideshow": {
     "slide_type": "slide"
    }
   },
   "outputs": [],
   "source": [
    "t = (1, 2, 3)"
   ]
  },
  {
   "cell_type": "code",
   "execution_count": null,
   "id": "instant-shepherd",
   "metadata": {},
   "outputs": [],
   "source": [
    "sample_list.extend(t)"
   ]
  },
  {
   "cell_type": "code",
   "execution_count": null,
   "id": "going-bedroom",
   "metadata": {},
   "outputs": [],
   "source": [
    "sample_list"
   ]
  },
  {
   "cell_type": "markdown",
   "id": "german-discount",
   "metadata": {
    "slideshow": {
     "slide_type": "slide"
    }
   },
   "source": [
    "* Parentheses are required for the tuple argument below, because `extend` expects **one iterable argument**."
   ]
  },
  {
   "cell_type": "code",
   "execution_count": null,
   "id": "explicit-grounds",
   "metadata": {},
   "outputs": [],
   "source": [
    "sample_list.extend((4, 5, 6))  # note the extra parentheses"
   ]
  },
  {
   "cell_type": "code",
   "execution_count": null,
   "id": "eligible-denmark",
   "metadata": {},
   "outputs": [],
   "source": [
    "sample_list"
   ]
  },
  {
   "cell_type": "markdown",
   "id": "extreme-monthly",
   "metadata": {
    "slideshow": {
     "slide_type": "slide"
    }
   },
   "source": [
    "### Removing the First Occurrence of an Element in a List \n",
    "* `ValueError` occurs if `remove`’s argument is not in the list."
   ]
  },
  {
   "cell_type": "code",
   "execution_count": null,
   "id": "noticed-caribbean",
   "metadata": {},
   "outputs": [],
   "source": [
    "color_names.remove('green')"
   ]
  },
  {
   "cell_type": "code",
   "execution_count": null,
   "id": "civilian-necessity",
   "metadata": {},
   "outputs": [],
   "source": [
    "color_names"
   ]
  },
  {
   "cell_type": "markdown",
   "id": "greater-resource",
   "metadata": {
    "slideshow": {
     "slide_type": "slide"
    }
   },
   "source": [
    "### Emptying a List"
   ]
  },
  {
   "cell_type": "code",
   "execution_count": null,
   "id": "likely-coast",
   "metadata": {},
   "outputs": [],
   "source": [
    "color_names.clear()"
   ]
  },
  {
   "cell_type": "code",
   "execution_count": null,
   "id": "early-blink",
   "metadata": {},
   "outputs": [],
   "source": [
    "color_names"
   ]
  },
  {
   "cell_type": "markdown",
   "id": "precious-celebrity",
   "metadata": {
    "slideshow": {
     "slide_type": "slide"
    }
   },
   "source": [
    "### Counting the Number of Occurrences of an Item"
   ]
  },
  {
   "cell_type": "code",
   "execution_count": null,
   "id": "czech-fleece",
   "metadata": {},
   "outputs": [],
   "source": [
    "responses = [1, 2, 5, 4, 3, 5, 2, 1, 3, 3, \n",
    "             1, 4, 3, 3, 3, 2, 3, 3, 2, 2]"
   ]
  },
  {
   "cell_type": "code",
   "execution_count": null,
   "id": "infrared-product",
   "metadata": {},
   "outputs": [],
   "source": [
    "for i in range(1, 6):\n",
    "    print(f'{i} appears {responses.count(i)} times in responses')"
   ]
  },
  {
   "cell_type": "markdown",
   "id": "pediatric-relationship",
   "metadata": {
    "slideshow": {
     "slide_type": "slide"
    }
   },
   "source": [
    "### Reversing a List’s Elements\n",
    "* Method **`reverse`** reverses the contents of a list in place."
   ]
  },
  {
   "cell_type": "code",
   "execution_count": null,
   "id": "ethical-necklace",
   "metadata": {},
   "outputs": [],
   "source": [
    "color_names = ['red', 'orange', 'yellow', 'green', 'blue']"
   ]
  },
  {
   "cell_type": "code",
   "execution_count": null,
   "id": "organic-arena",
   "metadata": {},
   "outputs": [],
   "source": [
    "color_names.reverse()"
   ]
  },
  {
   "cell_type": "code",
   "execution_count": null,
   "id": "integrated-story",
   "metadata": {},
   "outputs": [],
   "source": [
    "color_names"
   ]
  },
  {
   "cell_type": "markdown",
   "id": "compliant-argument",
   "metadata": {
    "slideshow": {
     "slide_type": "notes"
    }
   },
   "source": [
    " ------\n",
    "&copy;1992&ndash;2020 by Pearson Education, Inc. All Rights Reserved. This content is based on Chapter 1 of the book [**Intro to Python for Computer Science and Data Science: Learning to Program with AI, Big Data and the Cloud**](https://amzn.to/2VvdnxE).         "
   ]
  }
 ],
 "metadata": {
  "celltoolbar": "Slideshow",
  "kernelspec": {
   "display_name": "Python 3 (ipykernel)",
   "language": "python",
   "name": "python3"
  },
  "language_info": {
   "codemirror_mode": {
    "name": "ipython",
    "version": 3
   },
   "file_extension": ".py",
   "mimetype": "text/x-python",
   "name": "python",
   "nbconvert_exporter": "python",
   "pygments_lexer": "ipython3",
   "version": "3.8.11"
  }
 },
 "nbformat": 4,
 "nbformat_minor": 5
}
